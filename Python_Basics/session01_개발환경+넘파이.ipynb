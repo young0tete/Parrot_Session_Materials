{
  "cells": [
    {
      "cell_type": "markdown",
      "metadata": {
        "id": "EZ10QDOhujeQ"
      },
      "source": [
        "## Anaconda\n",
        "- 파이썬 통합 개발환경(IDE)\n",
        "- jupyter notebook 지원\n",
        "- https://www.anaconda.com/products/individual\n",
        "\n",
        "## Jupyter notebook\n",
        "- Windows Powershell (shift+우클릭) / 명령 프롬프트(cmd) / Mac OS X terminal\n",
        " 실행\n",
        "- jupyter notebook 입력\n",
        "- H: 키보드 단축키 설명"
      ]
    },
    {
      "cell_type": "markdown",
      "metadata": {
        "id": "Bbayl_iTuXdj"
      },
      "source": [
        "## 데이터 처리 및 분석을 위한 파이썬 모듈\n",
        "\n",
        "1. Numpy: 다차원 배열 생성 및 연산\n",
        "2. Pandas: Dataframe 생성 및 조작\n",
        "3. Scipy: 과학 및 공학 연산 --> 통계분석\n",
        "4. Matplotlib: 시각화\n"
      ]
    },
    {
      "cell_type": "code",
      "execution_count": null,
      "metadata": {
        "id": "6LSy770o98I5",
        "outputId": "1dbc947a-d6dc-4538-902f-9ba454d7c360"
      },
      "outputs": [
        {
          "name": "stdout",
          "output_type": "stream",
          "text": [
            "Requirement already satisfied: numpy in c:\\users\\alstj\\anaconda3\\lib\\site-packages (1.21.5)\n",
            "Requirement already satisfied: scipy in c:\\users\\alstj\\anaconda3\\lib\\site-packages (1.7.3)\n",
            "Requirement already satisfied: pandas in c:\\users\\alstj\\anaconda3\\lib\\site-packages (1.4.2)\n",
            "Requirement already satisfied: matplotlib in c:\\users\\alstj\\anaconda3\\lib\\site-packages (3.5.1)\n",
            "Requirement already satisfied: pytz>=2020.1 in c:\\users\\alstj\\anaconda3\\lib\\site-packages (from pandas) (2021.3)\n",
            "Requirement already satisfied: python-dateutil>=2.8.1 in c:\\users\\alstj\\anaconda3\\lib\\site-packages (from pandas) (2.8.2)\n",
            "Requirement already satisfied: kiwisolver>=1.0.1 in c:\\users\\alstj\\anaconda3\\lib\\site-packages (from matplotlib) (1.3.2)\n",
            "Requirement already satisfied: pillow>=6.2.0 in c:\\users\\alstj\\anaconda3\\lib\\site-packages (from matplotlib) (9.0.1)\n",
            "Requirement already satisfied: packaging>=20.0 in c:\\users\\alstj\\anaconda3\\lib\\site-packages (from matplotlib) (21.3)\n",
            "Requirement already satisfied: pyparsing>=2.2.1 in c:\\users\\alstj\\anaconda3\\lib\\site-packages (from matplotlib) (3.0.4)\n",
            "Requirement already satisfied: fonttools>=4.22.0 in c:\\users\\alstj\\anaconda3\\lib\\site-packages (from matplotlib) (4.25.0)\n",
            "Requirement already satisfied: cycler>=0.10 in c:\\users\\alstj\\anaconda3\\lib\\site-packages (from matplotlib) (0.11.0)\n",
            "Requirement already satisfied: six>=1.5 in c:\\users\\alstj\\anaconda3\\lib\\site-packages (from python-dateutil>=2.8.1->pandas) (1.16.0)\n"
          ]
        }
      ],
      "source": [
        "#  모듈설치\n",
        "\n",
        "### Windows 명령 프롬프트(cmd), Powershell \n",
        "#pip install numpy scipy pandas matplotlib --user\n",
        "### Mac OS 터미널\n",
        "#pip3 install numpy scipy pandas matplotlib\n",
        "### Jupyter notebook\n",
        "#!pip install numpy scipy pandas matplotlib"
      ]
    },
    {
      "cell_type": "markdown",
      "metadata": {
        "id": "7KJh4KwXv0Eh"
      },
      "source": [
        "\n",
        "# Numpy\n",
        "Numerical Python<br/><br/>\n",
        "다차원 배열(multi-dimensional array)을 쉽고 빠르게 처리<br/>\n",
        "숫자로 이루어진 Table형 데이터를 다룰 때 주로 사용<br/>\n",
        "같은 종류의 data type을 원소로 함<br/>\n",
        "\n",
        "https://wikidocs.net/14569\n"
      ]
    },
    {
      "cell_type": "code",
      "execution_count": null,
      "metadata": {
        "id": "5giXsF_XVIGv"
      },
      "outputs": [],
      "source": [
        "import numpy as np"
      ]
    },
    {
      "cell_type": "code",
      "execution_count": null,
      "metadata": {
        "colab": {
          "base_uri": "https://localhost:8080/"
        },
        "id": "F7AIumTqVIGv",
        "outputId": "c94f7fca-6556-4796-b939-8cfc20314cd4"
      },
      "outputs": [
        {
          "output_type": "execute_result",
          "data": {
            "text/plain": [
              "[4, 5, 6, 7, 8, 9]"
            ]
          },
          "metadata": {},
          "execution_count": 2
        }
      ],
      "source": [
        "tmp = [j for j in range(10)]\n",
        "tmp1 = []\n",
        "for i in range(len(tmp)):\n",
        "    if i>3:\n",
        "        tmp1.append(i)\n",
        "tmp1"
      ]
    },
    {
      "cell_type": "code",
      "execution_count": null,
      "metadata": {
        "colab": {
          "base_uri": "https://localhost:8080/"
        },
        "id": "jvhk00A5VIGw",
        "outputId": "4115f7e5-ebf5-4e1d-8be6-c3509d9cd558"
      },
      "outputs": [
        {
          "output_type": "execute_result",
          "data": {
            "text/plain": [
              "[4, 5, 6, 7, 8, 9]"
            ]
          },
          "metadata": {},
          "execution_count": 3
        }
      ],
      "source": [
        "xx = np.array(tmp)\n",
        "list(xx[xx>3])"
      ]
    },
    {
      "cell_type": "markdown",
      "metadata": {
        "id": "rLkLfGovB81k"
      },
      "source": [
        "###차원에 따라 데이터를 부르는 이름\n",
        "- 1차원: vector<br/>\n",
        "- 2차원: matrix<br/>\n",
        "- 3차원: tensor\n"
      ]
    },
    {
      "cell_type": "markdown",
      "metadata": {
        "id": "FDPuzE48wbLQ"
      },
      "source": [
        "# Ndarray (N-dimensional Array) <b/>\n",
        "- numpy를 통해 생성되는 n차원의 배열 객체\n",
        "- 같은 data type만을 담을 수 있음\n",
        "- 배열과 배열 간에 다양항 수학적 연산 가능\n"
      ]
    },
    {
      "cell_type": "markdown",
      "source": [
        "# 리스트와 어레이의 차이점\n",
        "1. 선언 조건\n",
        "- 리스트 : 숫자형, 문자열 등 모든 자료 타입 보존 가능\n",
        "- 넘파이 배열 : 한 가지 자료형만 허용\n",
        "\n",
        "2. 연산\n",
        "- 리스트 : 덧셈 시 항목을 이어붙이는 concatenate 수행, 리스트 간의 다른 연산 허용X\n",
        "- 넘파이 배열 : 덧셈 시 항목 간 덧셈을 수행 , 실수에 대한 사칙연산 과정 수행 가능 \n",
        "\n",
        "3. 메소드\n",
        "- 자료형의 종류가 다르기 지원하는 메소드의 종류가 다름 \n",
        "(EX) 리스트에서는 mean, argmax, round 등 어레이 메소드 지원X\n",
        "\n",
        "4. 연산 속도\n",
        "- 같은 연산을 수행하는 경우 넘파이 배열이 연산 최적화가 더 잘되어 있음"
      ],
      "metadata": {
        "id": "83raclyznMct"
      }
    },
    {
      "cell_type": "markdown",
      "metadata": {
        "id": "gVBLKzHpVIGx"
      },
      "source": [
        "# ndarray 생성 함수\n",
        "- numpy.arange:np.arange([start,] stop[, step,], dtype=None)\n",
        "- numpy.linspace: numpy.linspace(start, stop, [num=50, endpoint=True, retstep=False, dtype=None)])\n",
        "- numpy.logspace: log scale"
      ]
    },
    {
      "cell_type": "code",
      "execution_count": null,
      "metadata": {
        "id": "TMNHW7GuQdd-"
      },
      "outputs": [],
      "source": [
        "#array 함수의 인수에 리스트를 지정하여 배열 형성 \n",
        "# numpy.array(object, [dtype=None, copy=True, order=None, subok=False, ndmin=0])\n",
        "# 추가 키워드 인자 사용 가능"
      ]
    },
    {
      "cell_type": "code",
      "execution_count": null,
      "metadata": {
        "colab": {
          "base_uri": "https://localhost:8080/"
        },
        "id": "16Fe-kMSF6Jn",
        "outputId": "e9e47ca4-866b-4eee-e2e7-43043da1f426",
        "scrolled": true
      },
      "outputs": [
        {
          "output_type": "stream",
          "name": "stdout",
          "text": [
            "[1, 2, 3, 4, 5] <class 'list'>\n",
            "[1 2 3 4 5] <class 'numpy.ndarray'>\n"
          ]
        }
      ],
      "source": [
        "import numpy as np\n",
        "a = [1,2,3,4,5]\n",
        "print(a, type(a))\n",
        "b= np.array(a)\n",
        "print(b, type(b))"
      ]
    },
    {
      "cell_type": "code",
      "execution_count": null,
      "metadata": {
        "colab": {
          "base_uri": "https://localhost:8080/"
        },
        "id": "ePHuPUTiVIGy",
        "outputId": "bd249b6b-260e-4cc2-8f62-929dc1a4a410"
      },
      "outputs": [
        {
          "output_type": "stream",
          "name": "stdout",
          "text": [
            "<class 'list'>\n"
          ]
        }
      ],
      "source": [
        "b_list=b.tolist()\n",
        "print(type(b_list))"
      ]
    },
    {
      "cell_type": "code",
      "execution_count": null,
      "metadata": {
        "scrolled": true,
        "colab": {
          "base_uri": "https://localhost:8080/"
        },
        "id": "P8pvDsWEVIGy",
        "outputId": "22e43868-7aa8-4cc9-c6c4-ce93dcb76f9c"
      },
      "outputs": [
        {
          "output_type": "stream",
          "name": "stdout",
          "text": [
            "[[1, 2, 3, 4, 5], [6, 7, 8, 9, 10]] <class 'list'>\n",
            "[[ 1  2  3  4  5]\n",
            " [ 6  7  8  9 10]] <class 'numpy.ndarray'>\n"
          ]
        }
      ],
      "source": [
        "c = [[1,2,3,4,5],[6,7,8,9,10]]\n",
        "print(c, type(c))\n",
        "d = np.array(c)\n",
        "print(d, type(d))"
      ]
    },
    {
      "cell_type": "code",
      "execution_count": null,
      "metadata": {
        "colab": {
          "base_uri": "https://localhost:8080/"
        },
        "id": "e1tYQGoCVIGy",
        "outputId": "3ac00d24-3e8c-4f58-8b80-d22b0f62e0c8"
      },
      "outputs": [
        {
          "output_type": "stream",
          "name": "stdout",
          "text": [
            "[[ 1  2  3  4  5]\n",
            " [ 6  7  8  9 10]]\n",
            "8\n"
          ]
        }
      ],
      "source": [
        "print(d)\n",
        "print(d[1,2])"
      ]
    },
    {
      "cell_type": "code",
      "execution_count": null,
      "metadata": {
        "colab": {
          "base_uri": "https://localhost:8080/"
        },
        "id": "0_FVLwElCQqX",
        "outputId": "60f37c1d-65de-4e3d-ffb3-78dadad8ec6f",
        "scrolled": true
      },
      "outputs": [
        {
          "output_type": "stream",
          "name": "stdout",
          "text": [
            "abcd 1 () 0 <U4\n",
            "['a', 'b', 'c', 'd'] 4 (4,) 1 <U1\n",
            "('a', 'b', 'c', 'd') 4 (4,) 1 <U1\n",
            "{'a': 1, 'b': 2} 1 () 0 object\n",
            "{'d', 'a', 'c', 'b'} 1 () 0 object\n"
          ]
        }
      ],
      "source": [
        "# size: 총 원소의 개수\n",
        "# shape: 차원구조\n",
        "# ndim : 차원 수\n",
        "# dtype: 원소의 data type\n",
        "\n",
        "a = \"abcd\"\n",
        "b = list(a)\n",
        "c = tuple(a)\n",
        "d = dict((('a',1), ('b',2)))\n",
        "e = set(a)\n",
        "\n",
        "print(a, np.array(a).size, np.array(a).shape, np.array(a).ndim, np.array(a).dtype)\n",
        "print(b, np.array(b).size, np.array(b).shape, np.array(b).ndim, np.array(b).dtype)\n",
        "print(c, np.array(c).size, np.array(c).shape, np.array(c).ndim, np.array(c).dtype)\n",
        "print(d, np.array(d).size, np.array(d).shape, np.array(d).ndim, np.array(d).dtype)\n",
        "print(e, np.array(e).size, np.array(e).shape, np.array(e).ndim, np.array(e).dtype)"
      ]
    },
    {
      "cell_type": "code",
      "source": [
        "a = np.arange(10)\n",
        "b = np.arange(1,10.)\n",
        "c = np.arange(1,10,0.5)\n",
        "d = np.arange(1,10,3,dtype='float')\n",
        "\n",
        "print(a)\n",
        "print(b)\n",
        "print(c)\n",
        "print(d)"
      ],
      "metadata": {
        "colab": {
          "base_uri": "https://localhost:8080/"
        },
        "id": "AtvNZOuFt9Yv",
        "outputId": "3b2d90e7-b1fd-4190-db2d-680d0ff7da73"
      },
      "execution_count": null,
      "outputs": [
        {
          "output_type": "stream",
          "name": "stdout",
          "text": [
            "[0 1 2 3 4 5 6 7 8 9]\n",
            "[1. 2. 3. 4. 5. 6. 7. 8. 9.]\n",
            "[1.  1.5 2.  2.5 3.  3.5 4.  4.5 5.  5.5 6.  6.5 7.  7.5 8.  8.5 9.  9.5]\n",
            "[1. 4. 7.]\n"
          ]
        }
      ]
    },
    {
      "cell_type": "code",
      "execution_count": null,
      "metadata": {
        "scrolled": true,
        "colab": {
          "base_uri": "https://localhost:8080/"
        },
        "id": "R_bFFtn5VIGz",
        "outputId": "871f24a9-ebf9-4080-98ff-1a1642661dbe"
      },
      "outputs": [
        {
          "output_type": "stream",
          "name": "stdout",
          "text": [
            "[ 1.          1.18367347  1.36734694  1.55102041  1.73469388  1.91836735\n",
            "  2.10204082  2.28571429  2.46938776  2.65306122  2.83673469  3.02040816\n",
            "  3.20408163  3.3877551   3.57142857  3.75510204  3.93877551  4.12244898\n",
            "  4.30612245  4.48979592  4.67346939  4.85714286  5.04081633  5.2244898\n",
            "  5.40816327  5.59183673  5.7755102   5.95918367  6.14285714  6.32653061\n",
            "  6.51020408  6.69387755  6.87755102  7.06122449  7.24489796  7.42857143\n",
            "  7.6122449   7.79591837  7.97959184  8.16326531  8.34693878  8.53061224\n",
            "  8.71428571  8.89795918  9.08163265  9.26530612  9.44897959  9.63265306\n",
            "  9.81632653 10.        ]\n",
            "[1.         1.53539816 2.07079633 2.60619449 3.14159265]\n",
            "[1.  2.8 4.6 6.4 8.2]\n",
            "(array([ 1.  ,  3.25,  5.5 ,  7.75, 10.  ]), 2.25)\n"
          ]
        }
      ],
      "source": [
        "a = np.linspace(1,10)\n",
        "b = np.linspace(1,np.pi,num=5) #num 디폴트 값 = 50\n",
        "c = np.linspace(1,10, num=5, endpoint = False) #stop 표시X\n",
        "d = np.linspace(1, 10., num=5, retstep=True)    # step 명시\n",
        "print(a)\n",
        "print(b)\n",
        "print(c)\n",
        "print(d)"
      ]
    },
    {
      "cell_type": "code",
      "execution_count": null,
      "metadata": {
        "colab": {
          "base_uri": "https://localhost:8080/"
        },
        "id": "d_v9I_KCVIGz",
        "outputId": "b073dd02-f888-43ca-db85-0d0088ccd15f"
      },
      "outputs": [
        {
          "output_type": "stream",
          "name": "stdout",
          "text": [
            "[2. 3. 4.]\n",
            "[  100.  1000. 10000.]\n",
            "2.0 3.0 4.0\n"
          ]
        }
      ],
      "source": [
        "print(np.linspace(2, 4, 3))\n",
        "print(np.logspace(2, 4, 3))\n",
        "print(np.log10(100),np.log10(1000),np.log10(10000))"
      ]
    },
    {
      "cell_type": "code",
      "execution_count": null,
      "metadata": {
        "colab": {
          "base_uri": "https://localhost:8080/"
        },
        "id": "FOeC4blmVIGz",
        "outputId": "8cd901ad-07b8-4803-8b01-85092438b101"
      },
      "outputs": [
        {
          "output_type": "stream",
          "name": "stdout",
          "text": [
            "[[1. 1. 1. 1. 1.]\n",
            " [1. 1. 1. 1. 1.]]\n",
            "[[0 0 0 0 0]\n",
            " [0 0 0 0 0]]\n",
            "[[0.5 0.5 0.5]\n",
            " [0.5 0.5 0.5]]\n",
            "[[1. 0. 0. 0. 0.]\n",
            " [0. 1. 0. 0. 0.]\n",
            " [0. 0. 1. 0. 0.]]\n",
            "[[1. 0. 0.]\n",
            " [0. 1. 0.]\n",
            " [0. 0. 1.]]\n"
          ]
        }
      ],
      "source": [
        "a = np.ones((2,5)) #default dtype = float\n",
        "b = np.zeros((2,5),dtype='int') #default dtype = float\n",
        "c = np.full((2,3), 0.5)\n",
        "d = np.eye(3, 5)   \n",
        "e = np.identity(3)  # 3 by 3 단위행렬 (identity)\n",
        "\n",
        "print(a)\n",
        "print(b)\n",
        "print(c)\n",
        "print(d)\n",
        "print(e)"
      ]
    },
    {
      "cell_type": "code",
      "execution_count": null,
      "metadata": {
        "colab": {
          "base_uri": "https://localhost:8080/"
        },
        "id": "00skozKzKq5F",
        "outputId": "3d2e1b28-e761-4f69-e43f-f81eaa1fd501"
      },
      "outputs": [
        {
          "output_type": "stream",
          "name": "stdout",
          "text": [
            "[[ 1  2  3  4]\n",
            " [ 5  6  7  8]\n",
            " [ 9 10 11 12]]\n",
            "[[ 1  5  9]\n",
            " [ 2  6 10]\n",
            " [ 3  7 11]\n",
            " [ 4  8 12]]\n",
            "[[ 1  2  3  4  5  6]\n",
            " [ 7  8  9 10 11 12]]\n",
            "[[ 1.  2.  3.  4.]\n",
            " [ 5.  6.  7.  8.]\n",
            " [ 9. 10. 11. 12.]]\n"
          ]
        }
      ],
      "source": [
        "a = np.array([[1,2,3,4],[5,6,7,8],[9,10,11,12]])\n",
        "print(a)\n",
        "b = a.T\n",
        "print(b)\n",
        "c = a.reshape(2,6)\n",
        "print(c)\n",
        "d = a.astype(float)\n",
        "print(d)"
      ]
    },
    {
      "cell_type": "code",
      "execution_count": null,
      "metadata": {
        "id": "1akdVd4FPxOg",
        "scrolled": false,
        "colab": {
          "base_uri": "https://localhost:8080/"
        },
        "outputId": "1aefe314-db49-4be3-e31e-b53de308cc20"
      },
      "outputs": [
        {
          "output_type": "stream",
          "name": "stdout",
          "text": [
            "[0 1 2 3 4 5 6 7 8]\n",
            "[[[0 1 2 3 4 5 6 7 8]]]\n",
            "[[[0]\n",
            "  [1]\n",
            "  [2]\n",
            "  [3]\n",
            "  [4]\n",
            "  [5]\n",
            "  [6]\n",
            "  [7]\n",
            "  [8]]]\n",
            "[[[0]]\n",
            "\n",
            " [[1]]\n",
            "\n",
            " [[2]]\n",
            "\n",
            " [[3]]\n",
            "\n",
            " [[4]]\n",
            "\n",
            " [[5]]\n",
            "\n",
            " [[6]]\n",
            "\n",
            " [[7]]\n",
            "\n",
            " [[8]]]\n"
          ]
        }
      ],
      "source": [
        "a = np.arange(9)\n",
        "a.reshape(1, -1)\n",
        "\n",
        "b = a.reshape((1,1,9))\n",
        "c = a.reshape((1,9,1))\n",
        "d = a.reshape((9,1,1))\n",
        "\n",
        "print(a)\n",
        "print(b)\n",
        "print(c)\n",
        "print(d)"
      ]
    },
    {
      "cell_type": "code",
      "execution_count": null,
      "metadata": {
        "id": "_vP2UBHnRoYT",
        "colab": {
          "base_uri": "https://localhost:8080/"
        },
        "outputId": "bbdcfcbb-3732-4e01-851d-6a21efa07b96"
      },
      "outputs": [
        {
          "output_type": "execute_result",
          "data": {
            "text/plain": [
              "array([[ 60,  70],\n",
              "       [160, 195]])"
            ]
          },
          "metadata": {},
          "execution_count": 16
        }
      ],
      "source": [
        "a = np.full((2,4),5)\n",
        "#a + [2]\n",
        "#a - [1,2,3,4]\n",
        "#a * ([2],[3])\n",
        "#a / [a+1]\n",
        "#a % [1,2,3,4]\n",
        "#a.tolist() + [1,2,3]\n",
        "#aa = np.arange(10).reshape(2,5)\n",
        "#bb = np.arange(10).reshape(5,2)\n",
        "#aa@bb\n",
        "#np.dot(aa,bb)"
      ]
    },
    {
      "cell_type": "code",
      "execution_count": null,
      "metadata": {
        "colab": {
          "base_uri": "https://localhost:8080/"
        },
        "id": "5gej9gnTVIG0",
        "outputId": "16be3fee-2dc3-4b44-86b5-45fc27662f13"
      },
      "outputs": [
        {
          "output_type": "stream",
          "name": "stdout",
          "text": [
            "[2 3 4 5 6]\n",
            "[2 4 6]\n",
            "[7 6 5 4 3]\n",
            "[1 2 3 4 5 6 7]\n"
          ]
        }
      ],
      "source": [
        "a=np.arange(1,8)\n",
        "print(a[1:6])\n",
        "print(a[1:6:2])\n",
        "print(a[6:1:-1])\n",
        "print(a)"
      ]
    },
    {
      "cell_type": "code",
      "execution_count": null,
      "metadata": {
        "colab": {
          "base_uri": "https://localhost:8080/"
        },
        "id": "kp8j2-s3VIG0",
        "outputId": "05c34d8e-baba-45d4-961d-81ff5e49798f"
      },
      "outputs": [
        {
          "output_type": "stream",
          "name": "stdout",
          "text": [
            "[[ 1  2  3  4]\n",
            " [ 5  6  7  8]\n",
            " [ 9 10 11 12]]\n",
            "[[2 3]\n",
            " [6 7]]\n"
          ]
        }
      ],
      "source": [
        "#변수[행 슬라이싱, 열 슬라이싱]\n",
        "a=np.arange(1,13).reshape(3,4)\n",
        "print(a)\n",
        "print(a[0:2, 1:3])"
      ]
    },
    {
      "cell_type": "code",
      "execution_count": null,
      "metadata": {
        "colab": {
          "base_uri": "https://localhost:8080/"
        },
        "id": "amE7ah_0VIG0",
        "outputId": "c70f707b-6d5d-442f-8dd9-8d98ff3eee00"
      },
      "outputs": [
        {
          "output_type": "execute_result",
          "data": {
            "text/plain": [
              "array([0, 1, 2, 3, 4, 5, 6, 7, 8, 9])"
            ]
          },
          "metadata": {},
          "execution_count": 27
        }
      ],
      "source": [
        "x=np.arange(10)\n",
        "x"
      ]
    },
    {
      "cell_type": "code",
      "execution_count": null,
      "metadata": {
        "colab": {
          "base_uri": "https://localhost:8080/"
        },
        "id": "e3ypONQdVIG0",
        "outputId": "3309ae12-26ca-4e8d-edaf-9e273df2fafa"
      },
      "outputs": [
        {
          "output_type": "execute_result",
          "data": {
            "text/plain": [
              "array([2, 8, 4, 9, 1, 6, 7, 3, 0, 5])"
            ]
          },
          "metadata": {},
          "execution_count": 28
        }
      ],
      "source": [
        "np.random.seed(0); np.random.shuffle(x)\n",
        "x"
      ]
    },
    {
      "cell_type": "code",
      "execution_count": null,
      "metadata": {
        "colab": {
          "base_uri": "https://localhost:8080/"
        },
        "id": "5vVCv1_rVIG0",
        "outputId": "e7356f47-f4a3-416d-b5ff-d1ec0eb0639e"
      },
      "outputs": [
        {
          "output_type": "execute_result",
          "data": {
            "text/plain": [
              "array([4, 0, 1, 5, 8, 7, 3, 9, 2, 6])"
            ]
          },
          "metadata": {},
          "execution_count": 29
        }
      ],
      "source": [
        "np.random.seed(0); np.random.shuffle(x)\n",
        "x"
      ]
    },
    {
      "cell_type": "code",
      "execution_count": null,
      "metadata": {
        "colab": {
          "base_uri": "https://localhost:8080/"
        },
        "id": "zcq0SQTKVIG0",
        "outputId": "7de2b278-7b4d-4b0e-b815-a977edeaeaed"
      },
      "outputs": [
        {
          "output_type": "execute_result",
          "data": {
            "text/plain": [
              "array([1, 2, 8, 6, 0, 3, 9, 5, 4, 7])"
            ]
          },
          "metadata": {},
          "execution_count": 30
        }
      ],
      "source": [
        "np.random.seed(0); np.random.shuffle(x)\n",
        "x"
      ]
    },
    {
      "cell_type": "code",
      "execution_count": null,
      "metadata": {
        "colab": {
          "base_uri": "https://localhost:8080/"
        },
        "id": "XiSy_KvPVIG0",
        "outputId": "f6af9d4e-15a7-45d8-d7a6-569a7e095bfe"
      },
      "outputs": [
        {
          "output_type": "execute_result",
          "data": {
            "text/plain": [
              "array([8, 4, 0, 7, 2, 9, 5, 6, 1, 3])"
            ]
          },
          "metadata": {},
          "execution_count": 31
        }
      ],
      "source": [
        "np.random.seed(0); np.random.shuffle(x)\n",
        "x"
      ]
    },
    {
      "cell_type": "code",
      "execution_count": null,
      "metadata": {
        "colab": {
          "base_uri": "https://localhost:8080/"
        },
        "id": "1-AwLgkJVIG0",
        "outputId": "3b95f770-1846-4bcd-9f8e-96372f9f176d"
      },
      "outputs": [
        {
          "output_type": "execute_result",
          "data": {
            "text/plain": [
              "array([0, 1, 2, 3, 4, 5, 6, 7, 8, 9])"
            ]
          },
          "metadata": {},
          "execution_count": 32
        }
      ],
      "source": [
        "np.random.seed(0); np.random.shuffle(x)\n",
        "x"
      ]
    },
    {
      "cell_type": "code",
      "execution_count": null,
      "metadata": {
        "colab": {
          "base_uri": "https://localhost:8080/"
        },
        "id": "ggjPByDJVIG1",
        "outputId": "6e22c899-b128-4c71-aaf5-3fd30c9b9011"
      },
      "outputs": [
        {
          "output_type": "execute_result",
          "data": {
            "text/plain": [
              "array([2, 8, 4, 9, 1, 6, 7, 3, 0, 5])"
            ]
          },
          "metadata": {},
          "execution_count": 33
        }
      ],
      "source": [
        "np.random.seed(0); np.random.shuffle(x)\n",
        "x"
      ]
    },
    {
      "cell_type": "code",
      "execution_count": null,
      "metadata": {
        "scrolled": true,
        "colab": {
          "base_uri": "https://localhost:8080/"
        },
        "id": "tMyxE6NbVIG1",
        "outputId": "344f1558-6119-457f-dc55-9c2bfe6a114e"
      },
      "outputs": [
        {
          "output_type": "execute_result",
          "data": {
            "text/plain": [
              "array([0.5488135 , 0.71518937, 0.60276338, 0.54488318, 0.4236548 ])"
            ]
          },
          "metadata": {},
          "execution_count": 34
        }
      ],
      "source": [
        "np.random.seed(0); np.random.rand(5)"
      ]
    },
    {
      "cell_type": "code",
      "execution_count": null,
      "metadata": {
        "colab": {
          "base_uri": "https://localhost:8080/"
        },
        "id": "XUtcSiiPVIG1",
        "outputId": "27fbc7d4-cda2-4190-fa16-f3e1f4adfdaa"
      },
      "outputs": [
        {
          "output_type": "execute_result",
          "data": {
            "text/plain": [
              "array([0.5488135 , 0.71518937, 0.60276338, 0.54488318, 0.4236548 ])"
            ]
          },
          "metadata": {},
          "execution_count": 35
        }
      ],
      "source": [
        "np.random.seed(0); np.random.rand(5)"
      ]
    },
    {
      "cell_type": "code",
      "execution_count": null,
      "metadata": {
        "colab": {
          "base_uri": "https://localhost:8080/"
        },
        "id": "J6-ank8iVIG1",
        "outputId": "cee6320c-6e28-4f0f-94ea-92a29efb92e6"
      },
      "outputs": [
        {
          "output_type": "execute_result",
          "data": {
            "text/plain": [
              "array([0.22199317, 0.87073231, 0.20671916, 0.91861091, 0.48841119])"
            ]
          },
          "metadata": {},
          "execution_count": 36
        }
      ],
      "source": [
        "np.random.seed(5); np.random.rand(5)"
      ]
    },
    {
      "cell_type": "code",
      "execution_count": null,
      "metadata": {
        "colab": {
          "base_uri": "https://localhost:8080/"
        },
        "id": "y5-_NhnBVIG1",
        "outputId": "e9fd8fe9-1360-4a01-fe93-db05a551faaa"
      },
      "outputs": [
        {
          "output_type": "execute_result",
          "data": {
            "text/plain": [
              "array([0, 1, 2, 3, 4, 5, 6, 7, 8, 9])"
            ]
          },
          "metadata": {},
          "execution_count": 37
        }
      ],
      "source": [
        "x=np.arange(10)\n",
        "x"
      ]
    },
    {
      "cell_type": "code",
      "execution_count": null,
      "metadata": {
        "colab": {
          "base_uri": "https://localhost:8080/"
        },
        "id": "sqa-B2vbVIG2",
        "outputId": "4a0abe75-d4d4-43a9-f295-091abbfca3a8"
      },
      "outputs": [
        {
          "output_type": "execute_result",
          "data": {
            "text/plain": [
              "array([ 0,  1,  3,  6, 10, 15, 21, 28, 36, 45])"
            ]
          },
          "metadata": {},
          "execution_count": 38
        }
      ],
      "source": [
        "np.cumsum(x)"
      ]
    },
    {
      "cell_type": "code",
      "execution_count": null,
      "metadata": {
        "colab": {
          "base_uri": "https://localhost:8080/"
        },
        "id": "wNWMgdLjVIG2",
        "outputId": "dcbf8801-a148-4c0c-edcb-33c12c2f132a"
      },
      "outputs": [
        {
          "output_type": "execute_result",
          "data": {
            "text/plain": [
              "array([0, 0, 0, 0, 0, 0, 0, 0, 0, 0])"
            ]
          },
          "metadata": {},
          "execution_count": 39
        }
      ],
      "source": [
        "np.cumprod(x)"
      ]
    },
    {
      "cell_type": "code",
      "execution_count": null,
      "metadata": {
        "colab": {
          "base_uri": "https://localhost:8080/"
        },
        "id": "OCX1iFz_VIG2",
        "outputId": "c87a6e34-3b10-4d52-fda5-8e1b6a54641c"
      },
      "outputs": [
        {
          "output_type": "execute_result",
          "data": {
            "text/plain": [
              "array([1, 2, 3, 4, 5, 6, 7, 8, 9])"
            ]
          },
          "metadata": {},
          "execution_count": 40
        }
      ],
      "source": [
        "np.diff(np.cumsum(x))"
      ]
    },
    {
      "cell_type": "code",
      "execution_count": null,
      "metadata": {
        "colab": {
          "base_uri": "https://localhost:8080/"
        },
        "id": "_9WKGFzzVIG3",
        "outputId": "ac705d55-0b6e-4188-8bcd-314a845ab912"
      },
      "outputs": [
        {
          "output_type": "stream",
          "name": "stdout",
          "text": [
            "[[1 2]\n",
            " [3 4]] \n",
            "\n",
            "[1 2 3 4] \n",
            "\n",
            "[1 2 3 4] \n",
            "\n",
            "[1 2 3 4]\n"
          ]
        }
      ],
      "source": [
        "a1=np.arange(1,5).reshape(2,2)\n",
        "a2=a1.ravel()\n",
        "a3=a1.flatten()    # 원본(a1) 값을 바꾸지 않는다\n",
        "a4=a1.reshape(-1)\n",
        "print(a1,'\\n')\n",
        "print(a2,'\\n')\n",
        "print(a3,'\\n')\n",
        "print(a4)"
      ]
    },
    {
      "cell_type": "code",
      "execution_count": null,
      "metadata": {
        "colab": {
          "base_uri": "https://localhost:8080/"
        },
        "id": "KKQTG6ECVIG3",
        "outputId": "23c0ad0d-4b64-4da3-e97f-122d359d9768"
      },
      "outputs": [
        {
          "output_type": "stream",
          "name": "stdout",
          "text": [
            "[[0 2]\n",
            " [3 4]] \n",
            "\n",
            "[0 2 3 4] \n",
            "\n",
            "[1 2 3 4] \n",
            "\n",
            "[0 2 3 4]\n"
          ]
        }
      ],
      "source": [
        "a1[0][0] = 0\n",
        "print(a1,'\\n')\n",
        "print(a2,'\\n')\n",
        "print(a3,'\\n')\n",
        "print(a4)"
      ]
    },
    {
      "cell_type": "code",
      "execution_count": null,
      "metadata": {
        "colab": {
          "base_uri": "https://localhost:8080/"
        },
        "id": "ZGiiJkb8VIG3",
        "outputId": "51fd61c4-7035-4de8-b724-0caf49542b79"
      },
      "outputs": [
        {
          "output_type": "stream",
          "name": "stdout",
          "text": [
            "[[1 2]\n",
            " [3 4]\n",
            " [5 6]\n",
            " [7 8]] \n",
            "\n",
            "[[1 2 5 6]\n",
            " [3 4 7 8]]\n"
          ]
        }
      ],
      "source": [
        "a1 = np.array([[1,2],[3,4]])\n",
        "a2 = np.array([[5,6],[7,8]])\n",
        "print(np.concatenate((a1,a2), axis=0), '\\n')\n",
        "print(np.concatenate((a1,a2), axis=1))"
      ]
    },
    {
      "cell_type": "code",
      "execution_count": null,
      "metadata": {
        "colab": {
          "base_uri": "https://localhost:8080/"
        },
        "id": "XdotCT4-VIG3",
        "outputId": "a0676cd2-65c9-47ae-bd0c-c949dc62f854"
      },
      "outputs": [
        {
          "output_type": "stream",
          "name": "stdout",
          "text": [
            "[[1 2]\n",
            " [3 4]]\n",
            "[1 1 2 2 3 3 4 4]\n"
          ]
        }
      ],
      "source": [
        "a1=np.array([[1,2],[3,4]])\n",
        "print(a1)\n",
        "print(a1.repeat(2))"
      ]
    },
    {
      "cell_type": "code",
      "execution_count": null,
      "metadata": {
        "colab": {
          "base_uri": "https://localhost:8080/"
        },
        "id": "fSqtvuPYVIG3",
        "outputId": "c5502d9a-2b4e-427a-95ff-65c1a0fc0000"
      },
      "outputs": [
        {
          "output_type": "stream",
          "name": "stdout",
          "text": [
            "[[1 2 1 2]\n",
            " [3 4 3 4]] \n",
            "\n",
            "[[1 2 1 2 1 2]\n",
            " [3 4 3 4 3 4]\n",
            " [1 2 1 2 1 2]\n",
            " [3 4 3 4 3 4]]\n"
          ]
        }
      ],
      "source": [
        "a1=np.array([[1,2],[3,4]])\n",
        "print(np.tile(a1,2),'\\n')\n",
        "print(np.tile(a1,(2,3)))"
      ]
    },
    {
      "cell_type": "code",
      "execution_count": null,
      "metadata": {
        "colab": {
          "base_uri": "https://localhost:8080/"
        },
        "id": "EfLKX_BzVIG4",
        "outputId": "37d3d484-9c88-43eb-ad31-857c6ec07c34"
      },
      "outputs": [
        {
          "output_type": "stream",
          "name": "stdout",
          "text": [
            "[1 2 3 4 5 6 7 8]\n"
          ]
        }
      ],
      "source": [
        "a1=np.array([[1,2],[3,4]])\n",
        "a2=np.array([[5,6],[7,8]])\n",
        "print(np.append(a1, a2))"
      ]
    },
    {
      "cell_type": "code",
      "execution_count": null,
      "metadata": {
        "id": "W9RY1dTfVIG4"
      },
      "outputs": [],
      "source": [
        "a=np.array([[2,1,6],[0,7,4],[5,3,2]])\n",
        "#np.sort(a, axis=1)\n",
        "#np.sort(a, axis=1)[::,::-1]\n",
        "#np.sort(a, axis=0)\n",
        "#np.sort(a, axis=0)[::-1]"
      ]
    },
    {
      "cell_type": "code",
      "execution_count": null,
      "metadata": {
        "colab": {
          "base_uri": "https://localhost:8080/"
        },
        "id": "ViZrnJWeVIG4",
        "outputId": "cee8bea3-030e-4a47-d35a-d00581a1bfaf"
      },
      "outputs": [
        {
          "output_type": "execute_result",
          "data": {
            "text/plain": [
              "array([[1, 0, 2],\n",
              "       [0, 2, 1],\n",
              "       [2, 1, 0]])"
            ]
          },
          "metadata": {},
          "execution_count": 64
        }
      ],
      "source": [
        "np.argsort(a)"
      ]
    },
    {
      "cell_type": "code",
      "execution_count": null,
      "metadata": {
        "colab": {
          "base_uri": "https://localhost:8080/"
        },
        "id": "LhjptTP9VIG4",
        "outputId": "f6a5a93d-d3f6-474f-8386-99611f80e6e9"
      },
      "outputs": [
        {
          "output_type": "execute_result",
          "data": {
            "text/plain": [
              "array([[1, 0, 2],\n",
              "       [0, 2, 1],\n",
              "       [2, 1, 0]])"
            ]
          },
          "metadata": {},
          "execution_count": 65
        }
      ],
      "source": [
        "a.argsort()"
      ]
    },
    {
      "cell_type": "code",
      "execution_count": null,
      "metadata": {
        "colab": {
          "base_uri": "https://localhost:8080/"
        },
        "id": "lXUyXaMYVIG4",
        "outputId": "263c7aa0-2f6e-4528-93ff-e5c743b2785e"
      },
      "outputs": [
        {
          "output_type": "stream",
          "name": "stdout",
          "text": [
            "0 0\n",
            "7 7\n",
            "3 3\n",
            "4 4\n"
          ]
        }
      ],
      "source": [
        "print(np.amin(a), a.min())    # 최솟값\n",
        "print(np.amax(a), a.max())    # 최댓값\n",
        "print(np.argmin(a), a.argmin())    # 최솟값 index\n",
        "print(np.argmax(a), a.argmax())    # 최댓값 index"
      ]
    },
    {
      "cell_type": "code",
      "execution_count": null,
      "metadata": {
        "colab": {
          "base_uri": "https://localhost:8080/"
        },
        "id": "xuYAYsabVIG4",
        "outputId": "ba23cbc1-4c9c-4248-85cb-98308ec608d4"
      },
      "outputs": [
        {
          "output_type": "execute_result",
          "data": {
            "text/plain": [
              "array([1., 2.])"
            ]
          },
          "metadata": {},
          "execution_count": 67
        }
      ],
      "source": [
        "# 연립방정식 해 구하기\n",
        "\n",
        "# x+2y=5 2x+3y=8\n",
        "A = np.linalg.inv(np.array([[1,2],[2,3]]))    # np.linalg.inv: 역행렬\n",
        "B = np.array([5,8])\n",
        "C = np.dot(A,B); C    # np.dot : 행렬의 곱(내적)"
      ]
    },
    {
      "cell_type": "code",
      "source": [
        "a = np.random.rand(3,2)\n",
        "print(a)"
      ],
      "metadata": {
        "colab": {
          "base_uri": "https://localhost:8080/"
        },
        "id": "3hse2Y0mAbel",
        "outputId": "eac1ab04-8017-455c-beeb-23a28299de77"
      },
      "execution_count": null,
      "outputs": [
        {
          "output_type": "stream",
          "name": "stdout",
          "text": [
            "[[0.7384403  0.44130922]\n",
            " [0.15830987 0.87993703]\n",
            " [0.27408646 0.41423502]]\n"
          ]
        }
      ]
    },
    {
      "cell_type": "code",
      "execution_count": null,
      "metadata": {
        "colab": {
          "base_uri": "https://localhost:8080/"
        },
        "id": "kPabD5wGVIG4",
        "outputId": "b35fde26-827f-4596-c0c5-3e84a0484404"
      },
      "outputs": [
        {
          "output_type": "execute_result",
          "data": {
            "text/plain": [
              "array([[0.7384, 0.4413],\n",
              "       [0.1583, 0.8799],\n",
              "       [0.2741, 0.4142]])"
            ]
          },
          "metadata": {},
          "execution_count": 71
        }
      ],
      "source": [
        "np.savetxt('out.txt', a, fmt='%.4f', delimiter='\\t')\n",
        "np.loadtxt('out.txt', dtype='float', delimiter='\\t')"
      ]
    },
    {
      "cell_type": "code",
      "execution_count": null,
      "metadata": {
        "id": "XqDdsiqqVIG5"
      },
      "outputs": [],
      "source": []
    }
  ],
  "metadata": {
    "colab": {
      "provenance": []
    },
    "kernelspec": {
      "display_name": "Python 3 (ipykernel)",
      "language": "python",
      "name": "python3"
    },
    "language_info": {
      "codemirror_mode": {
        "name": "ipython",
        "version": 3
      },
      "file_extension": ".py",
      "mimetype": "text/x-python",
      "name": "python",
      "nbconvert_exporter": "python",
      "pygments_lexer": "ipython3",
      "version": "3.9.12"
    }
  },
  "nbformat": 4,
  "nbformat_minor": 0
}