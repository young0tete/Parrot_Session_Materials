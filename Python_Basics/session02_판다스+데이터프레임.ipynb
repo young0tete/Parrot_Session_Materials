{
 "cells": [
  {
   "cell_type": "code",
   "execution_count": 1,
   "id": "7be51e26",
   "metadata": {
    "scrolled": false
   },
   "outputs": [
    {
     "name": "stdout",
     "output_type": "stream",
     "text": [
      "Requirement already satisfied: yfinance in c:\\users\\alstj\\anaconda3\\lib\\site-packages (0.1.74)\n",
      "Requirement already satisfied: seaborn in c:\\users\\alstj\\anaconda3\\lib\\site-packages (0.11.2)\n",
      "Requirement already satisfied: requests>=2.26 in c:\\users\\alstj\\anaconda3\\lib\\site-packages (from yfinance) (2.27.1)\n",
      "Requirement already satisfied: lxml>=4.5.1 in c:\\users\\alstj\\anaconda3\\lib\\site-packages (from yfinance) (4.8.0)\n",
      "Requirement already satisfied: numpy>=1.15 in c:\\users\\alstj\\anaconda3\\lib\\site-packages (from yfinance) (1.21.5)\n",
      "Requirement already satisfied: multitasking>=0.0.7 in c:\\users\\alstj\\anaconda3\\lib\\site-packages (from yfinance) (0.0.11)\n",
      "Requirement already satisfied: pandas>=0.24.0 in c:\\users\\alstj\\anaconda3\\lib\\site-packages (from yfinance) (1.4.2)\n",
      "Requirement already satisfied: matplotlib>=2.2 in c:\\users\\alstj\\anaconda3\\lib\\site-packages (from seaborn) (3.5.1)\n",
      "Requirement already satisfied: scipy>=1.0 in c:\\users\\alstj\\anaconda3\\lib\\site-packages (from seaborn) (1.7.3)\n",
      "Requirement already satisfied: fonttools>=4.22.0 in c:\\users\\alstj\\anaconda3\\lib\\site-packages (from matplotlib>=2.2->seaborn) (4.25.0)\n",
      "Requirement already satisfied: cycler>=0.10 in c:\\users\\alstj\\anaconda3\\lib\\site-packages (from matplotlib>=2.2->seaborn) (0.11.0)\n",
      "Requirement already satisfied: pyparsing>=2.2.1 in c:\\users\\alstj\\anaconda3\\lib\\site-packages (from matplotlib>=2.2->seaborn) (3.0.4)\n",
      "Requirement already satisfied: packaging>=20.0 in c:\\users\\alstj\\anaconda3\\lib\\site-packages (from matplotlib>=2.2->seaborn) (21.3)\n",
      "Requirement already satisfied: pillow>=6.2.0 in c:\\users\\alstj\\anaconda3\\lib\\site-packages (from matplotlib>=2.2->seaborn) (9.0.1)\n",
      "Requirement already satisfied: python-dateutil>=2.7 in c:\\users\\alstj\\anaconda3\\lib\\site-packages (from matplotlib>=2.2->seaborn) (2.8.2)\n",
      "Requirement already satisfied: kiwisolver>=1.0.1 in c:\\users\\alstj\\anaconda3\\lib\\site-packages (from matplotlib>=2.2->seaborn) (1.3.2)\n",
      "Requirement already satisfied: pytz>=2020.1 in c:\\users\\alstj\\anaconda3\\lib\\site-packages (from pandas>=0.24.0->yfinance) (2021.3)\n",
      "Requirement already satisfied: six>=1.5 in c:\\users\\alstj\\anaconda3\\lib\\site-packages (from python-dateutil>=2.7->matplotlib>=2.2->seaborn) (1.16.0)\n",
      "Requirement already satisfied: charset-normalizer~=2.0.0 in c:\\users\\alstj\\anaconda3\\lib\\site-packages (from requests>=2.26->yfinance) (2.0.4)\n",
      "Requirement already satisfied: urllib3<1.27,>=1.21.1 in c:\\users\\alstj\\anaconda3\\lib\\site-packages (from requests>=2.26->yfinance) (1.26.9)\n",
      "Requirement already satisfied: idna<4,>=2.5 in c:\\users\\alstj\\anaconda3\\lib\\site-packages (from requests>=2.26->yfinance) (3.3)\n",
      "Requirement already satisfied: certifi>=2017.4.17 in c:\\users\\alstj\\anaconda3\\lib\\site-packages (from requests>=2.26->yfinance) (2021.10.8)\n"
     ]
    }
   ],
   "source": [
    "# installing yfinance\n",
    "!pip install yfinance seaborn"
   ]
  },
  {
   "cell_type": "code",
   "execution_count": 2,
   "id": "c305cc90",
   "metadata": {},
   "outputs": [],
   "source": [
    "import numpy as np \n",
    "import pandas as pd \n",
    "import yfinance as yf    # yahoo finance 주가\n",
    "from scipy import stats    \n",
    "import matplotlib.pyplot as plt \n",
    "import seaborn as sns     # 시각화\n",
    "from sklearn import preprocessing"
   ]
  },
  {
   "cell_type": "markdown",
   "id": "0e2420cd",
   "metadata": {},
   "source": [
    "## Pandas\n",
    "\n",
    "Pandas는 크게 2개로 나뉜다  \n",
    "1. Series\n",
    "- 1차원 데이터\n",
    "- indexing 요소가 추가된 list 혹은 dict와 유사\n",
    "- DataFrame 내에서 하나의 column이 됨\n",
    "\n",
    "2. DataFrame\n",
    "- 2차원 표의 형태"
   ]
  },
  {
   "cell_type": "markdown",
   "id": "5075895c",
   "metadata": {},
   "source": [
    "# Series"
   ]
  },
  {
   "cell_type": "code",
   "execution_count": 3,
   "id": "c1c0dadc",
   "metadata": {},
   "outputs": [
    {
     "data": {
      "text/plain": [
       "0    11\n",
       "1    28\n",
       "2    82\n",
       "3     3\n",
       "4     6\n",
       "5     8\n",
       "dtype: int64"
      ]
     },
     "execution_count": 3,
     "metadata": {},
     "output_type": "execute_result"
    }
   ],
   "source": [
    "S = pd.Series([11, 28, 82, 3, 6, 8])\n",
    "S\n",
    "#print(type(S))\n",
    "#print(len(S))"
   ]
  },
  {
   "cell_type": "code",
   "execution_count": 4,
   "id": "7c977872",
   "metadata": {},
   "outputs": [
    {
     "data": {
      "text/plain": [
       "RangeIndex(start=0, stop=6, step=1)"
      ]
     },
     "execution_count": 4,
     "metadata": {},
     "output_type": "execute_result"
    }
   ],
   "source": [
    "S.index # index 층"
   ]
  },
  {
   "cell_type": "code",
   "execution_count": 5,
   "id": "11c6d866",
   "metadata": {},
   "outputs": [
    {
     "data": {
      "text/plain": [
       "array([11, 28, 82,  3,  6,  8], dtype=int64)"
      ]
     },
     "execution_count": 5,
     "metadata": {},
     "output_type": "execute_result"
    }
   ],
   "source": [
    "S.values # valeus 층"
   ]
  },
  {
   "cell_type": "code",
   "execution_count": 6,
   "id": "324623dc",
   "metadata": {},
   "outputs": [],
   "source": [
    "#pd.Series(list('abc'))   # list\n",
    "#pd.Series((1,2,3,4,5))   # tuple\n",
    "#pd.Series({'a':2, 'b':4})  # dict : key값 = index 층\n",
    "#pd.Series(np.array([1,2.,1]))   # ndarray\n",
    "#pd.Series(np.arange(4).reshape(2,2))  # 2차원 이상 불가"
   ]
  },
  {
   "cell_type": "code",
   "execution_count": 7,
   "id": "fa945f83",
   "metadata": {
    "scrolled": true
   },
   "outputs": [],
   "source": [
    "S=pd.Series([11,28,82,3,6,8],\n",
    "            ['1st','2nd','3rd','4th','5th','6th'])\n",
    "#print(S[0::2])"
   ]
  },
  {
   "cell_type": "code",
   "execution_count": 8,
   "id": "fdb03290",
   "metadata": {},
   "outputs": [],
   "source": [
    "# Series indexing, slicing\n",
    "#S[1]\n",
    "#S[0]\n",
    "#S[0:2]\n",
    "#S[2:4]"
   ]
  },
  {
   "cell_type": "code",
   "execution_count": 9,
   "id": "e8a1f839",
   "metadata": {
    "scrolled": true
   },
   "outputs": [
    {
     "data": {
      "text/plain": [
       "2023-03-14    300\n",
       "2023-03-15    304\n",
       "2023-03-16    292\n",
       "2023-03-17    302\n",
       "2023-03-18    303\n",
       "Freq: D, dtype: int64"
      ]
     },
     "execution_count": 9,
     "metadata": {},
     "output_type": "execute_result"
    }
   ],
   "source": [
    "# Tesla 종가 Series\n",
    "Close = [300, 304, 292, 302, 303]\n",
    "idx = pd.date_range('20230314', periods=5)\n",
    "Tesla = pd.Series(Close, index=idx)\n",
    "Tesla"
   ]
  },
  {
   "cell_type": "code",
   "execution_count": 10,
   "id": "2a6bbf00",
   "metadata": {
    "scrolled": true
   },
   "outputs": [
    {
     "data": {
      "text/plain": [
       "LG          73800\n",
       "Samsung     71200\n",
       "Kakao      106500\n",
       "dtype: int64"
      ]
     },
     "execution_count": 10,
     "metadata": {},
     "output_type": "execute_result"
    }
   ],
   "source": [
    "stock = pd.Series({'LG': 73800, 'Samsung': 71200, 'Kakao': 106500})\n",
    "stock"
   ]
  },
  {
   "cell_type": "code",
   "execution_count": 11,
   "id": "9aa82b86",
   "metadata": {
    "scrolled": true
   },
   "outputs": [],
   "source": [
    "#stock.sort_values()\n",
    "#stock.sort_index()\n",
    "#stock.sort_values(ascending=False)\n",
    "#stock.sort_index(ascending=False)"
   ]
  },
  {
   "cell_type": "code",
   "execution_count": 12,
   "id": "7e6e48ad",
   "metadata": {
    "scrolled": true
   },
   "outputs": [
    {
     "name": "stdout",
     "output_type": "stream",
     "text": [
      "LG         73800.0\n",
      "Samsung    71200.0\n",
      "Kakao          NaN\n",
      "dtype: float64\n"
     ]
    }
   ],
   "source": [
    "print(stock.where(stock<100000))"
   ]
  },
  {
   "cell_type": "code",
   "execution_count": 13,
   "id": "8518177d",
   "metadata": {
    "scrolled": true
   },
   "outputs": [
    {
     "name": "stdout",
     "output_type": "stream",
     "text": [
      "LG             NaN\n",
      "Samsung    71200.0\n",
      "Kakao          NaN\n",
      "dtype: float64\n"
     ]
    }
   ],
   "source": [
    "print(stock.where(stock==stock.min()))"
   ]
  },
  {
   "cell_type": "code",
   "execution_count": 14,
   "id": "ba9bfa3c",
   "metadata": {},
   "outputs": [],
   "source": [
    "changes = pd.Series({'Kakao': 1500, 'LG': 1200, 'SK': -1500})"
   ]
  },
  {
   "cell_type": "code",
   "execution_count": 15,
   "id": "4c832524",
   "metadata": {},
   "outputs": [
    {
     "name": "stdout",
     "output_type": "stream",
     "text": [
      "LG          73800\n",
      "Samsung     71200\n",
      "Kakao      106500\n",
      "dtype: int64 \n",
      "\n",
      "Kakao    1500\n",
      "LG       1200\n",
      "SK      -1500\n",
      "dtype: int64\n"
     ]
    }
   ],
   "source": [
    "print(stock, '\\n'); print(changes)"
   ]
  },
  {
   "cell_type": "code",
   "execution_count": 16,
   "id": "c68c8750",
   "metadata": {
    "scrolled": true
   },
   "outputs": [
    {
     "name": "stdout",
     "output_type": "stream",
     "text": [
      "Kakao      108000.0\n",
      "LG          75000.0\n",
      "SK              NaN\n",
      "Samsung         NaN\n",
      "dtype: float64\n",
      "\n",
      "Kakao      108000\n",
      "LG          75000\n",
      "SK          -1500\n",
      "Samsung     71200\n",
      "dtype: int32\n"
     ]
    }
   ],
   "source": [
    "# Series 연산\n",
    "print(stock.add(changes))\n",
    "print()\n",
    "print(stock.add(changes, fill_value=0).astype('int'))"
   ]
  },
  {
   "cell_type": "code",
   "execution_count": 17,
   "id": "86a26861",
   "metadata": {},
   "outputs": [
    {
     "data": {
      "text/plain": [
       "market\n",
       "LG          73800\n",
       "Samsung     71200\n",
       "Kakao      106500\n",
       "Name: price, dtype: int64"
      ]
     },
     "execution_count": 17,
     "metadata": {},
     "output_type": "execute_result"
    }
   ],
   "source": [
    "#name\n",
    "stock.name = 'price'   # dataframe 내 column의 제목\n",
    "stock.index.name = 'market'\n",
    "stock"
   ]
  },
  {
   "cell_type": "code",
   "execution_count": 18,
   "id": "db522cb8",
   "metadata": {},
   "outputs": [
    {
     "data": {
      "text/html": [
       "<div>\n",
       "<style scoped>\n",
       "    .dataframe tbody tr th:only-of-type {\n",
       "        vertical-align: middle;\n",
       "    }\n",
       "\n",
       "    .dataframe tbody tr th {\n",
       "        vertical-align: top;\n",
       "    }\n",
       "\n",
       "    .dataframe thead th {\n",
       "        text-align: right;\n",
       "    }\n",
       "</style>\n",
       "<table border=\"1\" class=\"dataframe\">\n",
       "  <thead>\n",
       "    <tr style=\"text-align: right;\">\n",
       "      <th></th>\n",
       "      <th>price</th>\n",
       "    </tr>\n",
       "    <tr>\n",
       "      <th>market</th>\n",
       "      <th></th>\n",
       "    </tr>\n",
       "  </thead>\n",
       "  <tbody>\n",
       "    <tr>\n",
       "      <th>LG</th>\n",
       "      <td>73800</td>\n",
       "    </tr>\n",
       "    <tr>\n",
       "      <th>Samsung</th>\n",
       "      <td>71200</td>\n",
       "    </tr>\n",
       "    <tr>\n",
       "      <th>Kakao</th>\n",
       "      <td>106500</td>\n",
       "    </tr>\n",
       "  </tbody>\n",
       "</table>\n",
       "</div>"
      ],
      "text/plain": [
       "          price\n",
       "market         \n",
       "LG        73800\n",
       "Samsung   71200\n",
       "Kakao    106500"
      ]
     },
     "execution_count": 18,
     "metadata": {},
     "output_type": "execute_result"
    }
   ],
   "source": [
    "pd.DataFrame(stock)"
   ]
  },
  {
   "cell_type": "code",
   "execution_count": 19,
   "id": "cb7ada4c",
   "metadata": {
    "scrolled": true
   },
   "outputs": [
    {
     "data": {
      "text/plain": [
       "market\n",
       "LG          73800\n",
       "Samsung     71200\n",
       "Kakao      106500\n",
       "SK         122000\n",
       "Name: price, dtype: int64"
      ]
     },
     "execution_count": 19,
     "metadata": {},
     "output_type": "execute_result"
    }
   ],
   "source": [
    "stock['SK']=122000\n",
    "stock"
   ]
  },
  {
   "cell_type": "code",
   "execution_count": 20,
   "id": "c8354fe4",
   "metadata": {},
   "outputs": [
    {
     "name": "stderr",
     "output_type": "stream",
     "text": [
      "C:\\Users\\alstj\\AppData\\Local\\Temp\\ipykernel_17668\\2382650702.py:1: FutureWarning: The series.append method is deprecated and will be removed from pandas in a future version. Use pandas.concat instead.\n",
      "  stock.append(pd.Series({'Naver':345000}))\n"
     ]
    },
    {
     "data": {
      "text/plain": [
       "LG          73800\n",
       "Samsung     71200\n",
       "Kakao      106500\n",
       "SK         122000\n",
       "Naver      345000\n",
       "dtype: int64"
      ]
     },
     "execution_count": 20,
     "metadata": {},
     "output_type": "execute_result"
    }
   ],
   "source": [
    "stock.append(pd.Series({'Naver':345000}))\n",
    "#stock"
   ]
  },
  {
   "cell_type": "code",
   "execution_count": 21,
   "id": "baf31223",
   "metadata": {},
   "outputs": [
    {
     "data": {
      "text/plain": [
       "market\n",
       "LG          73800\n",
       "Samsung     71200\n",
       "Kakao      106500\n",
       "Name: price, dtype: int64"
      ]
     },
     "execution_count": 21,
     "metadata": {},
     "output_type": "execute_result"
    }
   ],
   "source": [
    "del stock['SK']\n",
    "stock"
   ]
  },
  {
   "cell_type": "code",
   "execution_count": 22,
   "id": "c10d8039",
   "metadata": {
    "scrolled": true
   },
   "outputs": [
    {
     "data": {
      "text/plain": [
       "market\n",
       "Samsung     71200\n",
       "Kakao      106500\n",
       "Name: price, dtype: int64"
      ]
     },
     "execution_count": 22,
     "metadata": {},
     "output_type": "execute_result"
    }
   ],
   "source": [
    "stock.drop(['LG'])\n",
    "#stock"
   ]
  },
  {
   "cell_type": "code",
   "execution_count": 23,
   "id": "348d6abd",
   "metadata": {},
   "outputs": [
    {
     "data": {
      "text/plain": [
       "market\n",
       "LG          73800\n",
       "Samsung     71200\n",
       "Kakao      106500\n",
       "SK         122000\n",
       "Name: price, dtype: int64"
      ]
     },
     "execution_count": 23,
     "metadata": {},
     "output_type": "execute_result"
    }
   ],
   "source": [
    "stock['SK']=122000\n",
    "stock\n",
    "#stock.apply(float)\n",
    "#stock.apply(lambda x: x/stock.sum())\n",
    "#stock.apply(lambda x: x**2)"
   ]
  },
  {
   "cell_type": "markdown",
   "id": "f1f73cc7",
   "metadata": {},
   "source": [
    "# DataFrame"
   ]
  },
  {
   "cell_type": "code",
   "execution_count": 24,
   "id": "d456aa7a",
   "metadata": {},
   "outputs": [
    {
     "name": "stdout",
     "output_type": "stream",
     "text": [
      "    0   1   2\n",
      "0  10  20  30\n",
      "1  40  50  60\n",
      "2  70  80  90\n",
      "<class 'pandas.core.frame.DataFrame'>\n",
      "3\n"
     ]
    },
    {
     "data": {
      "text/html": [
       "<div>\n",
       "<style scoped>\n",
       "    .dataframe tbody tr th:only-of-type {\n",
       "        vertical-align: middle;\n",
       "    }\n",
       "\n",
       "    .dataframe tbody tr th {\n",
       "        vertical-align: top;\n",
       "    }\n",
       "\n",
       "    .dataframe thead th {\n",
       "        text-align: right;\n",
       "    }\n",
       "</style>\n",
       "<table border=\"1\" class=\"dataframe\">\n",
       "  <thead>\n",
       "    <tr style=\"text-align: right;\">\n",
       "      <th></th>\n",
       "      <th>0</th>\n",
       "      <th>1</th>\n",
       "      <th>2</th>\n",
       "    </tr>\n",
       "  </thead>\n",
       "  <tbody>\n",
       "    <tr>\n",
       "      <th>0</th>\n",
       "      <td>10</td>\n",
       "      <td>20</td>\n",
       "      <td>30</td>\n",
       "    </tr>\n",
       "    <tr>\n",
       "      <th>1</th>\n",
       "      <td>40</td>\n",
       "      <td>50</td>\n",
       "      <td>60</td>\n",
       "    </tr>\n",
       "    <tr>\n",
       "      <th>2</th>\n",
       "      <td>70</td>\n",
       "      <td>80</td>\n",
       "      <td>90</td>\n",
       "    </tr>\n",
       "  </tbody>\n",
       "</table>\n",
       "</div>"
      ],
      "text/plain": [
       "    0   1   2\n",
       "0  10  20  30\n",
       "1  40  50  60\n",
       "2  70  80  90"
      ]
     },
     "execution_count": 24,
     "metadata": {},
     "output_type": "execute_result"
    }
   ],
   "source": [
    "# DataFrame 생성\n",
    "a = pd.DataFrame([[10,20,30], [40,50,60],[70,80,90]])\n",
    "print(a)\n",
    "print(type(a))\n",
    "print(len(a))\n",
    "a"
   ]
  },
  {
   "cell_type": "code",
   "execution_count": 25,
   "id": "7525af2d",
   "metadata": {
    "scrolled": true
   },
   "outputs": [
    {
     "data": {
      "text/html": [
       "<div>\n",
       "<style scoped>\n",
       "    .dataframe tbody tr th:only-of-type {\n",
       "        vertical-align: middle;\n",
       "    }\n",
       "\n",
       "    .dataframe tbody tr th {\n",
       "        vertical-align: top;\n",
       "    }\n",
       "\n",
       "    .dataframe thead th {\n",
       "        text-align: right;\n",
       "    }\n",
       "</style>\n",
       "<table border=\"1\" class=\"dataframe\">\n",
       "  <thead>\n",
       "    <tr style=\"text-align: right;\">\n",
       "      <th></th>\n",
       "      <th>1차</th>\n",
       "      <th>2차</th>\n",
       "      <th>3차</th>\n",
       "    </tr>\n",
       "  </thead>\n",
       "  <tbody>\n",
       "    <tr>\n",
       "      <th>One</th>\n",
       "      <td>10</td>\n",
       "      <td>20</td>\n",
       "      <td>30</td>\n",
       "    </tr>\n",
       "    <tr>\n",
       "      <th>Two</th>\n",
       "      <td>40</td>\n",
       "      <td>50</td>\n",
       "      <td>60</td>\n",
       "    </tr>\n",
       "    <tr>\n",
       "      <th>Three</th>\n",
       "      <td>70</td>\n",
       "      <td>80</td>\n",
       "      <td>90</td>\n",
       "    </tr>\n",
       "  </tbody>\n",
       "</table>\n",
       "</div>"
      ],
      "text/plain": [
       "       1차  2차  3차\n",
       "One    10  20  30\n",
       "Two    40  50  60\n",
       "Three  70  80  90"
      ]
     },
     "execution_count": 25,
     "metadata": {},
     "output_type": "execute_result"
    }
   ],
   "source": [
    "# DataFrame columns, index\n",
    "data = [[10,20,30], [40,50,60],[70,80,90]]\n",
    "a = pd.DataFrame(data, columns=['1차','2차','3차'], index = ['One', 'Two', 'Three'])\n",
    "a"
   ]
  },
  {
   "cell_type": "code",
   "execution_count": 26,
   "id": "706037b8",
   "metadata": {},
   "outputs": [
    {
     "name": "stdout",
     "output_type": "stream",
     "text": [
      "Index(['One', 'Two', 'Three'], dtype='object')\n",
      "Index(['1차', '2차', '3차'], dtype='object')\n",
      "[[10 20 30]\n",
      " [40 50 60]\n",
      " [70 80 90]]\n"
     ]
    }
   ],
   "source": [
    "print(a.index)    # row 명\n",
    "print(a.columns)    # columns 명\n",
    "print(a.values)    # values 값"
   ]
  },
  {
   "cell_type": "code",
   "execution_count": 27,
   "id": "559d3797",
   "metadata": {
    "scrolled": true
   },
   "outputs": [
    {
     "name": "stdout",
     "output_type": "stream",
     "text": [
      "[*********************100%***********************]  1 of 1 completed\n",
      "[*********************100%***********************]  1 of 1 completed\n"
     ]
    }
   ],
   "source": [
    "# yfinance\n",
    "# yahoo finance에서 주식 데이터를 받아올 수 있는 모듈\n",
    "tsla = yf.download('TSLA')\n",
    "aapl = yf.download('AAPL')"
   ]
  },
  {
   "cell_type": "code",
   "execution_count": 82,
   "id": "6a1be97a",
   "metadata": {
    "scrolled": true
   },
   "outputs": [
    {
     "data": {
      "text/html": [
       "<div>\n",
       "<style scoped>\n",
       "    .dataframe tbody tr th:only-of-type {\n",
       "        vertical-align: middle;\n",
       "    }\n",
       "\n",
       "    .dataframe tbody tr th {\n",
       "        vertical-align: top;\n",
       "    }\n",
       "\n",
       "    .dataframe thead th {\n",
       "        text-align: right;\n",
       "    }\n",
       "</style>\n",
       "<table border=\"1\" class=\"dataframe\">\n",
       "  <thead>\n",
       "    <tr style=\"text-align: right;\">\n",
       "      <th></th>\n",
       "      <th>Open</th>\n",
       "      <th>High</th>\n",
       "      <th>Low</th>\n",
       "      <th>Close</th>\n",
       "      <th>Adj Close</th>\n",
       "      <th>Volume</th>\n",
       "    </tr>\n",
       "    <tr>\n",
       "      <th>Date</th>\n",
       "      <th></th>\n",
       "      <th></th>\n",
       "      <th></th>\n",
       "      <th></th>\n",
       "      <th></th>\n",
       "      <th></th>\n",
       "    </tr>\n",
       "  </thead>\n",
       "  <tbody>\n",
       "    <tr>\n",
       "      <th>2023-03-08</th>\n",
       "      <td>185.039993</td>\n",
       "      <td>186.500000</td>\n",
       "      <td>180.000000</td>\n",
       "      <td>182.000000</td>\n",
       "      <td>182.000000</td>\n",
       "      <td>151897800</td>\n",
       "    </tr>\n",
       "    <tr>\n",
       "      <th>2023-03-09</th>\n",
       "      <td>180.250000</td>\n",
       "      <td>185.179993</td>\n",
       "      <td>172.509995</td>\n",
       "      <td>172.919998</td>\n",
       "      <td>172.919998</td>\n",
       "      <td>170023800</td>\n",
       "    </tr>\n",
       "    <tr>\n",
       "      <th>2023-03-10</th>\n",
       "      <td>175.130005</td>\n",
       "      <td>178.289993</td>\n",
       "      <td>168.440002</td>\n",
       "      <td>173.440002</td>\n",
       "      <td>173.440002</td>\n",
       "      <td>191007900</td>\n",
       "    </tr>\n",
       "    <tr>\n",
       "      <th>2023-03-13</th>\n",
       "      <td>167.460007</td>\n",
       "      <td>177.350006</td>\n",
       "      <td>163.910004</td>\n",
       "      <td>174.479996</td>\n",
       "      <td>174.479996</td>\n",
       "      <td>167790300</td>\n",
       "    </tr>\n",
       "    <tr>\n",
       "      <th>2023-03-14</th>\n",
       "      <td>177.309998</td>\n",
       "      <td>183.800003</td>\n",
       "      <td>177.139999</td>\n",
       "      <td>183.259995</td>\n",
       "      <td>183.259995</td>\n",
       "      <td>143430400</td>\n",
       "    </tr>\n",
       "  </tbody>\n",
       "</table>\n",
       "</div>"
      ],
      "text/plain": [
       "                  Open        High         Low       Close   Adj Close  \\\n",
       "Date                                                                     \n",
       "2023-03-08  185.039993  186.500000  180.000000  182.000000  182.000000   \n",
       "2023-03-09  180.250000  185.179993  172.509995  172.919998  172.919998   \n",
       "2023-03-10  175.130005  178.289993  168.440002  173.440002  173.440002   \n",
       "2023-03-13  167.460007  177.350006  163.910004  174.479996  174.479996   \n",
       "2023-03-14  177.309998  183.800003  177.139999  183.259995  183.259995   \n",
       "\n",
       "               Volume  \n",
       "Date                   \n",
       "2023-03-08  151897800  \n",
       "2023-03-09  170023800  \n",
       "2023-03-10  191007900  \n",
       "2023-03-13  167790300  \n",
       "2023-03-14  143430400  "
      ]
     },
     "execution_count": 82,
     "metadata": {},
     "output_type": "execute_result"
    }
   ],
   "source": [
    "tsla.tail()"
   ]
  },
  {
   "cell_type": "code",
   "execution_count": 83,
   "id": "62542aa5",
   "metadata": {
    "scrolled": true
   },
   "outputs": [
    {
     "data": {
      "text/html": [
       "<div>\n",
       "<style scoped>\n",
       "    .dataframe tbody tr th:only-of-type {\n",
       "        vertical-align: middle;\n",
       "    }\n",
       "\n",
       "    .dataframe tbody tr th {\n",
       "        vertical-align: top;\n",
       "    }\n",
       "\n",
       "    .dataframe thead th {\n",
       "        text-align: right;\n",
       "    }\n",
       "</style>\n",
       "<table border=\"1\" class=\"dataframe\">\n",
       "  <thead>\n",
       "    <tr style=\"text-align: right;\">\n",
       "      <th></th>\n",
       "      <th>Open</th>\n",
       "      <th>High</th>\n",
       "      <th>Low</th>\n",
       "      <th>Close</th>\n",
       "      <th>Adj Close</th>\n",
       "      <th>Volume</th>\n",
       "    </tr>\n",
       "    <tr>\n",
       "      <th>Date</th>\n",
       "      <th></th>\n",
       "      <th></th>\n",
       "      <th></th>\n",
       "      <th></th>\n",
       "      <th></th>\n",
       "      <th></th>\n",
       "    </tr>\n",
       "  </thead>\n",
       "  <tbody>\n",
       "    <tr>\n",
       "      <th>2023-03-08</th>\n",
       "      <td>152.809998</td>\n",
       "      <td>153.470001</td>\n",
       "      <td>151.830002</td>\n",
       "      <td>152.869995</td>\n",
       "      <td>152.869995</td>\n",
       "      <td>47204800</td>\n",
       "    </tr>\n",
       "    <tr>\n",
       "      <th>2023-03-09</th>\n",
       "      <td>153.559998</td>\n",
       "      <td>154.539993</td>\n",
       "      <td>150.229996</td>\n",
       "      <td>150.589996</td>\n",
       "      <td>150.589996</td>\n",
       "      <td>53833600</td>\n",
       "    </tr>\n",
       "    <tr>\n",
       "      <th>2023-03-10</th>\n",
       "      <td>150.210007</td>\n",
       "      <td>150.940002</td>\n",
       "      <td>147.610001</td>\n",
       "      <td>148.500000</td>\n",
       "      <td>148.500000</td>\n",
       "      <td>68524400</td>\n",
       "    </tr>\n",
       "    <tr>\n",
       "      <th>2023-03-13</th>\n",
       "      <td>147.809998</td>\n",
       "      <td>153.139999</td>\n",
       "      <td>147.699997</td>\n",
       "      <td>150.470001</td>\n",
       "      <td>150.470001</td>\n",
       "      <td>84457100</td>\n",
       "    </tr>\n",
       "    <tr>\n",
       "      <th>2023-03-14</th>\n",
       "      <td>151.279999</td>\n",
       "      <td>153.399994</td>\n",
       "      <td>150.100006</td>\n",
       "      <td>152.589996</td>\n",
       "      <td>152.589996</td>\n",
       "      <td>73628400</td>\n",
       "    </tr>\n",
       "  </tbody>\n",
       "</table>\n",
       "</div>"
      ],
      "text/plain": [
       "                  Open        High         Low       Close   Adj Close  \\\n",
       "Date                                                                     \n",
       "2023-03-08  152.809998  153.470001  151.830002  152.869995  152.869995   \n",
       "2023-03-09  153.559998  154.539993  150.229996  150.589996  150.589996   \n",
       "2023-03-10  150.210007  150.940002  147.610001  148.500000  148.500000   \n",
       "2023-03-13  147.809998  153.139999  147.699997  150.470001  150.470001   \n",
       "2023-03-14  151.279999  153.399994  150.100006  152.589996  152.589996   \n",
       "\n",
       "              Volume  \n",
       "Date                  \n",
       "2023-03-08  47204800  \n",
       "2023-03-09  53833600  \n",
       "2023-03-10  68524400  \n",
       "2023-03-13  84457100  \n",
       "2023-03-14  73628400  "
      ]
     },
     "execution_count": 83,
     "metadata": {},
     "output_type": "execute_result"
    }
   ],
   "source": [
    "aapl.tail()"
   ]
  },
  {
   "cell_type": "markdown",
   "id": "0779d35f",
   "metadata": {},
   "source": [
    "1. 특정 열 값을 추출: 인덱싱 또는 속성\n",
    " - 변수[열이름] #지정된 열 추출\n",
    " - 변수[[열이름1,열이름2,...]]\n",
    " - 변수.속성\n",
    " \n",
    " \n",
    "2. 리스트와 유사하게 슬라이싱으로 행 추출 \n",
    " - 변수[start:end] #start행부터 end-1행까지 추출\n",
    " \n",
    " \n",
    "3. 특정 행을 추출\n",
    " - 변수.loc[행이름] #지정된 레이블의 행 추출\n",
    " - 변수.loc[ [행이름1,행이름2,..] ] #2개 이상은 리스트로 묶어 지정\n",
    "\n",
    "\n",
    "4. 특정한 요소 하나만을 선택\n",
    " - 변수.loc[ 행이름, 열이름 ]\n"
   ]
  },
  {
   "cell_type": "code",
   "execution_count": 84,
   "id": "28cefef8",
   "metadata": {},
   "outputs": [
    {
     "data": {
      "text/plain": [
       "Date\n",
       "2023-03-08    182.000000\n",
       "2023-03-09    172.919998\n",
       "2023-03-10    173.440002\n",
       "2023-03-13    174.479996\n",
       "2023-03-14    183.259995\n",
       "Name: Close, dtype: float64"
      ]
     },
     "execution_count": 84,
     "metadata": {},
     "output_type": "execute_result"
    }
   ],
   "source": [
    "tsla=tsla.tail()\n",
    "tsla['Close']    # column 이름으로만 indexing 가능\n",
    "#tsla['2023-03-08']    # error --> index 이름으로는 indexing 불가능 loc 사용필요"
   ]
  },
  {
   "cell_type": "code",
   "execution_count": 85,
   "id": "9a3d4201",
   "metadata": {
    "scrolled": false
   },
   "outputs": [
    {
     "data": {
      "text/plain": [
       "Date\n",
       "2023-03-08    182.000000\n",
       "2023-03-09    172.919998\n",
       "2023-03-10    173.440002\n",
       "2023-03-13    174.479996\n",
       "2023-03-14    183.259995\n",
       "Name: Close, dtype: float64"
      ]
     },
     "execution_count": 85,
     "metadata": {},
     "output_type": "execute_result"
    }
   ],
   "source": [
    "tsla.Close"
   ]
  },
  {
   "cell_type": "code",
   "execution_count": 86,
   "id": "9813f079",
   "metadata": {},
   "outputs": [
    {
     "name": "stdout",
     "output_type": "stream",
     "text": [
      "<class 'pandas.core.series.Series'>\n"
     ]
    }
   ],
   "source": [
    "print(type(tsla['Close']))"
   ]
  },
  {
   "cell_type": "code",
   "execution_count": 87,
   "id": "fd1a6cee",
   "metadata": {
    "scrolled": true
   },
   "outputs": [
    {
     "data": {
      "text/html": [
       "<div>\n",
       "<style scoped>\n",
       "    .dataframe tbody tr th:only-of-type {\n",
       "        vertical-align: middle;\n",
       "    }\n",
       "\n",
       "    .dataframe tbody tr th {\n",
       "        vertical-align: top;\n",
       "    }\n",
       "\n",
       "    .dataframe thead th {\n",
       "        text-align: right;\n",
       "    }\n",
       "</style>\n",
       "<table border=\"1\" class=\"dataframe\">\n",
       "  <thead>\n",
       "    <tr style=\"text-align: right;\">\n",
       "      <th></th>\n",
       "      <th>Open</th>\n",
       "      <th>Close</th>\n",
       "    </tr>\n",
       "    <tr>\n",
       "      <th>Date</th>\n",
       "      <th></th>\n",
       "      <th></th>\n",
       "    </tr>\n",
       "  </thead>\n",
       "  <tbody>\n",
       "    <tr>\n",
       "      <th>2023-03-08</th>\n",
       "      <td>185.039993</td>\n",
       "      <td>182.000000</td>\n",
       "    </tr>\n",
       "    <tr>\n",
       "      <th>2023-03-09</th>\n",
       "      <td>180.250000</td>\n",
       "      <td>172.919998</td>\n",
       "    </tr>\n",
       "    <tr>\n",
       "      <th>2023-03-10</th>\n",
       "      <td>175.130005</td>\n",
       "      <td>173.440002</td>\n",
       "    </tr>\n",
       "    <tr>\n",
       "      <th>2023-03-13</th>\n",
       "      <td>167.460007</td>\n",
       "      <td>174.479996</td>\n",
       "    </tr>\n",
       "    <tr>\n",
       "      <th>2023-03-14</th>\n",
       "      <td>177.309998</td>\n",
       "      <td>183.259995</td>\n",
       "    </tr>\n",
       "  </tbody>\n",
       "</table>\n",
       "</div>"
      ],
      "text/plain": [
       "                  Open       Close\n",
       "Date                              \n",
       "2023-03-08  185.039993  182.000000\n",
       "2023-03-09  180.250000  172.919998\n",
       "2023-03-10  175.130005  173.440002\n",
       "2023-03-13  167.460007  174.479996\n",
       "2023-03-14  177.309998  183.259995"
      ]
     },
     "execution_count": 87,
     "metadata": {},
     "output_type": "execute_result"
    }
   ],
   "source": [
    "tsla[['Open','Close']]"
   ]
  },
  {
   "cell_type": "code",
   "execution_count": 88,
   "id": "fb165150",
   "metadata": {},
   "outputs": [
    {
     "data": {
      "text/plain": [
       "Open         1.773100e+02\n",
       "High         1.838000e+02\n",
       "Low          1.771400e+02\n",
       "Close        1.832600e+02\n",
       "Adj Close    1.832600e+02\n",
       "Volume       1.434304e+08\n",
       "Name: 2023-03-14 00:00:00, dtype: float64"
      ]
     },
     "execution_count": 88,
     "metadata": {},
     "output_type": "execute_result"
    }
   ],
   "source": [
    "tsla.loc['2023-03-14']"
   ]
  },
  {
   "cell_type": "code",
   "execution_count": 89,
   "id": "e95e1c6e",
   "metadata": {},
   "outputs": [
    {
     "data": {
      "text/plain": [
       "Open         1.802500e+02\n",
       "High         1.851800e+02\n",
       "Low          1.725100e+02\n",
       "Close        1.729200e+02\n",
       "Adj Close    1.729200e+02\n",
       "Volume       1.700238e+08\n",
       "Name: 2023-03-09 00:00:00, dtype: float64"
      ]
     },
     "execution_count": 89,
     "metadata": {},
     "output_type": "execute_result"
    }
   ],
   "source": [
    "tsla.iloc[1]    # 2023-03-09"
   ]
  },
  {
   "cell_type": "code",
   "execution_count": 90,
   "id": "9f8983e5",
   "metadata": {},
   "outputs": [
    {
     "data": {
      "text/html": [
       "<div>\n",
       "<style scoped>\n",
       "    .dataframe tbody tr th:only-of-type {\n",
       "        vertical-align: middle;\n",
       "    }\n",
       "\n",
       "    .dataframe tbody tr th {\n",
       "        vertical-align: top;\n",
       "    }\n",
       "\n",
       "    .dataframe thead th {\n",
       "        text-align: right;\n",
       "    }\n",
       "</style>\n",
       "<table border=\"1\" class=\"dataframe\">\n",
       "  <thead>\n",
       "    <tr style=\"text-align: right;\">\n",
       "      <th></th>\n",
       "      <th>Open</th>\n",
       "      <th>High</th>\n",
       "      <th>Low</th>\n",
       "      <th>Close</th>\n",
       "    </tr>\n",
       "    <tr>\n",
       "      <th>Date</th>\n",
       "      <th></th>\n",
       "      <th></th>\n",
       "      <th></th>\n",
       "      <th></th>\n",
       "    </tr>\n",
       "  </thead>\n",
       "  <tbody>\n",
       "    <tr>\n",
       "      <th>2023-03-08</th>\n",
       "      <td>185.039993</td>\n",
       "      <td>186.500000</td>\n",
       "      <td>180.000000</td>\n",
       "      <td>182.000000</td>\n",
       "    </tr>\n",
       "    <tr>\n",
       "      <th>2023-03-10</th>\n",
       "      <td>175.130005</td>\n",
       "      <td>178.289993</td>\n",
       "      <td>168.440002</td>\n",
       "      <td>173.440002</td>\n",
       "    </tr>\n",
       "    <tr>\n",
       "      <th>2023-03-14</th>\n",
       "      <td>177.309998</td>\n",
       "      <td>183.800003</td>\n",
       "      <td>177.139999</td>\n",
       "      <td>183.259995</td>\n",
       "    </tr>\n",
       "  </tbody>\n",
       "</table>\n",
       "</div>"
      ],
      "text/plain": [
       "                  Open        High         Low       Close\n",
       "Date                                                      \n",
       "2023-03-08  185.039993  186.500000  180.000000  182.000000\n",
       "2023-03-10  175.130005  178.289993  168.440002  173.440002\n",
       "2023-03-14  177.309998  183.800003  177.139999  183.259995"
      ]
     },
     "execution_count": 90,
     "metadata": {},
     "output_type": "execute_result"
    }
   ],
   "source": [
    "# slicing\n",
    "tsla.loc['2023-03-08':'2023-03-14':2, 'Open':'Close']\n",
    "#tsla.iloc[0:3,0:3]    # 2023-03-08 ~ 2023-03-10"
   ]
  },
  {
   "cell_type": "code",
   "execution_count": 91,
   "id": "50bee858",
   "metadata": {},
   "outputs": [
    {
     "data": {
      "text/html": [
       "<div>\n",
       "<style scoped>\n",
       "    .dataframe tbody tr th:only-of-type {\n",
       "        vertical-align: middle;\n",
       "    }\n",
       "\n",
       "    .dataframe tbody tr th {\n",
       "        vertical-align: top;\n",
       "    }\n",
       "\n",
       "    .dataframe thead th {\n",
       "        text-align: right;\n",
       "    }\n",
       "</style>\n",
       "<table border=\"1\" class=\"dataframe\">\n",
       "  <thead>\n",
       "    <tr style=\"text-align: right;\">\n",
       "      <th></th>\n",
       "      <th>Open</th>\n",
       "      <th>Close</th>\n",
       "      <th>Adj Close</th>\n",
       "      <th>High</th>\n",
       "      <th>Low</th>\n",
       "      <th>Volume</th>\n",
       "    </tr>\n",
       "    <tr>\n",
       "      <th>Date</th>\n",
       "      <th></th>\n",
       "      <th></th>\n",
       "      <th></th>\n",
       "      <th></th>\n",
       "      <th></th>\n",
       "      <th></th>\n",
       "    </tr>\n",
       "  </thead>\n",
       "  <tbody>\n",
       "    <tr>\n",
       "      <th>2023-03-08</th>\n",
       "      <td>185.039993</td>\n",
       "      <td>182.000000</td>\n",
       "      <td>182.000000</td>\n",
       "      <td>186.500000</td>\n",
       "      <td>180.000000</td>\n",
       "      <td>151897800</td>\n",
       "    </tr>\n",
       "    <tr>\n",
       "      <th>2023-03-09</th>\n",
       "      <td>180.250000</td>\n",
       "      <td>172.919998</td>\n",
       "      <td>172.919998</td>\n",
       "      <td>185.179993</td>\n",
       "      <td>172.509995</td>\n",
       "      <td>170023800</td>\n",
       "    </tr>\n",
       "    <tr>\n",
       "      <th>2023-03-10</th>\n",
       "      <td>175.130005</td>\n",
       "      <td>173.440002</td>\n",
       "      <td>173.440002</td>\n",
       "      <td>178.289993</td>\n",
       "      <td>168.440002</td>\n",
       "      <td>191007900</td>\n",
       "    </tr>\n",
       "    <tr>\n",
       "      <th>2023-03-13</th>\n",
       "      <td>167.460007</td>\n",
       "      <td>174.479996</td>\n",
       "      <td>174.479996</td>\n",
       "      <td>177.350006</td>\n",
       "      <td>163.910004</td>\n",
       "      <td>167790300</td>\n",
       "    </tr>\n",
       "    <tr>\n",
       "      <th>2023-03-14</th>\n",
       "      <td>177.309998</td>\n",
       "      <td>183.259995</td>\n",
       "      <td>183.259995</td>\n",
       "      <td>183.800003</td>\n",
       "      <td>177.139999</td>\n",
       "      <td>143430400</td>\n",
       "    </tr>\n",
       "  </tbody>\n",
       "</table>\n",
       "</div>"
      ],
      "text/plain": [
       "                  Open       Close   Adj Close        High         Low  \\\n",
       "Date                                                                     \n",
       "2023-03-08  185.039993  182.000000  182.000000  186.500000  180.000000   \n",
       "2023-03-09  180.250000  172.919998  172.919998  185.179993  172.509995   \n",
       "2023-03-10  175.130005  173.440002  173.440002  178.289993  168.440002   \n",
       "2023-03-13  167.460007  174.479996  174.479996  177.350006  163.910004   \n",
       "2023-03-14  177.309998  183.259995  183.259995  183.800003  177.139999   \n",
       "\n",
       "               Volume  \n",
       "Date                   \n",
       "2023-03-08  151897800  \n",
       "2023-03-09  170023800  \n",
       "2023-03-10  191007900  \n",
       "2023-03-13  167790300  \n",
       "2023-03-14  143430400  "
      ]
     },
     "execution_count": 91,
     "metadata": {},
     "output_type": "execute_result"
    }
   ],
   "source": [
    "tsla.reindex(columns=['Open','Close','Adj Close','High','Low','Volume'])"
   ]
  },
  {
   "cell_type": "code",
   "execution_count": 92,
   "id": "9205e3da",
   "metadata": {
    "scrolled": false
   },
   "outputs": [
    {
     "data": {
      "text/html": [
       "<div>\n",
       "<style scoped>\n",
       "    .dataframe tbody tr th:only-of-type {\n",
       "        vertical-align: middle;\n",
       "    }\n",
       "\n",
       "    .dataframe tbody tr th {\n",
       "        vertical-align: top;\n",
       "    }\n",
       "\n",
       "    .dataframe thead th {\n",
       "        text-align: right;\n",
       "    }\n",
       "</style>\n",
       "<table border=\"1\" class=\"dataframe\">\n",
       "  <thead>\n",
       "    <tr style=\"text-align: right;\">\n",
       "      <th></th>\n",
       "      <th>open</th>\n",
       "      <th>High</th>\n",
       "      <th>Low</th>\n",
       "      <th>Close</th>\n",
       "      <th>Adj Close</th>\n",
       "      <th>Volume</th>\n",
       "    </tr>\n",
       "    <tr>\n",
       "      <th>Date</th>\n",
       "      <th></th>\n",
       "      <th></th>\n",
       "      <th></th>\n",
       "      <th></th>\n",
       "      <th></th>\n",
       "      <th></th>\n",
       "    </tr>\n",
       "  </thead>\n",
       "  <tbody>\n",
       "    <tr>\n",
       "      <th>2023-03-08</th>\n",
       "      <td>185.039993</td>\n",
       "      <td>186.500000</td>\n",
       "      <td>180.000000</td>\n",
       "      <td>182.000000</td>\n",
       "      <td>182.000000</td>\n",
       "      <td>151897800</td>\n",
       "    </tr>\n",
       "    <tr>\n",
       "      <th>2023-03-09</th>\n",
       "      <td>180.250000</td>\n",
       "      <td>185.179993</td>\n",
       "      <td>172.509995</td>\n",
       "      <td>172.919998</td>\n",
       "      <td>172.919998</td>\n",
       "      <td>170023800</td>\n",
       "    </tr>\n",
       "    <tr>\n",
       "      <th>2023-03-10</th>\n",
       "      <td>175.130005</td>\n",
       "      <td>178.289993</td>\n",
       "      <td>168.440002</td>\n",
       "      <td>173.440002</td>\n",
       "      <td>173.440002</td>\n",
       "      <td>191007900</td>\n",
       "    </tr>\n",
       "    <tr>\n",
       "      <th>2023-03-13</th>\n",
       "      <td>167.460007</td>\n",
       "      <td>177.350006</td>\n",
       "      <td>163.910004</td>\n",
       "      <td>174.479996</td>\n",
       "      <td>174.479996</td>\n",
       "      <td>167790300</td>\n",
       "    </tr>\n",
       "    <tr>\n",
       "      <th>2023-03-14</th>\n",
       "      <td>177.309998</td>\n",
       "      <td>183.800003</td>\n",
       "      <td>177.139999</td>\n",
       "      <td>183.259995</td>\n",
       "      <td>183.259995</td>\n",
       "      <td>143430400</td>\n",
       "    </tr>\n",
       "  </tbody>\n",
       "</table>\n",
       "</div>"
      ],
      "text/plain": [
       "                  open        High         Low       Close   Adj Close  \\\n",
       "Date                                                                     \n",
       "2023-03-08  185.039993  186.500000  180.000000  182.000000  182.000000   \n",
       "2023-03-09  180.250000  185.179993  172.509995  172.919998  172.919998   \n",
       "2023-03-10  175.130005  178.289993  168.440002  173.440002  173.440002   \n",
       "2023-03-13  167.460007  177.350006  163.910004  174.479996  174.479996   \n",
       "2023-03-14  177.309998  183.800003  177.139999  183.259995  183.259995   \n",
       "\n",
       "               Volume  \n",
       "Date                   \n",
       "2023-03-08  151897800  \n",
       "2023-03-09  170023800  \n",
       "2023-03-10  191007900  \n",
       "2023-03-13  167790300  \n",
       "2023-03-14  143430400  "
      ]
     },
     "execution_count": 92,
     "metadata": {},
     "output_type": "execute_result"
    }
   ],
   "source": [
    "tsla.rename(columns={'Open':'open'})"
   ]
  },
  {
   "cell_type": "code",
   "execution_count": 93,
   "id": "e1ef1eec",
   "metadata": {},
   "outputs": [],
   "source": [
    "#tsla.rename(index={'2023-03-14':'Yesterday'})  --> Error"
   ]
  },
  {
   "cell_type": "code",
   "execution_count": 94,
   "id": "e6f3439f",
   "metadata": {},
   "outputs": [
    {
     "name": "stdout",
     "output_type": "stream",
     "text": [
      "<class 'pandas.core.indexes.datetimes.DatetimeIndex'>\n"
     ]
    }
   ],
   "source": [
    "print(type(tsla.index))"
   ]
  },
  {
   "cell_type": "code",
   "execution_count": 95,
   "id": "f654275d",
   "metadata": {
    "scrolled": false
   },
   "outputs": [],
   "source": [
    "Tsla=tsla.rename(index=lambda x: x.strftime('%Y-%m-%d'))"
   ]
  },
  {
   "cell_type": "code",
   "execution_count": 97,
   "id": "0fb8c87f",
   "metadata": {},
   "outputs": [
    {
     "data": {
      "text/html": [
       "<div>\n",
       "<style scoped>\n",
       "    .dataframe tbody tr th:only-of-type {\n",
       "        vertical-align: middle;\n",
       "    }\n",
       "\n",
       "    .dataframe tbody tr th {\n",
       "        vertical-align: top;\n",
       "    }\n",
       "\n",
       "    .dataframe thead th {\n",
       "        text-align: right;\n",
       "    }\n",
       "</style>\n",
       "<table border=\"1\" class=\"dataframe\">\n",
       "  <thead>\n",
       "    <tr style=\"text-align: right;\">\n",
       "      <th></th>\n",
       "      <th>Open</th>\n",
       "      <th>High</th>\n",
       "      <th>Low</th>\n",
       "      <th>Close</th>\n",
       "      <th>Adj Close</th>\n",
       "      <th>Volume</th>\n",
       "    </tr>\n",
       "    <tr>\n",
       "      <th>Date</th>\n",
       "      <th></th>\n",
       "      <th></th>\n",
       "      <th></th>\n",
       "      <th></th>\n",
       "      <th></th>\n",
       "      <th></th>\n",
       "    </tr>\n",
       "  </thead>\n",
       "  <tbody>\n",
       "    <tr>\n",
       "      <th>2023-03-08</th>\n",
       "      <td>185.039993</td>\n",
       "      <td>186.500000</td>\n",
       "      <td>180.000000</td>\n",
       "      <td>182.000000</td>\n",
       "      <td>182.000000</td>\n",
       "      <td>151897800</td>\n",
       "    </tr>\n",
       "    <tr>\n",
       "      <th>2023-03-09</th>\n",
       "      <td>180.250000</td>\n",
       "      <td>185.179993</td>\n",
       "      <td>172.509995</td>\n",
       "      <td>172.919998</td>\n",
       "      <td>172.919998</td>\n",
       "      <td>170023800</td>\n",
       "    </tr>\n",
       "    <tr>\n",
       "      <th>2023-03-10</th>\n",
       "      <td>175.130005</td>\n",
       "      <td>178.289993</td>\n",
       "      <td>168.440002</td>\n",
       "      <td>173.440002</td>\n",
       "      <td>173.440002</td>\n",
       "      <td>191007900</td>\n",
       "    </tr>\n",
       "    <tr>\n",
       "      <th>2023-03-13</th>\n",
       "      <td>167.460007</td>\n",
       "      <td>177.350006</td>\n",
       "      <td>163.910004</td>\n",
       "      <td>174.479996</td>\n",
       "      <td>174.479996</td>\n",
       "      <td>167790300</td>\n",
       "    </tr>\n",
       "    <tr>\n",
       "      <th>Yesterday</th>\n",
       "      <td>177.309998</td>\n",
       "      <td>183.800003</td>\n",
       "      <td>177.139999</td>\n",
       "      <td>183.259995</td>\n",
       "      <td>183.259995</td>\n",
       "      <td>143430400</td>\n",
       "    </tr>\n",
       "  </tbody>\n",
       "</table>\n",
       "</div>"
      ],
      "text/plain": [
       "                  Open        High         Low       Close   Adj Close  \\\n",
       "Date                                                                     \n",
       "2023-03-08  185.039993  186.500000  180.000000  182.000000  182.000000   \n",
       "2023-03-09  180.250000  185.179993  172.509995  172.919998  172.919998   \n",
       "2023-03-10  175.130005  178.289993  168.440002  173.440002  173.440002   \n",
       "2023-03-13  167.460007  177.350006  163.910004  174.479996  174.479996   \n",
       "Yesterday   177.309998  183.800003  177.139999  183.259995  183.259995   \n",
       "\n",
       "               Volume  \n",
       "Date                   \n",
       "2023-03-08  151897800  \n",
       "2023-03-09  170023800  \n",
       "2023-03-10  191007900  \n",
       "2023-03-13  167790300  \n",
       "Yesterday   143430400  "
      ]
     },
     "execution_count": 97,
     "metadata": {},
     "output_type": "execute_result"
    }
   ],
   "source": [
    "# Tsla.rename(index={'2023-03-14':'Yesertday'}), inplace=True)\n",
    "Tsla = Tsla.rename(index={'2023-03-14':'Yesterday'}) # inplace = True를 사용한 것과 같다\n",
    "Tsla"
   ]
  },
  {
   "cell_type": "code",
   "execution_count": 98,
   "id": "c08f0f58",
   "metadata": {},
   "outputs": [
    {
     "data": {
      "text/html": [
       "<div>\n",
       "<style scoped>\n",
       "    .dataframe tbody tr th:only-of-type {\n",
       "        vertical-align: middle;\n",
       "    }\n",
       "\n",
       "    .dataframe tbody tr th {\n",
       "        vertical-align: top;\n",
       "    }\n",
       "\n",
       "    .dataframe thead th {\n",
       "        text-align: right;\n",
       "    }\n",
       "</style>\n",
       "<table border=\"1\" class=\"dataframe\">\n",
       "  <thead>\n",
       "    <tr style=\"text-align: right;\">\n",
       "      <th></th>\n",
       "      <th>Open</th>\n",
       "      <th>High</th>\n",
       "      <th>Low</th>\n",
       "      <th>Close</th>\n",
       "      <th>Adj Close</th>\n",
       "      <th>Volume</th>\n",
       "    </tr>\n",
       "    <tr>\n",
       "      <th>Date</th>\n",
       "      <th></th>\n",
       "      <th></th>\n",
       "      <th></th>\n",
       "      <th></th>\n",
       "      <th></th>\n",
       "      <th></th>\n",
       "    </tr>\n",
       "  </thead>\n",
       "  <tbody>\n",
       "    <tr>\n",
       "      <th>2023-03-08</th>\n",
       "      <td>185.039993</td>\n",
       "      <td>186.500000</td>\n",
       "      <td>180.000000</td>\n",
       "      <td>182.000000</td>\n",
       "      <td>182.000000</td>\n",
       "      <td>151897800.0</td>\n",
       "    </tr>\n",
       "    <tr>\n",
       "      <th>2023-03-09</th>\n",
       "      <td>180.250000</td>\n",
       "      <td>185.179993</td>\n",
       "      <td>172.509995</td>\n",
       "      <td>172.919998</td>\n",
       "      <td>172.919998</td>\n",
       "      <td>170023800.0</td>\n",
       "    </tr>\n",
       "    <tr>\n",
       "      <th>2023-03-10</th>\n",
       "      <td>175.130005</td>\n",
       "      <td>178.289993</td>\n",
       "      <td>168.440002</td>\n",
       "      <td>173.440002</td>\n",
       "      <td>173.440002</td>\n",
       "      <td>191007900.0</td>\n",
       "    </tr>\n",
       "    <tr>\n",
       "      <th>2023-03-13</th>\n",
       "      <td>167.460007</td>\n",
       "      <td>177.350006</td>\n",
       "      <td>163.910004</td>\n",
       "      <td>174.479996</td>\n",
       "      <td>174.479996</td>\n",
       "      <td>167790300.0</td>\n",
       "    </tr>\n",
       "    <tr>\n",
       "      <th>Yesterday</th>\n",
       "      <td>177.309998</td>\n",
       "      <td>183.800003</td>\n",
       "      <td>177.139999</td>\n",
       "      <td>183.259995</td>\n",
       "      <td>183.259995</td>\n",
       "      <td>143430400.0</td>\n",
       "    </tr>\n",
       "    <tr>\n",
       "      <th>Tomorrow</th>\n",
       "      <td>304.829987</td>\n",
       "      <td>310.119995</td>\n",
       "      <td>310.720001</td>\n",
       "      <td>310.750000</td>\n",
       "      <td>310.750000</td>\n",
       "      <td>54613900.0</td>\n",
       "    </tr>\n",
       "  </tbody>\n",
       "</table>\n",
       "</div>"
      ],
      "text/plain": [
       "                  Open        High         Low       Close   Adj Close  \\\n",
       "Date                                                                     \n",
       "2023-03-08  185.039993  186.500000  180.000000  182.000000  182.000000   \n",
       "2023-03-09  180.250000  185.179993  172.509995  172.919998  172.919998   \n",
       "2023-03-10  175.130005  178.289993  168.440002  173.440002  173.440002   \n",
       "2023-03-13  167.460007  177.350006  163.910004  174.479996  174.479996   \n",
       "Yesterday   177.309998  183.800003  177.139999  183.259995  183.259995   \n",
       "Tomorrow    304.829987  310.119995  310.720001  310.750000  310.750000   \n",
       "\n",
       "                 Volume  \n",
       "Date                     \n",
       "2023-03-08  151897800.0  \n",
       "2023-03-09  170023800.0  \n",
       "2023-03-10  191007900.0  \n",
       "2023-03-13  167790300.0  \n",
       "Yesterday   143430400.0  \n",
       "Tomorrow     54613900.0  "
      ]
     },
     "execution_count": 98,
     "metadata": {},
     "output_type": "execute_result"
    }
   ],
   "source": [
    "# index 추가\n",
    "Tsla.loc['Tomorrow']=[304.829987, 310.119995, 310.720001, 310.750000, 310.750000, 54613900]\n",
    "Tsla"
   ]
  },
  {
   "cell_type": "code",
   "execution_count": 99,
   "id": "03b7a3f2",
   "metadata": {},
   "outputs": [
    {
     "data": {
      "text/html": [
       "<div>\n",
       "<style scoped>\n",
       "    .dataframe tbody tr th:only-of-type {\n",
       "        vertical-align: middle;\n",
       "    }\n",
       "\n",
       "    .dataframe tbody tr th {\n",
       "        vertical-align: top;\n",
       "    }\n",
       "\n",
       "    .dataframe thead th {\n",
       "        text-align: right;\n",
       "    }\n",
       "</style>\n",
       "<table border=\"1\" class=\"dataframe\">\n",
       "  <thead>\n",
       "    <tr style=\"text-align: right;\">\n",
       "      <th></th>\n",
       "      <th>Open</th>\n",
       "      <th>High</th>\n",
       "      <th>Low</th>\n",
       "      <th>Close</th>\n",
       "      <th>Volume</th>\n",
       "    </tr>\n",
       "    <tr>\n",
       "      <th>Date</th>\n",
       "      <th></th>\n",
       "      <th></th>\n",
       "      <th></th>\n",
       "      <th></th>\n",
       "      <th></th>\n",
       "    </tr>\n",
       "  </thead>\n",
       "  <tbody>\n",
       "    <tr>\n",
       "      <th>2023-03-08</th>\n",
       "      <td>185.039993</td>\n",
       "      <td>186.500000</td>\n",
       "      <td>180.000000</td>\n",
       "      <td>182.000000</td>\n",
       "      <td>151897800.0</td>\n",
       "    </tr>\n",
       "    <tr>\n",
       "      <th>2023-03-09</th>\n",
       "      <td>180.250000</td>\n",
       "      <td>185.179993</td>\n",
       "      <td>172.509995</td>\n",
       "      <td>172.919998</td>\n",
       "      <td>170023800.0</td>\n",
       "    </tr>\n",
       "    <tr>\n",
       "      <th>2023-03-10</th>\n",
       "      <td>175.130005</td>\n",
       "      <td>178.289993</td>\n",
       "      <td>168.440002</td>\n",
       "      <td>173.440002</td>\n",
       "      <td>191007900.0</td>\n",
       "    </tr>\n",
       "    <tr>\n",
       "      <th>2023-03-13</th>\n",
       "      <td>167.460007</td>\n",
       "      <td>177.350006</td>\n",
       "      <td>163.910004</td>\n",
       "      <td>174.479996</td>\n",
       "      <td>167790300.0</td>\n",
       "    </tr>\n",
       "    <tr>\n",
       "      <th>Tomorrow</th>\n",
       "      <td>304.829987</td>\n",
       "      <td>310.119995</td>\n",
       "      <td>310.720001</td>\n",
       "      <td>310.750000</td>\n",
       "      <td>54613900.0</td>\n",
       "    </tr>\n",
       "  </tbody>\n",
       "</table>\n",
       "</div>"
      ],
      "text/plain": [
       "                  Open        High         Low       Close       Volume\n",
       "Date                                                                   \n",
       "2023-03-08  185.039993  186.500000  180.000000  182.000000  151897800.0\n",
       "2023-03-09  180.250000  185.179993  172.509995  172.919998  170023800.0\n",
       "2023-03-10  175.130005  178.289993  168.440002  173.440002  191007900.0\n",
       "2023-03-13  167.460007  177.350006  163.910004  174.479996  167790300.0\n",
       "Tomorrow    304.829987  310.119995  310.720001  310.750000   54613900.0"
      ]
     },
     "execution_count": 99,
     "metadata": {},
     "output_type": "execute_result"
    }
   ],
   "source": [
    "# index 및 column 삭제\n",
    "# del Tsla['Adj Close']\n",
    "Tsla.drop(['Yesterday'], axis=0, inplace = True)\n",
    "Tsla.drop(['Adj Close'], axis=1, inplace = True)\n",
    "Tsla"
   ]
  },
  {
   "cell_type": "code",
   "execution_count": 100,
   "id": "70dad68d",
   "metadata": {},
   "outputs": [],
   "source": [
    "# list 사용해서 DataFrame 생성\n",
    "names = ['Amy', 'Bob', 'Cindy', 'James']\n",
    "score = [13,45,98,71]\n",
    "data_list = list(zip(names,score))\n",
    "# data_list\n",
    "lecture = pd.DataFrame(data = data_list, columns = ['Names', 'Score'])"
   ]
  },
  {
   "cell_type": "code",
   "execution_count": 101,
   "id": "0a01e71d",
   "metadata": {},
   "outputs": [
    {
     "data": {
      "text/html": [
       "<div>\n",
       "<style scoped>\n",
       "    .dataframe tbody tr th:only-of-type {\n",
       "        vertical-align: middle;\n",
       "    }\n",
       "\n",
       "    .dataframe tbody tr th {\n",
       "        vertical-align: top;\n",
       "    }\n",
       "\n",
       "    .dataframe thead th {\n",
       "        text-align: right;\n",
       "    }\n",
       "</style>\n",
       "<table border=\"1\" class=\"dataframe\">\n",
       "  <thead>\n",
       "    <tr style=\"text-align: right;\">\n",
       "      <th></th>\n",
       "      <th>Names</th>\n",
       "      <th>Score</th>\n",
       "    </tr>\n",
       "  </thead>\n",
       "  <tbody>\n",
       "    <tr>\n",
       "      <th>0</th>\n",
       "      <td>Amy</td>\n",
       "      <td>13</td>\n",
       "    </tr>\n",
       "    <tr>\n",
       "      <th>1</th>\n",
       "      <td>Bob</td>\n",
       "      <td>45</td>\n",
       "    </tr>\n",
       "    <tr>\n",
       "      <th>2</th>\n",
       "      <td>Cindy</td>\n",
       "      <td>98</td>\n",
       "    </tr>\n",
       "    <tr>\n",
       "      <th>3</th>\n",
       "      <td>James</td>\n",
       "      <td>71</td>\n",
       "    </tr>\n",
       "  </tbody>\n",
       "</table>\n",
       "</div>"
      ],
      "text/plain": [
       "   Names  Score\n",
       "0    Amy     13\n",
       "1    Bob     45\n",
       "2  Cindy     98\n",
       "3  James     71"
      ]
     },
     "execution_count": 101,
     "metadata": {},
     "output_type": "execute_result"
    }
   ],
   "source": [
    "lecture"
   ]
  },
  {
   "cell_type": "code",
   "execution_count": 102,
   "id": "d98ce917",
   "metadata": {},
   "outputs": [
    {
     "data": {
      "text/html": [
       "<div>\n",
       "<style scoped>\n",
       "    .dataframe tbody tr th:only-of-type {\n",
       "        vertical-align: middle;\n",
       "    }\n",
       "\n",
       "    .dataframe tbody tr th {\n",
       "        vertical-align: top;\n",
       "    }\n",
       "\n",
       "    .dataframe thead th {\n",
       "        text-align: right;\n",
       "    }\n",
       "</style>\n",
       "<table border=\"1\" class=\"dataframe\">\n",
       "  <thead>\n",
       "    <tr style=\"text-align: right;\">\n",
       "      <th></th>\n",
       "      <th>Score</th>\n",
       "    </tr>\n",
       "    <tr>\n",
       "      <th>Names</th>\n",
       "      <th></th>\n",
       "    </tr>\n",
       "  </thead>\n",
       "  <tbody>\n",
       "    <tr>\n",
       "      <th>Amy</th>\n",
       "      <td>13</td>\n",
       "    </tr>\n",
       "    <tr>\n",
       "      <th>Bob</th>\n",
       "      <td>45</td>\n",
       "    </tr>\n",
       "    <tr>\n",
       "      <th>Cindy</th>\n",
       "      <td>98</td>\n",
       "    </tr>\n",
       "    <tr>\n",
       "      <th>James</th>\n",
       "      <td>71</td>\n",
       "    </tr>\n",
       "  </tbody>\n",
       "</table>\n",
       "</div>"
      ],
      "text/plain": [
       "       Score\n",
       "Names       \n",
       "Amy       13\n",
       "Bob       45\n",
       "Cindy     98\n",
       "James     71"
      ]
     },
     "execution_count": 102,
     "metadata": {},
     "output_type": "execute_result"
    }
   ],
   "source": [
    "lecture.set_index(['Names'])"
   ]
  },
  {
   "cell_type": "code",
   "execution_count": 103,
   "id": "0d4bf4a7",
   "metadata": {},
   "outputs": [
    {
     "data": {
      "text/html": [
       "<div>\n",
       "<style scoped>\n",
       "    .dataframe tbody tr th:only-of-type {\n",
       "        vertical-align: middle;\n",
       "    }\n",
       "\n",
       "    .dataframe tbody tr th {\n",
       "        vertical-align: top;\n",
       "    }\n",
       "\n",
       "    .dataframe thead th {\n",
       "        text-align: right;\n",
       "    }\n",
       "</style>\n",
       "<table border=\"1\" class=\"dataframe\">\n",
       "  <thead>\n",
       "    <tr style=\"text-align: right;\">\n",
       "      <th></th>\n",
       "      <th>Score</th>\n",
       "      <th>Names</th>\n",
       "    </tr>\n",
       "  </thead>\n",
       "  <tbody>\n",
       "    <tr>\n",
       "      <th>0</th>\n",
       "      <td>13</td>\n",
       "      <td>Amy</td>\n",
       "    </tr>\n",
       "    <tr>\n",
       "      <th>1</th>\n",
       "      <td>45</td>\n",
       "      <td>Bob</td>\n",
       "    </tr>\n",
       "    <tr>\n",
       "      <th>2</th>\n",
       "      <td>98</td>\n",
       "      <td>Cindy</td>\n",
       "    </tr>\n",
       "    <tr>\n",
       "      <th>3</th>\n",
       "      <td>71</td>\n",
       "      <td>James</td>\n",
       "    </tr>\n",
       "  </tbody>\n",
       "</table>\n",
       "</div>"
      ],
      "text/plain": [
       "   Score  Names\n",
       "0     13    Amy\n",
       "1     45    Bob\n",
       "2     98  Cindy\n",
       "3     71  James"
      ]
     },
     "execution_count": 103,
     "metadata": {},
     "output_type": "execute_result"
    }
   ],
   "source": [
    "# 정렬\n",
    "lecture.sort_values(by='Score')\n",
    "lecture.sort_values(by='Score',ascending=False)\n",
    "lecture.sort_index()    # index\n",
    "lecture.sort_index(axis=1, ascending=False)    # column명 내림차순"
   ]
  },
  {
   "cell_type": "code",
   "execution_count": 104,
   "id": "55e7252c",
   "metadata": {},
   "outputs": [
    {
     "data": {
      "text/html": [
       "<div>\n",
       "<style scoped>\n",
       "    .dataframe tbody tr th:only-of-type {\n",
       "        vertical-align: middle;\n",
       "    }\n",
       "\n",
       "    .dataframe tbody tr th {\n",
       "        vertical-align: top;\n",
       "    }\n",
       "\n",
       "    .dataframe thead th {\n",
       "        text-align: right;\n",
       "    }\n",
       "</style>\n",
       "<table border=\"1\" class=\"dataframe\">\n",
       "  <thead>\n",
       "    <tr style=\"text-align: right;\">\n",
       "      <th>COLUMNS</th>\n",
       "      <th>Names</th>\n",
       "      <th>Score</th>\n",
       "    </tr>\n",
       "    <tr>\n",
       "      <th>INDEX</th>\n",
       "      <th></th>\n",
       "      <th></th>\n",
       "    </tr>\n",
       "  </thead>\n",
       "  <tbody>\n",
       "    <tr>\n",
       "      <th>0</th>\n",
       "      <td>Amy</td>\n",
       "      <td>13</td>\n",
       "    </tr>\n",
       "    <tr>\n",
       "      <th>1</th>\n",
       "      <td>Bob</td>\n",
       "      <td>45</td>\n",
       "    </tr>\n",
       "    <tr>\n",
       "      <th>2</th>\n",
       "      <td>Cindy</td>\n",
       "      <td>98</td>\n",
       "    </tr>\n",
       "    <tr>\n",
       "      <th>3</th>\n",
       "      <td>James</td>\n",
       "      <td>71</td>\n",
       "    </tr>\n",
       "  </tbody>\n",
       "</table>\n",
       "</div>"
      ],
      "text/plain": [
       "COLUMNS  Names  Score\n",
       "INDEX                \n",
       "0          Amy     13\n",
       "1          Bob     45\n",
       "2        Cindy     98\n",
       "3        James     71"
      ]
     },
     "execution_count": 104,
     "metadata": {},
     "output_type": "execute_result"
    }
   ],
   "source": [
    "lecture.index.name='INDEX'\n",
    "lecture.columns.name='COLUMNS'\n",
    "lecture"
   ]
  },
  {
   "cell_type": "code",
   "execution_count": 105,
   "id": "ca233083",
   "metadata": {},
   "outputs": [
    {
     "data": {
      "text/html": [
       "<div>\n",
       "<style scoped>\n",
       "    .dataframe tbody tr th:only-of-type {\n",
       "        vertical-align: middle;\n",
       "    }\n",
       "\n",
       "    .dataframe tbody tr th {\n",
       "        vertical-align: top;\n",
       "    }\n",
       "\n",
       "    .dataframe thead th {\n",
       "        text-align: right;\n",
       "    }\n",
       "</style>\n",
       "<table border=\"1\" class=\"dataframe\">\n",
       "  <thead>\n",
       "    <tr style=\"text-align: right;\">\n",
       "      <th>INDEX</th>\n",
       "      <th>0</th>\n",
       "      <th>1</th>\n",
       "      <th>2</th>\n",
       "      <th>3</th>\n",
       "    </tr>\n",
       "    <tr>\n",
       "      <th>COLUMNS</th>\n",
       "      <th></th>\n",
       "      <th></th>\n",
       "      <th></th>\n",
       "      <th></th>\n",
       "    </tr>\n",
       "  </thead>\n",
       "  <tbody>\n",
       "    <tr>\n",
       "      <th>Names</th>\n",
       "      <td>Amy</td>\n",
       "      <td>Bob</td>\n",
       "      <td>Cindy</td>\n",
       "      <td>James</td>\n",
       "    </tr>\n",
       "    <tr>\n",
       "      <th>Score</th>\n",
       "      <td>13</td>\n",
       "      <td>45</td>\n",
       "      <td>98</td>\n",
       "      <td>71</td>\n",
       "    </tr>\n",
       "  </tbody>\n",
       "</table>\n",
       "</div>"
      ],
      "text/plain": [
       "INDEX      0    1      2      3\n",
       "COLUMNS                        \n",
       "Names    Amy  Bob  Cindy  James\n",
       "Score     13   45     98     71"
      ]
     },
     "execution_count": 105,
     "metadata": {},
     "output_type": "execute_result"
    }
   ],
   "source": [
    "lecture.T"
   ]
  },
  {
   "cell_type": "code",
   "execution_count": 106,
   "id": "0703b4bc",
   "metadata": {},
   "outputs": [
    {
     "data": {
      "text/plain": [
       "LG          73800\n",
       "Samsung     71200\n",
       "Kakao      106500\n",
       "dtype: int64"
      ]
     },
     "execution_count": 106,
     "metadata": {},
     "output_type": "execute_result"
    }
   ],
   "source": [
    "stock = pd.Series({'LG': 73800, 'Samsung': 71200, 'Kakao': 106500})\n",
    "stock"
   ]
  },
  {
   "cell_type": "code",
   "execution_count": 107,
   "id": "b186a68e",
   "metadata": {},
   "outputs": [
    {
     "data": {
      "text/html": [
       "<div>\n",
       "<style scoped>\n",
       "    .dataframe tbody tr th:only-of-type {\n",
       "        vertical-align: middle;\n",
       "    }\n",
       "\n",
       "    .dataframe tbody tr th {\n",
       "        vertical-align: top;\n",
       "    }\n",
       "\n",
       "    .dataframe thead th {\n",
       "        text-align: right;\n",
       "    }\n",
       "</style>\n",
       "<table border=\"1\" class=\"dataframe\">\n",
       "  <thead>\n",
       "    <tr style=\"text-align: right;\">\n",
       "      <th></th>\n",
       "      <th>0</th>\n",
       "    </tr>\n",
       "  </thead>\n",
       "  <tbody>\n",
       "    <tr>\n",
       "      <th>LG</th>\n",
       "      <td>73800</td>\n",
       "    </tr>\n",
       "    <tr>\n",
       "      <th>Samsung</th>\n",
       "      <td>71200</td>\n",
       "    </tr>\n",
       "    <tr>\n",
       "      <th>Kakao</th>\n",
       "      <td>106500</td>\n",
       "    </tr>\n",
       "  </tbody>\n",
       "</table>\n",
       "</div>"
      ],
      "text/plain": [
       "              0\n",
       "LG        73800\n",
       "Samsung   71200\n",
       "Kakao    106500"
      ]
     },
     "execution_count": 107,
     "metadata": {},
     "output_type": "execute_result"
    }
   ],
   "source": [
    "stock1=pd.DataFrame(stock)\n",
    "stock1"
   ]
  },
  {
   "cell_type": "code",
   "execution_count": 108,
   "id": "53f9a27d",
   "metadata": {
    "scrolled": false
   },
   "outputs": [
    {
     "data": {
      "text/html": [
       "<div>\n",
       "<style scoped>\n",
       "    .dataframe tbody tr th:only-of-type {\n",
       "        vertical-align: middle;\n",
       "    }\n",
       "\n",
       "    .dataframe tbody tr th {\n",
       "        vertical-align: top;\n",
       "    }\n",
       "\n",
       "    .dataframe thead th {\n",
       "        text-align: right;\n",
       "    }\n",
       "</style>\n",
       "<table border=\"1\" class=\"dataframe\">\n",
       "  <thead>\n",
       "    <tr style=\"text-align: right;\">\n",
       "      <th></th>\n",
       "      <th>0</th>\n",
       "    </tr>\n",
       "  </thead>\n",
       "  <tbody>\n",
       "    <tr>\n",
       "      <th>LG</th>\n",
       "      <td>73800.0</td>\n",
       "    </tr>\n",
       "    <tr>\n",
       "      <th>Samsung</th>\n",
       "      <td>71200.0</td>\n",
       "    </tr>\n",
       "    <tr>\n",
       "      <th>Kakao</th>\n",
       "      <td>NaN</td>\n",
       "    </tr>\n",
       "  </tbody>\n",
       "</table>\n",
       "</div>"
      ],
      "text/plain": [
       "               0\n",
       "LG       73800.0\n",
       "Samsung  71200.0\n",
       "Kakao        NaN"
      ]
     },
     "execution_count": 108,
     "metadata": {},
     "output_type": "execute_result"
    }
   ],
   "source": [
    "stock1.where(stock1<100000)"
   ]
  },
  {
   "cell_type": "code",
   "execution_count": 109,
   "id": "47480dec",
   "metadata": {
    "scrolled": true
   },
   "outputs": [
    {
     "data": {
      "text/html": [
       "<div>\n",
       "<style scoped>\n",
       "    .dataframe tbody tr th:only-of-type {\n",
       "        vertical-align: middle;\n",
       "    }\n",
       "\n",
       "    .dataframe tbody tr th {\n",
       "        vertical-align: top;\n",
       "    }\n",
       "\n",
       "    .dataframe thead th {\n",
       "        text-align: right;\n",
       "    }\n",
       "</style>\n",
       "<table border=\"1\" class=\"dataframe\">\n",
       "  <thead>\n",
       "    <tr style=\"text-align: right;\">\n",
       "      <th></th>\n",
       "      <th>0</th>\n",
       "    </tr>\n",
       "  </thead>\n",
       "  <tbody>\n",
       "    <tr>\n",
       "      <th>LG</th>\n",
       "      <td>NaN</td>\n",
       "    </tr>\n",
       "    <tr>\n",
       "      <th>Samsung</th>\n",
       "      <td>71200.0</td>\n",
       "    </tr>\n",
       "    <tr>\n",
       "      <th>Kakao</th>\n",
       "      <td>NaN</td>\n",
       "    </tr>\n",
       "  </tbody>\n",
       "</table>\n",
       "</div>"
      ],
      "text/plain": [
       "               0\n",
       "LG           NaN\n",
       "Samsung  71200.0\n",
       "Kakao        NaN"
      ]
     },
     "execution_count": 109,
     "metadata": {},
     "output_type": "execute_result"
    }
   ],
   "source": [
    "stock1.where(stock1==stock1.min())"
   ]
  },
  {
   "cell_type": "code",
   "execution_count": 111,
   "id": "45054b51",
   "metadata": {},
   "outputs": [
    {
     "data": {
      "text/html": [
       "<div>\n",
       "<style scoped>\n",
       "    .dataframe tbody tr th:only-of-type {\n",
       "        vertical-align: middle;\n",
       "    }\n",
       "\n",
       "    .dataframe tbody tr th {\n",
       "        vertical-align: top;\n",
       "    }\n",
       "\n",
       "    .dataframe thead th {\n",
       "        text-align: right;\n",
       "    }\n",
       "</style>\n",
       "<table border=\"1\" class=\"dataframe\">\n",
       "  <thead>\n",
       "    <tr style=\"text-align: right;\">\n",
       "      <th></th>\n",
       "      <th>Population</th>\n",
       "      <th>Area</th>\n",
       "      <th>Year</th>\n",
       "    </tr>\n",
       "  </thead>\n",
       "  <tbody>\n",
       "    <tr>\n",
       "      <th>California</th>\n",
       "      <td>1423967</td>\n",
       "      <td>423967</td>\n",
       "      <td>2022</td>\n",
       "    </tr>\n",
       "    <tr>\n",
       "      <th>Texas</th>\n",
       "      <td>1695662</td>\n",
       "      <td>695662</td>\n",
       "      <td>2022</td>\n",
       "    </tr>\n",
       "    <tr>\n",
       "      <th>New York</th>\n",
       "      <td>1141297</td>\n",
       "      <td>141297</td>\n",
       "      <td>2022</td>\n",
       "    </tr>\n",
       "    <tr>\n",
       "      <th>Florida</th>\n",
       "      <td>1170312</td>\n",
       "      <td>170312</td>\n",
       "      <td>2022</td>\n",
       "    </tr>\n",
       "    <tr>\n",
       "      <th>Illinois</th>\n",
       "      <td>1149995</td>\n",
       "      <td>149995</td>\n",
       "      <td>2022</td>\n",
       "    </tr>\n",
       "  </tbody>\n",
       "</table>\n",
       "</div>"
      ],
      "text/plain": [
       "            Population    Area  Year\n",
       "California     1423967  423967  2022\n",
       "Texas          1695662  695662  2022\n",
       "New York       1141297  141297  2022\n",
       "Florida        1170312  170312  2022\n",
       "Illinois       1149995  149995  2022"
      ]
     },
     "execution_count": 111,
     "metadata": {},
     "output_type": "execute_result"
    }
   ],
   "source": [
    "# Series\n",
    "area = pd.Series({'California':423967, 'Texas':695662, 'New York': 141297, 'Florida': 170312, 'Illinois': 149995})\n",
    "population = pd.Series({'California':1423967, 'Texas':1695662, 'New York': 1141297, 'Florida': 1170312, 'Illinois': 1149995})\n",
    "states = pd.DataFrame({'Population': population, 'Area': area , 'Year' : 2022})\n",
    "states"
   ]
  },
  {
   "cell_type": "code",
   "execution_count": 112,
   "id": "939727dc",
   "metadata": {},
   "outputs": [
    {
     "data": {
      "text/html": [
       "<div>\n",
       "<style scoped>\n",
       "    .dataframe tbody tr th:only-of-type {\n",
       "        vertical-align: middle;\n",
       "    }\n",
       "\n",
       "    .dataframe tbody tr th {\n",
       "        vertical-align: top;\n",
       "    }\n",
       "\n",
       "    .dataframe thead th {\n",
       "        text-align: right;\n",
       "    }\n",
       "</style>\n",
       "<table border=\"1\" class=\"dataframe\">\n",
       "  <thead>\n",
       "    <tr style=\"text-align: right;\">\n",
       "      <th></th>\n",
       "      <th>Population</th>\n",
       "      <th>Area</th>\n",
       "    </tr>\n",
       "  </thead>\n",
       "  <tbody>\n",
       "    <tr>\n",
       "      <th>Seoul</th>\n",
       "      <td>423967</td>\n",
       "      <td>23967</td>\n",
       "    </tr>\n",
       "    <tr>\n",
       "      <th>Daegu</th>\n",
       "      <td>195662</td>\n",
       "      <td>15662</td>\n",
       "    </tr>\n",
       "    <tr>\n",
       "      <th>Busan</th>\n",
       "      <td>141297</td>\n",
       "      <td>11297</td>\n",
       "    </tr>\n",
       "  </tbody>\n",
       "</table>\n",
       "</div>"
      ],
      "text/plain": [
       "       Population   Area\n",
       "Seoul      423967  23967\n",
       "Daegu      195662  15662\n",
       "Busan      141297  11297"
      ]
     },
     "execution_count": 112,
     "metadata": {},
     "output_type": "execute_result"
    }
   ],
   "source": [
    "area1 = pd.Series({'Seoul':23967, 'Daegu':15662, 'Busan': 11297})\n",
    "population1 = pd.Series({'Seoul':423967, 'Daegu':195662, 'Busan': 141297})\n",
    "states1 = pd.DataFrame({'Population': population1, 'Area': area1})\n",
    "states1"
   ]
  },
  {
   "cell_type": "code",
   "execution_count": 113,
   "id": "a67df125",
   "metadata": {
    "scrolled": true
   },
   "outputs": [
    {
     "data": {
      "text/html": [
       "<div>\n",
       "<style scoped>\n",
       "    .dataframe tbody tr th:only-of-type {\n",
       "        vertical-align: middle;\n",
       "    }\n",
       "\n",
       "    .dataframe tbody tr th {\n",
       "        vertical-align: top;\n",
       "    }\n",
       "\n",
       "    .dataframe thead th {\n",
       "        text-align: right;\n",
       "    }\n",
       "</style>\n",
       "<table border=\"1\" class=\"dataframe\">\n",
       "  <thead>\n",
       "    <tr style=\"text-align: right;\">\n",
       "      <th></th>\n",
       "      <th>Population</th>\n",
       "      <th>Area</th>\n",
       "      <th>Year</th>\n",
       "    </tr>\n",
       "  </thead>\n",
       "  <tbody>\n",
       "    <tr>\n",
       "      <th>California</th>\n",
       "      <td>1423967</td>\n",
       "      <td>423967</td>\n",
       "      <td>2022.0</td>\n",
       "    </tr>\n",
       "    <tr>\n",
       "      <th>Texas</th>\n",
       "      <td>1695662</td>\n",
       "      <td>695662</td>\n",
       "      <td>2022.0</td>\n",
       "    </tr>\n",
       "    <tr>\n",
       "      <th>New York</th>\n",
       "      <td>1141297</td>\n",
       "      <td>141297</td>\n",
       "      <td>2022.0</td>\n",
       "    </tr>\n",
       "    <tr>\n",
       "      <th>Florida</th>\n",
       "      <td>1170312</td>\n",
       "      <td>170312</td>\n",
       "      <td>2022.0</td>\n",
       "    </tr>\n",
       "    <tr>\n",
       "      <th>Illinois</th>\n",
       "      <td>1149995</td>\n",
       "      <td>149995</td>\n",
       "      <td>2022.0</td>\n",
       "    </tr>\n",
       "    <tr>\n",
       "      <th>Seoul</th>\n",
       "      <td>423967</td>\n",
       "      <td>23967</td>\n",
       "      <td>NaN</td>\n",
       "    </tr>\n",
       "    <tr>\n",
       "      <th>Daegu</th>\n",
       "      <td>195662</td>\n",
       "      <td>15662</td>\n",
       "      <td>NaN</td>\n",
       "    </tr>\n",
       "    <tr>\n",
       "      <th>Busan</th>\n",
       "      <td>141297</td>\n",
       "      <td>11297</td>\n",
       "      <td>NaN</td>\n",
       "    </tr>\n",
       "  </tbody>\n",
       "</table>\n",
       "</div>"
      ],
      "text/plain": [
       "            Population    Area    Year\n",
       "California     1423967  423967  2022.0\n",
       "Texas          1695662  695662  2022.0\n",
       "New York       1141297  141297  2022.0\n",
       "Florida        1170312  170312  2022.0\n",
       "Illinois       1149995  149995  2022.0\n",
       "Seoul           423967   23967     NaN\n",
       "Daegu           195662   15662     NaN\n",
       "Busan           141297   11297     NaN"
      ]
     },
     "execution_count": 113,
     "metadata": {},
     "output_type": "execute_result"
    }
   ],
   "source": [
    "states2=pd.concat([states,states1])\n",
    "states2"
   ]
  },
  {
   "cell_type": "code",
   "execution_count": 114,
   "id": "aab87781",
   "metadata": {},
   "outputs": [
    {
     "data": {
      "text/html": [
       "<div>\n",
       "<style scoped>\n",
       "    .dataframe tbody tr th:only-of-type {\n",
       "        vertical-align: middle;\n",
       "    }\n",
       "\n",
       "    .dataframe tbody tr th {\n",
       "        vertical-align: top;\n",
       "    }\n",
       "\n",
       "    .dataframe thead th {\n",
       "        text-align: right;\n",
       "    }\n",
       "</style>\n",
       "<table border=\"1\" class=\"dataframe\">\n",
       "  <thead>\n",
       "    <tr style=\"text-align: right;\">\n",
       "      <th></th>\n",
       "      <th>Population</th>\n",
       "      <th>Area</th>\n",
       "      <th>Year</th>\n",
       "      <th>Population</th>\n",
       "      <th>Area</th>\n",
       "    </tr>\n",
       "  </thead>\n",
       "  <tbody>\n",
       "    <tr>\n",
       "      <th>California</th>\n",
       "      <td>1423967.0</td>\n",
       "      <td>423967.0</td>\n",
       "      <td>2022.0</td>\n",
       "      <td>NaN</td>\n",
       "      <td>NaN</td>\n",
       "    </tr>\n",
       "    <tr>\n",
       "      <th>Texas</th>\n",
       "      <td>1695662.0</td>\n",
       "      <td>695662.0</td>\n",
       "      <td>2022.0</td>\n",
       "      <td>NaN</td>\n",
       "      <td>NaN</td>\n",
       "    </tr>\n",
       "    <tr>\n",
       "      <th>New York</th>\n",
       "      <td>1141297.0</td>\n",
       "      <td>141297.0</td>\n",
       "      <td>2022.0</td>\n",
       "      <td>NaN</td>\n",
       "      <td>NaN</td>\n",
       "    </tr>\n",
       "    <tr>\n",
       "      <th>Florida</th>\n",
       "      <td>1170312.0</td>\n",
       "      <td>170312.0</td>\n",
       "      <td>2022.0</td>\n",
       "      <td>NaN</td>\n",
       "      <td>NaN</td>\n",
       "    </tr>\n",
       "    <tr>\n",
       "      <th>Illinois</th>\n",
       "      <td>1149995.0</td>\n",
       "      <td>149995.0</td>\n",
       "      <td>2022.0</td>\n",
       "      <td>NaN</td>\n",
       "      <td>NaN</td>\n",
       "    </tr>\n",
       "    <tr>\n",
       "      <th>Seoul</th>\n",
       "      <td>NaN</td>\n",
       "      <td>NaN</td>\n",
       "      <td>NaN</td>\n",
       "      <td>423967.0</td>\n",
       "      <td>23967.0</td>\n",
       "    </tr>\n",
       "    <tr>\n",
       "      <th>Daegu</th>\n",
       "      <td>NaN</td>\n",
       "      <td>NaN</td>\n",
       "      <td>NaN</td>\n",
       "      <td>195662.0</td>\n",
       "      <td>15662.0</td>\n",
       "    </tr>\n",
       "    <tr>\n",
       "      <th>Busan</th>\n",
       "      <td>NaN</td>\n",
       "      <td>NaN</td>\n",
       "      <td>NaN</td>\n",
       "      <td>141297.0</td>\n",
       "      <td>11297.0</td>\n",
       "    </tr>\n",
       "  </tbody>\n",
       "</table>\n",
       "</div>"
      ],
      "text/plain": [
       "            Population      Area    Year  Population     Area\n",
       "California   1423967.0  423967.0  2022.0         NaN      NaN\n",
       "Texas        1695662.0  695662.0  2022.0         NaN      NaN\n",
       "New York     1141297.0  141297.0  2022.0         NaN      NaN\n",
       "Florida      1170312.0  170312.0  2022.0         NaN      NaN\n",
       "Illinois     1149995.0  149995.0  2022.0         NaN      NaN\n",
       "Seoul              NaN       NaN     NaN    423967.0  23967.0\n",
       "Daegu              NaN       NaN     NaN    195662.0  15662.0\n",
       "Busan              NaN       NaN     NaN    141297.0  11297.0"
      ]
     },
     "execution_count": 114,
     "metadata": {},
     "output_type": "execute_result"
    }
   ],
   "source": [
    "states3=pd.concat([states, states1], axis=1)\n",
    "states3"
   ]
  },
  {
   "cell_type": "code",
   "execution_count": 115,
   "id": "a6f01cd6",
   "metadata": {},
   "outputs": [
    {
     "data": {
      "text/html": [
       "<div>\n",
       "<style scoped>\n",
       "    .dataframe tbody tr th:only-of-type {\n",
       "        vertical-align: middle;\n",
       "    }\n",
       "\n",
       "    .dataframe tbody tr th {\n",
       "        vertical-align: top;\n",
       "    }\n",
       "\n",
       "    .dataframe thead th {\n",
       "        text-align: right;\n",
       "    }\n",
       "</style>\n",
       "<table border=\"1\" class=\"dataframe\">\n",
       "  <thead>\n",
       "    <tr style=\"text-align: right;\">\n",
       "      <th></th>\n",
       "      <th>Population</th>\n",
       "      <th>Area</th>\n",
       "      <th>Year</th>\n",
       "      <th>Population</th>\n",
       "      <th>Area</th>\n",
       "    </tr>\n",
       "  </thead>\n",
       "  <tbody>\n",
       "    <tr>\n",
       "      <th>California</th>\n",
       "      <td>False</td>\n",
       "      <td>False</td>\n",
       "      <td>False</td>\n",
       "      <td>True</td>\n",
       "      <td>True</td>\n",
       "    </tr>\n",
       "    <tr>\n",
       "      <th>Texas</th>\n",
       "      <td>False</td>\n",
       "      <td>False</td>\n",
       "      <td>False</td>\n",
       "      <td>True</td>\n",
       "      <td>True</td>\n",
       "    </tr>\n",
       "    <tr>\n",
       "      <th>New York</th>\n",
       "      <td>False</td>\n",
       "      <td>False</td>\n",
       "      <td>False</td>\n",
       "      <td>True</td>\n",
       "      <td>True</td>\n",
       "    </tr>\n",
       "    <tr>\n",
       "      <th>Florida</th>\n",
       "      <td>False</td>\n",
       "      <td>False</td>\n",
       "      <td>False</td>\n",
       "      <td>True</td>\n",
       "      <td>True</td>\n",
       "    </tr>\n",
       "    <tr>\n",
       "      <th>Illinois</th>\n",
       "      <td>False</td>\n",
       "      <td>False</td>\n",
       "      <td>False</td>\n",
       "      <td>True</td>\n",
       "      <td>True</td>\n",
       "    </tr>\n",
       "    <tr>\n",
       "      <th>Seoul</th>\n",
       "      <td>True</td>\n",
       "      <td>True</td>\n",
       "      <td>True</td>\n",
       "      <td>False</td>\n",
       "      <td>False</td>\n",
       "    </tr>\n",
       "    <tr>\n",
       "      <th>Daegu</th>\n",
       "      <td>True</td>\n",
       "      <td>True</td>\n",
       "      <td>True</td>\n",
       "      <td>False</td>\n",
       "      <td>False</td>\n",
       "    </tr>\n",
       "    <tr>\n",
       "      <th>Busan</th>\n",
       "      <td>True</td>\n",
       "      <td>True</td>\n",
       "      <td>True</td>\n",
       "      <td>False</td>\n",
       "      <td>False</td>\n",
       "    </tr>\n",
       "  </tbody>\n",
       "</table>\n",
       "</div>"
      ],
      "text/plain": [
       "            Population   Area   Year  Population   Area\n",
       "California       False  False  False        True   True\n",
       "Texas            False  False  False        True   True\n",
       "New York         False  False  False        True   True\n",
       "Florida          False  False  False        True   True\n",
       "Illinois         False  False  False        True   True\n",
       "Seoul             True   True   True       False  False\n",
       "Daegu             True   True   True       False  False\n",
       "Busan             True   True   True       False  False"
      ]
     },
     "execution_count": 115,
     "metadata": {},
     "output_type": "execute_result"
    }
   ],
   "source": [
    "states3.isnull()"
   ]
  },
  {
   "cell_type": "code",
   "execution_count": 116,
   "id": "d869a97f",
   "metadata": {},
   "outputs": [
    {
     "data": {
      "text/html": [
       "<div>\n",
       "<style scoped>\n",
       "    .dataframe tbody tr th:only-of-type {\n",
       "        vertical-align: middle;\n",
       "    }\n",
       "\n",
       "    .dataframe tbody tr th {\n",
       "        vertical-align: top;\n",
       "    }\n",
       "\n",
       "    .dataframe thead th {\n",
       "        text-align: right;\n",
       "    }\n",
       "</style>\n",
       "<table border=\"1\" class=\"dataframe\">\n",
       "  <thead>\n",
       "    <tr style=\"text-align: right;\">\n",
       "      <th></th>\n",
       "      <th>Population</th>\n",
       "      <th>Area</th>\n",
       "      <th>Year</th>\n",
       "      <th>Population</th>\n",
       "      <th>Area</th>\n",
       "    </tr>\n",
       "  </thead>\n",
       "  <tbody>\n",
       "    <tr>\n",
       "      <th>California</th>\n",
       "      <td>1423967.0</td>\n",
       "      <td>423967.0</td>\n",
       "      <td>2022.0</td>\n",
       "      <td>0.0</td>\n",
       "      <td>0.0</td>\n",
       "    </tr>\n",
       "    <tr>\n",
       "      <th>Texas</th>\n",
       "      <td>1695662.0</td>\n",
       "      <td>695662.0</td>\n",
       "      <td>2022.0</td>\n",
       "      <td>0.0</td>\n",
       "      <td>0.0</td>\n",
       "    </tr>\n",
       "    <tr>\n",
       "      <th>New York</th>\n",
       "      <td>1141297.0</td>\n",
       "      <td>141297.0</td>\n",
       "      <td>2022.0</td>\n",
       "      <td>0.0</td>\n",
       "      <td>0.0</td>\n",
       "    </tr>\n",
       "    <tr>\n",
       "      <th>Florida</th>\n",
       "      <td>1170312.0</td>\n",
       "      <td>170312.0</td>\n",
       "      <td>2022.0</td>\n",
       "      <td>0.0</td>\n",
       "      <td>0.0</td>\n",
       "    </tr>\n",
       "    <tr>\n",
       "      <th>Illinois</th>\n",
       "      <td>1149995.0</td>\n",
       "      <td>149995.0</td>\n",
       "      <td>2022.0</td>\n",
       "      <td>0.0</td>\n",
       "      <td>0.0</td>\n",
       "    </tr>\n",
       "    <tr>\n",
       "      <th>Seoul</th>\n",
       "      <td>0.0</td>\n",
       "      <td>0.0</td>\n",
       "      <td>0.0</td>\n",
       "      <td>423967.0</td>\n",
       "      <td>23967.0</td>\n",
       "    </tr>\n",
       "    <tr>\n",
       "      <th>Daegu</th>\n",
       "      <td>0.0</td>\n",
       "      <td>0.0</td>\n",
       "      <td>0.0</td>\n",
       "      <td>195662.0</td>\n",
       "      <td>15662.0</td>\n",
       "    </tr>\n",
       "    <tr>\n",
       "      <th>Busan</th>\n",
       "      <td>0.0</td>\n",
       "      <td>0.0</td>\n",
       "      <td>0.0</td>\n",
       "      <td>141297.0</td>\n",
       "      <td>11297.0</td>\n",
       "    </tr>\n",
       "  </tbody>\n",
       "</table>\n",
       "</div>"
      ],
      "text/plain": [
       "            Population      Area    Year  Population     Area\n",
       "California   1423967.0  423967.0  2022.0         0.0      0.0\n",
       "Texas        1695662.0  695662.0  2022.0         0.0      0.0\n",
       "New York     1141297.0  141297.0  2022.0         0.0      0.0\n",
       "Florida      1170312.0  170312.0  2022.0         0.0      0.0\n",
       "Illinois     1149995.0  149995.0  2022.0         0.0      0.0\n",
       "Seoul              0.0       0.0     0.0    423967.0  23967.0\n",
       "Daegu              0.0       0.0     0.0    195662.0  15662.0\n",
       "Busan              0.0       0.0     0.0    141297.0  11297.0"
      ]
     },
     "execution_count": 116,
     "metadata": {},
     "output_type": "execute_result"
    }
   ],
   "source": [
    "states3.fillna(0)"
   ]
  },
  {
   "cell_type": "code",
   "execution_count": 117,
   "id": "267971c7",
   "metadata": {},
   "outputs": [
    {
     "data": {
      "text/html": [
       "<div>\n",
       "<style scoped>\n",
       "    .dataframe tbody tr th:only-of-type {\n",
       "        vertical-align: middle;\n",
       "    }\n",
       "\n",
       "    .dataframe tbody tr th {\n",
       "        vertical-align: top;\n",
       "    }\n",
       "\n",
       "    .dataframe thead th {\n",
       "        text-align: right;\n",
       "    }\n",
       "</style>\n",
       "<table border=\"1\" class=\"dataframe\">\n",
       "  <thead>\n",
       "    <tr style=\"text-align: right;\">\n",
       "      <th></th>\n",
       "      <th>Population</th>\n",
       "      <th>Area</th>\n",
       "      <th>Year</th>\n",
       "    </tr>\n",
       "  </thead>\n",
       "  <tbody>\n",
       "    <tr>\n",
       "      <th>California</th>\n",
       "      <td>1423967</td>\n",
       "      <td>423967</td>\n",
       "      <td>2022.0</td>\n",
       "    </tr>\n",
       "    <tr>\n",
       "      <th>Texas</th>\n",
       "      <td>1695662</td>\n",
       "      <td>695662</td>\n",
       "      <td>2022.0</td>\n",
       "    </tr>\n",
       "    <tr>\n",
       "      <th>New York</th>\n",
       "      <td>1141297</td>\n",
       "      <td>141297</td>\n",
       "      <td>2022.0</td>\n",
       "    </tr>\n",
       "    <tr>\n",
       "      <th>Florida</th>\n",
       "      <td>1170312</td>\n",
       "      <td>170312</td>\n",
       "      <td>2022.0</td>\n",
       "    </tr>\n",
       "    <tr>\n",
       "      <th>Illinois</th>\n",
       "      <td>1149995</td>\n",
       "      <td>149995</td>\n",
       "      <td>2022.0</td>\n",
       "    </tr>\n",
       "  </tbody>\n",
       "</table>\n",
       "</div>"
      ],
      "text/plain": [
       "            Population    Area    Year\n",
       "California     1423967  423967  2022.0\n",
       "Texas          1695662  695662  2022.0\n",
       "New York       1141297  141297  2022.0\n",
       "Florida        1170312  170312  2022.0\n",
       "Illinois       1149995  149995  2022.0"
      ]
     },
     "execution_count": 117,
     "metadata": {},
     "output_type": "execute_result"
    }
   ],
   "source": [
    "states2.dropna()"
   ]
  },
  {
   "cell_type": "code",
   "execution_count": 118,
   "id": "6d22c3d2",
   "metadata": {},
   "outputs": [],
   "source": [
    "# dataframe 파일 저장\n",
    "states.to_csv('dataframe.txt', sep = ' ')\n",
    "# 파일 dataframe으로 불러오기\n",
    "file = pd.read_csv('dataframe.txt', encoding = '', index_col = 0)\n",
    "# index_col=0 --> column의 0번째 목록을 index로 취급 "
   ]
  },
  {
   "cell_type": "code",
   "execution_count": 119,
   "id": "053bb32c",
   "metadata": {},
   "outputs": [
    {
     "data": {
      "text/html": [
       "<div>\n",
       "<style scoped>\n",
       "    .dataframe tbody tr th:only-of-type {\n",
       "        vertical-align: middle;\n",
       "    }\n",
       "\n",
       "    .dataframe tbody tr th {\n",
       "        vertical-align: top;\n",
       "    }\n",
       "\n",
       "    .dataframe thead th {\n",
       "        text-align: right;\n",
       "    }\n",
       "</style>\n",
       "<table border=\"1\" class=\"dataframe\">\n",
       "  <thead>\n",
       "    <tr style=\"text-align: right;\">\n",
       "      <th></th>\n",
       "    </tr>\n",
       "    <tr>\n",
       "      <th>Population Area Year</th>\n",
       "    </tr>\n",
       "  </thead>\n",
       "  <tbody>\n",
       "    <tr>\n",
       "      <th>California 1423967 423967 2022</th>\n",
       "    </tr>\n",
       "    <tr>\n",
       "      <th>Texas 1695662 695662 2022</th>\n",
       "    </tr>\n",
       "    <tr>\n",
       "      <th>New York 1141297 141297 2022</th>\n",
       "    </tr>\n",
       "    <tr>\n",
       "      <th>Florida 1170312 170312 2022</th>\n",
       "    </tr>\n",
       "    <tr>\n",
       "      <th>Illinois 1149995 149995 2022</th>\n",
       "    </tr>\n",
       "  </tbody>\n",
       "</table>\n",
       "</div>"
      ],
      "text/plain": [
       "Empty DataFrame\n",
       "Columns: []\n",
       "Index: [California 1423967 423967 2022, Texas 1695662 695662 2022, New York 1141297 141297 2022, Florida 1170312 170312 2022, Illinois 1149995 149995 2022]"
      ]
     },
     "execution_count": 119,
     "metadata": {},
     "output_type": "execute_result"
    }
   ],
   "source": [
    "file"
   ]
  }
 ],
 "metadata": {
  "kernelspec": {
   "display_name": "Python 3 (ipykernel)",
   "language": "python",
   "name": "python3"
  },
  "language_info": {
   "codemirror_mode": {
    "name": "ipython",
    "version": 3
   },
   "file_extension": ".py",
   "mimetype": "text/x-python",
   "name": "python",
   "nbconvert_exporter": "python",
   "pygments_lexer": "ipython3",
   "version": "3.9.12"
  }
 },
 "nbformat": 4,
 "nbformat_minor": 5
}
