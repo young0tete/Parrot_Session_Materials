{
 "cells": [
  {
   "cell_type": "markdown",
   "metadata": {
    "id": "3q3CG6Wz1WQN"
   },
   "source": [
    "# **230322 Parrot 통계 세션**"
   ]
  },
  {
   "cell_type": "code",
   "execution_count": null,
   "metadata": {
    "colab": {
     "base_uri": "https://localhost:8080/"
    },
    "executionInfo": {
     "elapsed": 41113,
     "status": "ok",
     "timestamp": 1679452980012,
     "user": {
      "displayName": "김예원",
      "userId": "04351856847635833350"
     },
     "user_tz": -540
    },
    "id": "VpU5uz9IxRDh",
    "outputId": "fd8aedb3-c97b-42c7-e21f-1b109c0988e6"
   },
   "outputs": [
    {
     "name": "stdout",
     "output_type": "stream",
     "text": [
      "Drive already mounted at /content/drive; to attempt to forcibly remount, call drive.mount(\"/content/drive\", force_remount=True).\n"
     ]
    }
   ],
   "source": [
    "# 구글 드라이브와 코랩을 연동하는 코드\n",
    "from google.colab import drive \n",
    "drive.mount('/content/drive')"
   ]
  },
  {
   "cell_type": "code",
   "execution_count": null,
   "metadata": {
    "id": "xkT1QIt1w-V8"
   },
   "outputs": [],
   "source": [
    "# 사용하고자 하는 csv 파일의 경로를 복사\n",
    "import pandas as pd\n",
    "df_score = pd.read_csv('/content/drive/MyDrive/Parrot/test_score.csv')"
   ]
  },
  {
   "cell_type": "code",
   "execution_count": null,
   "metadata": {
    "colab": {
     "base_uri": "https://localhost:8080/",
     "height": 363
    },
    "executionInfo": {
     "elapsed": 36,
     "status": "ok",
     "timestamp": 1679452980017,
     "user": {
      "displayName": "김예원",
      "userId": "04351856847635833350"
     },
     "user_tz": -540
    },
    "id": "A57elmyoxnPB",
    "outputId": "9c19151f-ae7c-4e35-9f13-4efc3297b921"
   },
   "outputs": [
    {
     "data": {
      "text/html": [
       "\n",
       "  <div id=\"df-64b96564-4066-49df-a493-73957743615a\">\n",
       "    <div class=\"colab-df-container\">\n",
       "      <div>\n",
       "<style scoped>\n",
       "    .dataframe tbody tr th:only-of-type {\n",
       "        vertical-align: middle;\n",
       "    }\n",
       "\n",
       "    .dataframe tbody tr th {\n",
       "        vertical-align: top;\n",
       "    }\n",
       "\n",
       "    .dataframe thead th {\n",
       "        text-align: right;\n",
       "    }\n",
       "</style>\n",
       "<table border=\"1\" class=\"dataframe\">\n",
       "  <thead>\n",
       "    <tr style=\"text-align: right;\">\n",
       "      <th></th>\n",
       "      <th>gender</th>\n",
       "      <th>race/ethnicity</th>\n",
       "      <th>parental level of education</th>\n",
       "      <th>lunch</th>\n",
       "      <th>test preparation course</th>\n",
       "      <th>math score</th>\n",
       "      <th>reading score</th>\n",
       "      <th>writing score</th>\n",
       "    </tr>\n",
       "  </thead>\n",
       "  <tbody>\n",
       "    <tr>\n",
       "      <th>0</th>\n",
       "      <td>female</td>\n",
       "      <td>group B</td>\n",
       "      <td>bachelor's degree</td>\n",
       "      <td>standard</td>\n",
       "      <td>none</td>\n",
       "      <td>72</td>\n",
       "      <td>72</td>\n",
       "      <td>74</td>\n",
       "    </tr>\n",
       "    <tr>\n",
       "      <th>1</th>\n",
       "      <td>female</td>\n",
       "      <td>group C</td>\n",
       "      <td>some college</td>\n",
       "      <td>standard</td>\n",
       "      <td>completed</td>\n",
       "      <td>69</td>\n",
       "      <td>90</td>\n",
       "      <td>88</td>\n",
       "    </tr>\n",
       "    <tr>\n",
       "      <th>2</th>\n",
       "      <td>female</td>\n",
       "      <td>group B</td>\n",
       "      <td>master's degree</td>\n",
       "      <td>standard</td>\n",
       "      <td>none</td>\n",
       "      <td>90</td>\n",
       "      <td>95</td>\n",
       "      <td>93</td>\n",
       "    </tr>\n",
       "    <tr>\n",
       "      <th>3</th>\n",
       "      <td>male</td>\n",
       "      <td>group A</td>\n",
       "      <td>associate's degree</td>\n",
       "      <td>free/reduced</td>\n",
       "      <td>none</td>\n",
       "      <td>47</td>\n",
       "      <td>57</td>\n",
       "      <td>44</td>\n",
       "    </tr>\n",
       "    <tr>\n",
       "      <th>4</th>\n",
       "      <td>male</td>\n",
       "      <td>group C</td>\n",
       "      <td>some college</td>\n",
       "      <td>standard</td>\n",
       "      <td>none</td>\n",
       "      <td>76</td>\n",
       "      <td>78</td>\n",
       "      <td>75</td>\n",
       "    </tr>\n",
       "    <tr>\n",
       "      <th>5</th>\n",
       "      <td>female</td>\n",
       "      <td>group B</td>\n",
       "      <td>associate's degree</td>\n",
       "      <td>standard</td>\n",
       "      <td>none</td>\n",
       "      <td>71</td>\n",
       "      <td>83</td>\n",
       "      <td>78</td>\n",
       "    </tr>\n",
       "    <tr>\n",
       "      <th>6</th>\n",
       "      <td>female</td>\n",
       "      <td>group B</td>\n",
       "      <td>some college</td>\n",
       "      <td>standard</td>\n",
       "      <td>completed</td>\n",
       "      <td>88</td>\n",
       "      <td>95</td>\n",
       "      <td>92</td>\n",
       "    </tr>\n",
       "    <tr>\n",
       "      <th>7</th>\n",
       "      <td>male</td>\n",
       "      <td>group B</td>\n",
       "      <td>some college</td>\n",
       "      <td>free/reduced</td>\n",
       "      <td>none</td>\n",
       "      <td>40</td>\n",
       "      <td>43</td>\n",
       "      <td>39</td>\n",
       "    </tr>\n",
       "    <tr>\n",
       "      <th>8</th>\n",
       "      <td>male</td>\n",
       "      <td>group D</td>\n",
       "      <td>high school</td>\n",
       "      <td>free/reduced</td>\n",
       "      <td>completed</td>\n",
       "      <td>64</td>\n",
       "      <td>64</td>\n",
       "      <td>67</td>\n",
       "    </tr>\n",
       "    <tr>\n",
       "      <th>9</th>\n",
       "      <td>female</td>\n",
       "      <td>group B</td>\n",
       "      <td>high school</td>\n",
       "      <td>free/reduced</td>\n",
       "      <td>none</td>\n",
       "      <td>38</td>\n",
       "      <td>60</td>\n",
       "      <td>50</td>\n",
       "    </tr>\n",
       "  </tbody>\n",
       "</table>\n",
       "</div>\n",
       "      <button class=\"colab-df-convert\" onclick=\"convertToInteractive('df-64b96564-4066-49df-a493-73957743615a')\"\n",
       "              title=\"Convert this dataframe to an interactive table.\"\n",
       "              style=\"display:none;\">\n",
       "        \n",
       "  <svg xmlns=\"http://www.w3.org/2000/svg\" height=\"24px\"viewBox=\"0 0 24 24\"\n",
       "       width=\"24px\">\n",
       "    <path d=\"M0 0h24v24H0V0z\" fill=\"none\"/>\n",
       "    <path d=\"M18.56 5.44l.94 2.06.94-2.06 2.06-.94-2.06-.94-.94-2.06-.94 2.06-2.06.94zm-11 1L8.5 8.5l.94-2.06 2.06-.94-2.06-.94L8.5 2.5l-.94 2.06-2.06.94zm10 10l.94 2.06.94-2.06 2.06-.94-2.06-.94-.94-2.06-.94 2.06-2.06.94z\"/><path d=\"M17.41 7.96l-1.37-1.37c-.4-.4-.92-.59-1.43-.59-.52 0-1.04.2-1.43.59L10.3 9.45l-7.72 7.72c-.78.78-.78 2.05 0 2.83L4 21.41c.39.39.9.59 1.41.59.51 0 1.02-.2 1.41-.59l7.78-7.78 2.81-2.81c.8-.78.8-2.07 0-2.86zM5.41 20L4 18.59l7.72-7.72 1.47 1.35L5.41 20z\"/>\n",
       "  </svg>\n",
       "      </button>\n",
       "      \n",
       "  <style>\n",
       "    .colab-df-container {\n",
       "      display:flex;\n",
       "      flex-wrap:wrap;\n",
       "      gap: 12px;\n",
       "    }\n",
       "\n",
       "    .colab-df-convert {\n",
       "      background-color: #E8F0FE;\n",
       "      border: none;\n",
       "      border-radius: 50%;\n",
       "      cursor: pointer;\n",
       "      display: none;\n",
       "      fill: #1967D2;\n",
       "      height: 32px;\n",
       "      padding: 0 0 0 0;\n",
       "      width: 32px;\n",
       "    }\n",
       "\n",
       "    .colab-df-convert:hover {\n",
       "      background-color: #E2EBFA;\n",
       "      box-shadow: 0px 1px 2px rgba(60, 64, 67, 0.3), 0px 1px 3px 1px rgba(60, 64, 67, 0.15);\n",
       "      fill: #174EA6;\n",
       "    }\n",
       "\n",
       "    [theme=dark] .colab-df-convert {\n",
       "      background-color: #3B4455;\n",
       "      fill: #D2E3FC;\n",
       "    }\n",
       "\n",
       "    [theme=dark] .colab-df-convert:hover {\n",
       "      background-color: #434B5C;\n",
       "      box-shadow: 0px 1px 3px 1px rgba(0, 0, 0, 0.15);\n",
       "      filter: drop-shadow(0px 1px 2px rgba(0, 0, 0, 0.3));\n",
       "      fill: #FFFFFF;\n",
       "    }\n",
       "  </style>\n",
       "\n",
       "      <script>\n",
       "        const buttonEl =\n",
       "          document.querySelector('#df-64b96564-4066-49df-a493-73957743615a button.colab-df-convert');\n",
       "        buttonEl.style.display =\n",
       "          google.colab.kernel.accessAllowed ? 'block' : 'none';\n",
       "\n",
       "        async function convertToInteractive(key) {\n",
       "          const element = document.querySelector('#df-64b96564-4066-49df-a493-73957743615a');\n",
       "          const dataTable =\n",
       "            await google.colab.kernel.invokeFunction('convertToInteractive',\n",
       "                                                     [key], {});\n",
       "          if (!dataTable) return;\n",
       "\n",
       "          const docLinkHtml = 'Like what you see? Visit the ' +\n",
       "            '<a target=\"_blank\" href=https://colab.research.google.com/notebooks/data_table.ipynb>data table notebook</a>'\n",
       "            + ' to learn more about interactive tables.';\n",
       "          element.innerHTML = '';\n",
       "          dataTable['output_type'] = 'display_data';\n",
       "          await google.colab.output.renderOutput(dataTable, element);\n",
       "          const docLink = document.createElement('div');\n",
       "          docLink.innerHTML = docLinkHtml;\n",
       "          element.appendChild(docLink);\n",
       "        }\n",
       "      </script>\n",
       "    </div>\n",
       "  </div>\n",
       "  "
      ],
      "text/plain": [
       "   gender race/ethnicity parental level of education         lunch  \\\n",
       "0  female        group B           bachelor's degree      standard   \n",
       "1  female        group C                some college      standard   \n",
       "2  female        group B             master's degree      standard   \n",
       "3    male        group A          associate's degree  free/reduced   \n",
       "4    male        group C                some college      standard   \n",
       "5  female        group B          associate's degree      standard   \n",
       "6  female        group B                some college      standard   \n",
       "7    male        group B                some college  free/reduced   \n",
       "8    male        group D                 high school  free/reduced   \n",
       "9  female        group B                 high school  free/reduced   \n",
       "\n",
       "  test preparation course  math score  reading score  writing score  \n",
       "0                    none          72             72             74  \n",
       "1               completed          69             90             88  \n",
       "2                    none          90             95             93  \n",
       "3                    none          47             57             44  \n",
       "4                    none          76             78             75  \n",
       "5                    none          71             83             78  \n",
       "6               completed          88             95             92  \n",
       "7                    none          40             43             39  \n",
       "8               completed          64             64             67  \n",
       "9                    none          38             60             50  "
      ]
     },
     "execution_count": 3,
     "metadata": {},
     "output_type": "execute_result"
    }
   ],
   "source": [
    "df_score.head(10)"
   ]
  },
  {
   "cell_type": "code",
   "execution_count": null,
   "metadata": {
    "colab": {
     "base_uri": "https://localhost:8080/"
    },
    "executionInfo": {
     "elapsed": 34,
     "status": "ok",
     "timestamp": 1679452980019,
     "user": {
      "displayName": "김예원",
      "userId": "04351856847635833350"
     },
     "user_tz": -540
    },
    "id": "nvJmp-Jlzk37",
    "outputId": "583d7070-1748-4b9a-a99b-9be3f4f1a2ae"
   },
   "outputs": [
    {
     "name": "stdout",
     "output_type": "stream",
     "text": [
      "<class 'pandas.core.frame.DataFrame'>\n",
      "RangeIndex: 1000 entries, 0 to 999\n",
      "Data columns (total 8 columns):\n",
      " #   Column                       Non-Null Count  Dtype \n",
      "---  ------                       --------------  ----- \n",
      " 0   gender                       1000 non-null   object\n",
      " 1   race/ethnicity               1000 non-null   object\n",
      " 2   parental level of education  1000 non-null   object\n",
      " 3   lunch                        1000 non-null   object\n",
      " 4   test preparation course      1000 non-null   object\n",
      " 5   math score                   1000 non-null   int64 \n",
      " 6   reading score                1000 non-null   int64 \n",
      " 7   writing score                1000 non-null   int64 \n",
      "dtypes: int64(3), object(5)\n",
      "memory usage: 62.6+ KB\n"
     ]
    }
   ],
   "source": [
    "df_score.info()"
   ]
  },
  {
   "cell_type": "markdown",
   "metadata": {
    "id": "0XQF4nEH9Upb"
   },
   "source": [
    "## Estimate of Location"
   ]
  },
  {
   "cell_type": "markdown",
   "metadata": {
    "id": "EHzJ1IHh2Oqn"
   },
   "source": [
    "mean을 이용하여 평균 구하기"
   ]
  },
  {
   "cell_type": "code",
   "execution_count": null,
   "metadata": {
    "colab": {
     "base_uri": "https://localhost:8080/"
    },
    "executionInfo": {
     "elapsed": 806,
     "status": "ok",
     "timestamp": 1679452980800,
     "user": {
      "displayName": "김예원",
      "userId": "04351856847635833350"
     },
     "user_tz": -540
    },
    "id": "Mg-GhfW7zfIR",
    "outputId": "3f7fa410-3726-4cf3-e659-8c22940fd7f6"
   },
   "outputs": [
    {
     "name": "stderr",
     "output_type": "stream",
     "text": [
      "<ipython-input-5-1c0cf96bae76>:1: FutureWarning: Dropping of nuisance columns in DataFrame reductions (with 'numeric_only=None') is deprecated; in a future version this will raise TypeError.  Select only valid columns before calling the reduction.\n",
      "  df_score.mean()\n"
     ]
    },
    {
     "data": {
      "text/plain": [
       "math score       66.089\n",
       "reading score    69.169\n",
       "writing score    68.054\n",
       "dtype: float64"
      ]
     },
     "execution_count": 5,
     "metadata": {},
     "output_type": "execute_result"
    }
   ],
   "source": [
    "df_score.mean()"
   ]
  },
  {
   "cell_type": "code",
   "execution_count": null,
   "metadata": {
    "colab": {
     "base_uri": "https://localhost:8080/"
    },
    "executionInfo": {
     "elapsed": 247,
     "status": "ok",
     "timestamp": 1679452980802,
     "user": {
      "displayName": "김예원",
      "userId": "04351856847635833350"
     },
     "user_tz": -540
    },
    "id": "_inNvckTx0xd",
    "outputId": "082814d1-df36-4041-a543-3e86fce9647f"
   },
   "outputs": [
    {
     "data": {
      "text/plain": [
       "66.089"
      ]
     },
     "execution_count": 6,
     "metadata": {},
     "output_type": "execute_result"
    }
   ],
   "source": [
    "# math score의 평균 구하기\n",
    "df_score['math score'].mean()"
   ]
  },
  {
   "cell_type": "code",
   "execution_count": null,
   "metadata": {
    "colab": {
     "base_uri": "https://localhost:8080/"
    },
    "executionInfo": {
     "elapsed": 232,
     "status": "ok",
     "timestamp": 1679452980803,
     "user": {
      "displayName": "김예원",
      "userId": "04351856847635833350"
     },
     "user_tz": -540
    },
    "id": "DGWSCFwvzsdL",
    "outputId": "795602ec-38d2-4aca-e0ea-d6e18791a7a2"
   },
   "outputs": [
    {
     "data": {
      "text/plain": [
       "69.169"
      ]
     },
     "execution_count": 7,
     "metadata": {},
     "output_type": "execute_result"
    }
   ],
   "source": [
    "# reading score의 평균 구하기\n"
   ]
  },
  {
   "cell_type": "code",
   "execution_count": null,
   "metadata": {
    "colab": {
     "base_uri": "https://localhost:8080/"
    },
    "executionInfo": {
     "elapsed": 224,
     "status": "ok",
     "timestamp": 1679452980805,
     "user": {
      "displayName": "김예원",
      "userId": "04351856847635833350"
     },
     "user_tz": -540
    },
    "id": "4Tt6XQQmTZgZ",
    "outputId": "94898310-306a-4cba-9e66-d803189f1fd3"
   },
   "outputs": [
    {
     "data": {
      "text/plain": [
       "68.054"
      ]
     },
     "execution_count": 8,
     "metadata": {},
     "output_type": "execute_result"
    }
   ],
   "source": [
    "# writing score의 평균 구하기\n"
   ]
  },
  {
   "cell_type": "markdown",
   "metadata": {
    "id": "8ce0Ybr12cqw"
   },
   "source": [
    "median 메소드를 이용하여 중앙값 구하기"
   ]
  },
  {
   "cell_type": "code",
   "execution_count": null,
   "metadata": {
    "colab": {
     "base_uri": "https://localhost:8080/"
    },
    "executionInfo": {
     "elapsed": 218,
     "status": "ok",
     "timestamp": 1679452980806,
     "user": {
      "displayName": "김예원",
      "userId": "04351856847635833350"
     },
     "user_tz": -540
    },
    "id": "zJO04Kip1qGy",
    "outputId": "d74b0b87-be2f-400c-c07d-85686958078a"
   },
   "outputs": [
    {
     "name": "stderr",
     "output_type": "stream",
     "text": [
      "<ipython-input-9-ac63a4d06262>:1: FutureWarning: Dropping of nuisance columns in DataFrame reductions (with 'numeric_only=None') is deprecated; in a future version this will raise TypeError.  Select only valid columns before calling the reduction.\n",
      "  df_score.median()\n"
     ]
    },
    {
     "data": {
      "text/plain": [
       "math score       66.0\n",
       "reading score    70.0\n",
       "writing score    69.0\n",
       "dtype: float64"
      ]
     },
     "execution_count": 9,
     "metadata": {},
     "output_type": "execute_result"
    }
   ],
   "source": [
    "df_score.median()"
   ]
  },
  {
   "cell_type": "code",
   "execution_count": null,
   "metadata": {
    "colab": {
     "base_uri": "https://localhost:8080/"
    },
    "executionInfo": {
     "elapsed": 209,
     "status": "ok",
     "timestamp": 1679452980808,
     "user": {
      "displayName": "김예원",
      "userId": "04351856847635833350"
     },
     "user_tz": -540
    },
    "id": "WmJXRYV90Hcr",
    "outputId": "482e1654-ddc6-4dbc-ef42-bddd7e361b4d"
   },
   "outputs": [
    {
     "data": {
      "text/plain": [
       "66.0"
      ]
     },
     "execution_count": 10,
     "metadata": {},
     "output_type": "execute_result"
    }
   ],
   "source": [
    "# math score의 중앙값 구하기\n",
    "df_score['math score'].median()"
   ]
  },
  {
   "cell_type": "code",
   "execution_count": null,
   "metadata": {
    "colab": {
     "base_uri": "https://localhost:8080/"
    },
    "executionInfo": {
     "elapsed": 202,
     "status": "ok",
     "timestamp": 1679452980809,
     "user": {
      "displayName": "김예원",
      "userId": "04351856847635833350"
     },
     "user_tz": -540
    },
    "id": "FwDZSIKm0Oib",
    "outputId": "c73771fc-f5bb-4732-fc2a-c24cdfcef86a"
   },
   "outputs": [
    {
     "data": {
      "text/plain": [
       "70.0"
      ]
     },
     "execution_count": 11,
     "metadata": {},
     "output_type": "execute_result"
    }
   ],
   "source": [
    "# reading score의 중앙값 구하기\n"
   ]
  },
  {
   "cell_type": "code",
   "execution_count": null,
   "metadata": {
    "colab": {
     "base_uri": "https://localhost:8080/"
    },
    "executionInfo": {
     "elapsed": 196,
     "status": "ok",
     "timestamp": 1679452980811,
     "user": {
      "displayName": "김예원",
      "userId": "04351856847635833350"
     },
     "user_tz": -540
    },
    "id": "oek6IsVATdvE",
    "outputId": "ab249030-5ec4-4d09-8aab-5f56048e538b"
   },
   "outputs": [
    {
     "data": {
      "text/plain": [
       "69.0"
      ]
     },
     "execution_count": 12,
     "metadata": {},
     "output_type": "execute_result"
    }
   ],
   "source": [
    "# writing score의 중앙값 구하기\n"
   ]
  },
  {
   "cell_type": "markdown",
   "metadata": {
    "id": "vsrtWxy12g3m"
   },
   "source": [
    "trim_mean 메소드를 이용하여 절사평균 구하기"
   ]
  },
  {
   "cell_type": "code",
   "execution_count": null,
   "metadata": {
    "colab": {
     "base_uri": "https://localhost:8080/"
    },
    "executionInfo": {
     "elapsed": 191,
     "status": "ok",
     "timestamp": 1679452980814,
     "user": {
      "displayName": "김예원",
      "userId": "04351856847635833350"
     },
     "user_tz": -540
    },
    "id": "AJWI1Fvt0QSX",
    "outputId": "8c0d1888-fdbf-4ffc-9697-f9a1582ac884"
   },
   "outputs": [
    {
     "data": {
      "text/plain": [
       "66.3775"
      ]
     },
     "execution_count": 13,
     "metadata": {},
     "output_type": "execute_result"
    }
   ],
   "source": [
    "# math score의 절사평균 구하기\n",
    "from scipy import stats\n",
    "stats.trim_mean(df_score['math score'], 0.1) # 양 끝 10% 제거"
   ]
  },
  {
   "cell_type": "code",
   "execution_count": null,
   "metadata": {
    "colab": {
     "base_uri": "https://localhost:8080/"
    },
    "executionInfo": {
     "elapsed": 178,
     "status": "ok",
     "timestamp": 1679452980815,
     "user": {
      "displayName": "김예원",
      "userId": "04351856847635833350"
     },
     "user_tz": -540
    },
    "id": "R7mjWDrr0cm5",
    "outputId": "dda2144a-a5b0-4c68-9029-25c53a79fd9e"
   },
   "outputs": [
    {
     "data": {
      "text/plain": [
       "69.50125"
      ]
     },
     "execution_count": 14,
     "metadata": {},
     "output_type": "execute_result"
    }
   ],
   "source": [
    "# reading score의 절사평균 구하기\n",
    "from scipy import stats\n"
   ]
  },
  {
   "cell_type": "code",
   "execution_count": null,
   "metadata": {
    "colab": {
     "base_uri": "https://localhost:8080/"
    },
    "executionInfo": {
     "elapsed": 169,
     "status": "ok",
     "timestamp": 1679452980816,
     "user": {
      "displayName": "김예원",
      "userId": "04351856847635833350"
     },
     "user_tz": -540
    },
    "id": "w9YmYHdBTieI",
    "outputId": "30a9d588-2a89-4ca1-a0d1-51de704fa517"
   },
   "outputs": [
    {
     "data": {
      "text/plain": [
       "68.4075"
      ]
     },
     "execution_count": 15,
     "metadata": {},
     "output_type": "execute_result"
    }
   ],
   "source": [
    "# writing score의 절사평균 구하기\n",
    "from scipy import stats\n"
   ]
  },
  {
   "cell_type": "markdown",
   "metadata": {
    "id": "3iz5JDbQ3EpZ"
   },
   "source": [
    "numpy를 이용해서 가중평균 구하기"
   ]
  },
  {
   "cell_type": "code",
   "execution_count": null,
   "metadata": {
    "colab": {
     "base_uri": "https://localhost:8080/"
    },
    "executionInfo": {
     "elapsed": 161,
     "status": "ok",
     "timestamp": 1679452980817,
     "user": {
      "displayName": "김예원",
      "userId": "04351856847635833350"
     },
     "user_tz": -540
    },
    "id": "40eeHhQE37Jx",
    "outputId": "d029b091-8ee8-43f2-c769-031411786c64"
   },
   "outputs": [
    {
     "data": {
      "text/plain": [
       "71.11281065217077"
      ]
     },
     "execution_count": 16,
     "metadata": {},
     "output_type": "execute_result"
    }
   ],
   "source": [
    "# reading score를 가중치로 두고 writing score의 가중평균 구하기\n",
    "import numpy as np\n",
    "np.average(df_score['writing score'], weights = df_score['reading score'])"
   ]
  },
  {
   "cell_type": "code",
   "execution_count": null,
   "metadata": {
    "colab": {
     "base_uri": "https://localhost:8080/"
    },
    "executionInfo": {
     "elapsed": 155,
     "status": "ok",
     "timestamp": 1679452980818,
     "user": {
      "displayName": "김예원",
      "userId": "04351856847635833350"
     },
     "user_tz": -540
    },
    "id": "Bwc0VlvmUumb",
    "outputId": "2149ec54-98f6-4e7b-936b-9511b42f0aec"
   },
   "outputs": [
    {
     "data": {
      "text/plain": [
       "72.27792635260235"
      ]
     },
     "execution_count": 17,
     "metadata": {},
     "output_type": "execute_result"
    }
   ],
   "source": [
    "# writing score를 가중치로 두고 reading score의 가중평균 구하기\n",
    "import numpy as np\n"
   ]
  },
  {
   "cell_type": "markdown",
   "metadata": {
    "id": "zzBtOnJLEHeQ"
   },
   "source": [
    "## Estimate of Variability"
   ]
  },
  {
   "cell_type": "markdown",
   "metadata": {
    "id": "GO6zgpEmERyQ"
   },
   "source": [
    "std 메소드를 이용하여 표준편차 구하기"
   ]
  },
  {
   "cell_type": "code",
   "execution_count": null,
   "metadata": {
    "colab": {
     "base_uri": "https://localhost:8080/"
    },
    "executionInfo": {
     "elapsed": 133,
     "status": "ok",
     "timestamp": 1679452980819,
     "user": {
      "displayName": "김예원",
      "userId": "04351856847635833350"
     },
     "user_tz": -540
    },
    "id": "zYO4k6NoEPsX",
    "outputId": "9bd00c01-f915-4c38-cf87-fbfa00297e53"
   },
   "outputs": [
    {
     "data": {
      "text/plain": [
       "15.16308009600945"
      ]
     },
     "execution_count": 18,
     "metadata": {},
     "output_type": "execute_result"
    }
   ],
   "source": [
    "# math score의 표준편차 구하기\n",
    "df_score['math score'].std()"
   ]
  },
  {
   "cell_type": "code",
   "execution_count": null,
   "metadata": {
    "colab": {
     "base_uri": "https://localhost:8080/"
    },
    "executionInfo": {
     "elapsed": 123,
     "status": "ok",
     "timestamp": 1679452980819,
     "user": {
      "displayName": "김예원",
      "userId": "04351856847635833350"
     },
     "user_tz": -540
    },
    "id": "hCUoXVwnH58M",
    "outputId": "bd409808-5ed0-4c16-d11b-29a079ef86ae"
   },
   "outputs": [
    {
     "data": {
      "text/plain": [
       "14.600191937252216"
      ]
     },
     "execution_count": 19,
     "metadata": {},
     "output_type": "execute_result"
    }
   ],
   "source": [
    "# reading score의 표준편차 구하기\n"
   ]
  },
  {
   "cell_type": "code",
   "execution_count": null,
   "metadata": {
    "colab": {
     "base_uri": "https://localhost:8080/"
    },
    "executionInfo": {
     "elapsed": 115,
     "status": "ok",
     "timestamp": 1679452980820,
     "user": {
      "displayName": "김예원",
      "userId": "04351856847635833350"
     },
     "user_tz": -540
    },
    "id": "tan3ujyKTnA_",
    "outputId": "2966a44f-a449-47e3-a2be-7aa4534437e7"
   },
   "outputs": [
    {
     "data": {
      "text/plain": [
       "15.19565701086965"
      ]
     },
     "execution_count": 20,
     "metadata": {},
     "output_type": "execute_result"
    }
   ],
   "source": [
    "# writing score의 표준편차 구하기\n"
   ]
  },
  {
   "cell_type": "markdown",
   "metadata": {
    "id": "z8SRLte5KiBc"
   },
   "source": [
    "quantile 메소드를 이용하여 IQR 구하기"
   ]
  },
  {
   "cell_type": "code",
   "execution_count": null,
   "metadata": {
    "colab": {
     "base_uri": "https://localhost:8080/"
    },
    "executionInfo": {
     "elapsed": 109,
     "status": "ok",
     "timestamp": 1679452980821,
     "user": {
      "displayName": "김예원",
      "userId": "04351856847635833350"
     },
     "user_tz": -540
    },
    "id": "FIW3fpTvK27o",
    "outputId": "d183d1b6-8703-49ab-d3a3-1d225dd2186e"
   },
   "outputs": [
    {
     "data": {
      "text/plain": [
       "20.0"
      ]
     },
     "execution_count": 21,
     "metadata": {},
     "output_type": "execute_result"
    }
   ],
   "source": [
    "# math score의 IQR 구하기\n",
    "df_score['math score'].quantile(0.75) - df_score['math score'].quantile(0.25)"
   ]
  },
  {
   "cell_type": "code",
   "execution_count": null,
   "metadata": {
    "colab": {
     "base_uri": "https://localhost:8080/"
    },
    "executionInfo": {
     "elapsed": 103,
     "status": "ok",
     "timestamp": 1679452980822,
     "user": {
      "displayName": "김예원",
      "userId": "04351856847635833350"
     },
     "user_tz": -540
    },
    "id": "A_LKsmIsK_eN",
    "outputId": "0336a007-8779-447e-cd47-0bb741417829"
   },
   "outputs": [
    {
     "data": {
      "text/plain": [
       "20.0"
      ]
     },
     "execution_count": 22,
     "metadata": {},
     "output_type": "execute_result"
    }
   ],
   "source": [
    "# reading score의 IQR 구하기\n"
   ]
  },
  {
   "cell_type": "code",
   "execution_count": null,
   "metadata": {
    "colab": {
     "base_uri": "https://localhost:8080/"
    },
    "executionInfo": {
     "elapsed": 96,
     "status": "ok",
     "timestamp": 1679452980822,
     "user": {
      "displayName": "김예원",
      "userId": "04351856847635833350"
     },
     "user_tz": -540
    },
    "id": "tFKCsdOMTtMp",
    "outputId": "e5256306-3534-48fa-e341-a6368fd9a3fb"
   },
   "outputs": [
    {
     "data": {
      "text/plain": [
       "21.25"
      ]
     },
     "execution_count": 23,
     "metadata": {},
     "output_type": "execute_result"
    }
   ],
   "source": [
    "# writing score의 IQR 구하기\n"
   ]
  },
  {
   "cell_type": "markdown",
   "metadata": {
    "id": "qsEdHH-gLjsl"
   },
   "source": [
    "robust.scale.mad를 사용하여 중위절대편차 구하기"
   ]
  },
  {
   "cell_type": "code",
   "execution_count": null,
   "metadata": {
    "colab": {
     "base_uri": "https://localhost:8080/"
    },
    "executionInfo": {
     "elapsed": 90,
     "status": "ok",
     "timestamp": 1679452980823,
     "user": {
      "displayName": "김예원",
      "userId": "04351856847635833350"
     },
     "user_tz": -540
    },
    "id": "aAyKCilPLq6D",
    "outputId": "977fad7b-62a4-42a6-d294-bc9db0fe24a9"
   },
   "outputs": [
    {
     "data": {
      "text/plain": [
       "14.82602218505602"
      ]
     },
     "execution_count": 24,
     "metadata": {},
     "output_type": "execute_result"
    }
   ],
   "source": [
    "# math score의 Mad 구하기\n",
    "from statsmodels import robust\n",
    "robust.mad(df_score['math score'])"
   ]
  },
  {
   "cell_type": "code",
   "execution_count": null,
   "metadata": {
    "colab": {
     "base_uri": "https://localhost:8080/"
    },
    "executionInfo": {
     "elapsed": 84,
     "status": "ok",
     "timestamp": 1679452980824,
     "user": {
      "displayName": "김예원",
      "userId": "04351856847635833350"
     },
     "user_tz": -540
    },
    "id": "sIfNAyTMMRqi",
    "outputId": "13c30c8a-813a-48d6-aede-da26a933938f"
   },
   "outputs": [
    {
     "data": {
      "text/plain": [
       "14.82602218505602"
      ]
     },
     "execution_count": 25,
     "metadata": {},
     "output_type": "execute_result"
    }
   ],
   "source": [
    "# reading score의 Mad 구하기\n",
    "from statsmodels import robust\n"
   ]
  },
  {
   "cell_type": "code",
   "execution_count": null,
   "metadata": {
    "colab": {
     "base_uri": "https://localhost:8080/"
    },
    "executionInfo": {
     "elapsed": 78,
     "status": "ok",
     "timestamp": 1679452980825,
     "user": {
      "displayName": "김예원",
      "userId": "04351856847635833350"
     },
     "user_tz": -540
    },
    "id": "6Q2qgJoNTxpV",
    "outputId": "47236f67-9b55-49f0-c403-0ddaf88fb87d"
   },
   "outputs": [
    {
     "data": {
      "text/plain": [
       "16.30862440356162"
      ]
     },
     "execution_count": 26,
     "metadata": {},
     "output_type": "execute_result"
    }
   ],
   "source": [
    "# writing score의 Mad 구하기\n",
    "from statsmodels import robust\n"
   ]
  },
  {
   "cell_type": "markdown",
   "metadata": {
    "id": "lanTg04J9bXu"
   },
   "source": [
    "히스토그램으로 데이터 분포 시각화하기\n",
    "  - kind : 그래프 종류\n",
    "  - y : 그래프로 나타내고 싶은 column"
   ]
  },
  {
   "cell_type": "code",
   "execution_count": null,
   "metadata": {
    "colab": {
     "base_uri": "https://localhost:8080/",
     "height": 283
    },
    "executionInfo": {
     "elapsed": 72,
     "status": "ok",
     "timestamp": 1679452980826,
     "user": {
      "displayName": "김예원",
      "userId": "04351856847635833350"
     },
     "user_tz": -540
    },
    "id": "BksR3Aaz9imm",
    "outputId": "2d3873d7-4154-4bd4-a74f-2f42b5cfa831"
   },
   "outputs": [
    {
     "data": {
      "text/plain": [
       "<Axes: ylabel='Frequency'>"
      ]
     },
     "execution_count": 27,
     "metadata": {},
     "output_type": "execute_result"
    },
    {
     "data": {
      "image/png": "[encoded data removed]",
      "text/plain": [
       "<Figure size 432x288 with 1 Axes>"
      ]
     },
     "metadata": {
      "needs_background": "light"
     },
     "output_type": "display_data"
    }
   ],
   "source": [
    "# math score의 히스토그램\n",
    "df_score.plot(kind = 'hist', y = 'math score', color = 'pink', edgecolor = 'black') "
   ]
  },
  {
   "cell_type": "code",
   "execution_count": null,
   "metadata": {
    "colab": {
     "base_uri": "https://localhost:8080/",
     "height": 283
    },
    "executionInfo": {
     "elapsed": 66,
     "status": "ok",
     "timestamp": 1679452980827,
     "user": {
      "displayName": "김예원",
      "userId": "04351856847635833350"
     },
     "user_tz": -540
    },
    "id": "8a9YTKRi-9NH",
    "outputId": "9f5b8321-ef3b-43c9-d72d-5673ab327707"
   },
   "outputs": [
    {
     "data": {
      "text/plain": [
       "<Axes: ylabel='Frequency'>"
      ]
     },
     "execution_count": 28,
     "metadata": {},
     "output_type": "execute_result"
    },
    {
     "data": {
      "image/png": "[encoded data removed]",
      "text/plain": [
       "<Figure size 432x288 with 1 Axes>"
      ]
     },
     "metadata": {
      "needs_background": "light"
     },
     "output_type": "display_data"
    }
   ],
   "source": [
    "# reading score의 히스토그램\n"
   ]
  },
  {
   "cell_type": "code",
   "execution_count": null,
   "metadata": {
    "colab": {
     "base_uri": "https://localhost:8080/",
     "height": 283
    },
    "executionInfo": {
     "elapsed": 1199,
     "status": "ok",
     "timestamp": 1679452981967,
     "user": {
      "displayName": "김예원",
      "userId": "04351856847635833350"
     },
     "user_tz": -540
    },
    "id": "Oayh43OB-_9J",
    "outputId": "4dc6ff99-b0b7-4c23-c391-2fc19cc8ccd7"
   },
   "outputs": [
    {
     "data": {
      "text/plain": [
       "<Axes: ylabel='Frequency'>"
      ]
     },
     "execution_count": 29,
     "metadata": {},
     "output_type": "execute_result"
    },
    {
     "data": {
      "image/png": "[encoded data removed]",
      "text/plain": [
       "<Figure size 432x288 with 1 Axes>"
      ]
     },
     "metadata": {
      "needs_background": "light"
     },
     "output_type": "display_data"
    }
   ],
   "source": [
    "# writing score의 히스토그램\n"
   ]
  },
  {
   "cell_type": "markdown",
   "metadata": {
    "id": "JkkYROnXBc5m"
   },
   "source": [
    "박스 플롯으로 사분위수 시각화하기"
   ]
  },
  {
   "cell_type": "code",
   "execution_count": null,
   "metadata": {
    "colab": {
     "base_uri": "https://localhost:8080/",
     "height": 283
    },
    "executionInfo": {
     "elapsed": 46,
     "status": "ok",
     "timestamp": 1679452981968,
     "user": {
      "displayName": "김예원",
      "userId": "04351856847635833350"
     },
     "user_tz": -540
    },
    "id": "rKsIffgKBcjA",
    "outputId": "a5d240ca-dc30-42a7-d554-776050cd0e5b"
   },
   "outputs": [
    {
     "data": {
      "text/plain": [
       "<Axes: >"
      ]
     },
     "execution_count": 30,
     "metadata": {},
     "output_type": "execute_result"
    },
    {
     "data": {
      "image/png": "[encoded data removed]",
      "text/plain": [
       "<Figure size 432x288 with 1 Axes>"
      ]
     },
     "metadata": {
      "needs_background": "light"
     },
     "output_type": "display_data"
    }
   ],
   "source": [
    "# math score의 박스 플롯\n",
    "df_score.plot(kind = 'box', y = 'math score', color = 'blue') "
   ]
  },
  {
   "cell_type": "code",
   "execution_count": null,
   "metadata": {
    "colab": {
     "base_uri": "https://localhost:8080/",
     "height": 283
    },
    "executionInfo": {
     "elapsed": 36,
     "status": "ok",
     "timestamp": 1679452981968,
     "user": {
      "displayName": "김예원",
      "userId": "04351856847635833350"
     },
     "user_tz": -540
    },
    "id": "4k2OzNhyBsn7",
    "outputId": "b88519ca-5e9c-409f-cf1c-c5bb9e7ee2d1"
   },
   "outputs": [
    {
     "data": {
      "text/plain": [
       "<Axes: >"
      ]
     },
     "execution_count": 31,
     "metadata": {},
     "output_type": "execute_result"
    },
    {
     "data": {
      "image/png": "[encoded data removed]",
      "text/plain": [
       "<Figure size 432x288 with 1 Axes>"
      ]
     },
     "metadata": {
      "needs_background": "light"
     },
     "output_type": "display_data"
    }
   ],
   "source": [
    "# reading score의 박스 플롯\n"
   ]
  },
  {
   "cell_type": "code",
   "execution_count": null,
   "metadata": {
    "colab": {
     "base_uri": "https://localhost:8080/",
     "height": 283
    },
    "executionInfo": {
     "elapsed": 31,
     "status": "ok",
     "timestamp": 1679452981969,
     "user": {
      "displayName": "김예원",
      "userId": "04351856847635833350"
     },
     "user_tz": -540
    },
    "id": "CU4uzgXcByEM",
    "outputId": "67cb8a32-ba3a-4d7b-a4b5-e11c1a738b1f"
   },
   "outputs": [
    {
     "data": {
      "text/plain": [
       "<Axes: >"
      ]
     },
     "execution_count": 32,
     "metadata": {},
     "output_type": "execute_result"
    },
    {
     "data": {
      "image/png": "[encoded data removed]",
      "text/plain": [
       "<Figure size 432x288 with 1 Axes>"
      ]
     },
     "metadata": {
      "needs_background": "light"
     },
     "output_type": "display_data"
    }
   ],
   "source": [
    "# writing score의 박스 플롯\n"
   ]
  },
  {
   "cell_type": "code",
   "execution_count": null,
   "metadata": {
    "colab": {
     "base_uri": "https://localhost:8080/",
     "height": 373
    },
    "executionInfo": {
     "elapsed": 957,
     "status": "ok",
     "timestamp": 1679452982902,
     "user": {
      "displayName": "김예원",
      "userId": "04351856847635833350"
     },
     "user_tz": -540
    },
    "id": "Pt9RDez854gN",
    "outputId": "82cfb405-34e1-4f31-9c7f-6f316e1ce93f"
   },
   "outputs": [
    {
     "data": {
      "text/plain": [
       "math score    Axes(0.125,0.125;0.775x0.755)\n",
       "dtype: object"
      ]
     },
     "execution_count": 33,
     "metadata": {},
     "output_type": "execute_result"
    },
    {
     "data": {
      "image/png": "[encoded data removed]",
      "text/plain": [
       "<Figure size 720x360 with 1 Axes>"
      ]
     },
     "metadata": {
      "needs_background": "light"
     },
     "output_type": "display_data"
    }
   ],
   "source": [
    "# notch : 중위수 기준으로 허리선 추가\n",
    "df_score.plot(kind = 'box', column = 'math score', by = 'parental level of education', notch = True, color = 'green', figsize = (10, 5))"
   ]
  },
  {
   "cell_type": "markdown",
   "metadata": {
    "id": "8mTBuePpC257"
   },
   "source": [
    "다섯 숫자 요약(five number summary)"
   ]
  },
  {
   "cell_type": "code",
   "execution_count": null,
   "metadata": {
    "colab": {
     "base_uri": "https://localhost:8080/",
     "height": 300
    },
    "executionInfo": {
     "elapsed": 60,
     "status": "ok",
     "timestamp": 1679452982904,
     "user": {
      "displayName": "김예원",
      "userId": "04351856847635833350"
     },
     "user_tz": -540
    },
    "id": "Ua0Alq10CtaQ",
    "outputId": "2c13352a-ed01-4c15-de76-37b4017385bb"
   },
   "outputs": [
    {
     "data": {
      "text/html": [
       "\n",
       "  <div id=\"df-e8deae24-bdfa-4e17-b603-1d47386e66b1\">\n",
       "    <div class=\"colab-df-container\">\n",
       "      <div>\n",
       "<style scoped>\n",
       "    .dataframe tbody tr th:only-of-type {\n",
       "        vertical-align: middle;\n",
       "    }\n",
       "\n",
       "    .dataframe tbody tr th {\n",
       "        vertical-align: top;\n",
       "    }\n",
       "\n",
       "    .dataframe thead th {\n",
       "        text-align: right;\n",
       "    }\n",
       "</style>\n",
       "<table border=\"1\" class=\"dataframe\">\n",
       "  <thead>\n",
       "    <tr style=\"text-align: right;\">\n",
       "      <th></th>\n",
       "      <th>math score</th>\n",
       "      <th>reading score</th>\n",
       "      <th>writing score</th>\n",
       "    </tr>\n",
       "  </thead>\n",
       "  <tbody>\n",
       "    <tr>\n",
       "      <th>count</th>\n",
       "      <td>1000.00000</td>\n",
       "      <td>1000.000000</td>\n",
       "      <td>1000.000000</td>\n",
       "    </tr>\n",
       "    <tr>\n",
       "      <th>mean</th>\n",
       "      <td>66.08900</td>\n",
       "      <td>69.169000</td>\n",
       "      <td>68.054000</td>\n",
       "    </tr>\n",
       "    <tr>\n",
       "      <th>std</th>\n",
       "      <td>15.16308</td>\n",
       "      <td>14.600192</td>\n",
       "      <td>15.195657</td>\n",
       "    </tr>\n",
       "    <tr>\n",
       "      <th>min</th>\n",
       "      <td>0.00000</td>\n",
       "      <td>17.000000</td>\n",
       "      <td>10.000000</td>\n",
       "    </tr>\n",
       "    <tr>\n",
       "      <th>25%</th>\n",
       "      <td>57.00000</td>\n",
       "      <td>59.000000</td>\n",
       "      <td>57.750000</td>\n",
       "    </tr>\n",
       "    <tr>\n",
       "      <th>50%</th>\n",
       "      <td>66.00000</td>\n",
       "      <td>70.000000</td>\n",
       "      <td>69.000000</td>\n",
       "    </tr>\n",
       "    <tr>\n",
       "      <th>75%</th>\n",
       "      <td>77.00000</td>\n",
       "      <td>79.000000</td>\n",
       "      <td>79.000000</td>\n",
       "    </tr>\n",
       "    <tr>\n",
       "      <th>max</th>\n",
       "      <td>100.00000</td>\n",
       "      <td>100.000000</td>\n",
       "      <td>100.000000</td>\n",
       "    </tr>\n",
       "  </tbody>\n",
       "</table>\n",
       "</div>\n",
       "      <button class=\"colab-df-convert\" onclick=\"convertToInteractive('df-e8deae24-bdfa-4e17-b603-1d47386e66b1')\"\n",
       "              title=\"Convert this dataframe to an interactive table.\"\n",
       "              style=\"display:none;\">\n",
       "        \n",
       "  <svg xmlns=\"http://www.w3.org/2000/svg\" height=\"24px\"viewBox=\"0 0 24 24\"\n",
       "       width=\"24px\">\n",
       "    <path d=\"M0 0h24v24H0V0z\" fill=\"none\"/>\n",
       "    <path d=\"M18.56 5.44l.94 2.06.94-2.06 2.06-.94-2.06-.94-.94-2.06-.94 2.06-2.06.94zm-11 1L8.5 8.5l.94-2.06 2.06-.94-2.06-.94L8.5 2.5l-.94 2.06-2.06.94zm10 10l.94 2.06.94-2.06 2.06-.94-2.06-.94-.94-2.06-.94 2.06-2.06.94z\"/><path d=\"M17.41 7.96l-1.37-1.37c-.4-.4-.92-.59-1.43-.59-.52 0-1.04.2-1.43.59L10.3 9.45l-7.72 7.72c-.78.78-.78 2.05 0 2.83L4 21.41c.39.39.9.59 1.41.59.51 0 1.02-.2 1.41-.59l7.78-7.78 2.81-2.81c.8-.78.8-2.07 0-2.86zM5.41 20L4 18.59l7.72-7.72 1.47 1.35L5.41 20z\"/>\n",
       "  </svg>\n",
       "      </button>\n",
       "      \n",
       "  <style>\n",
       "    .colab-df-container {\n",
       "      display:flex;\n",
       "      flex-wrap:wrap;\n",
       "      gap: 12px;\n",
       "    }\n",
       "\n",
       "    .colab-df-convert {\n",
       "      background-color: #E8F0FE;\n",
       "      border: none;\n",
       "      border-radius: 50%;\n",
       "      cursor: pointer;\n",
       "      display: none;\n",
       "      fill: #1967D2;\n",
       "      height: 32px;\n",
       "      padding: 0 0 0 0;\n",
       "      width: 32px;\n",
       "    }\n",
       "\n",
       "    .colab-df-convert:hover {\n",
       "      background-color: #E2EBFA;\n",
       "      box-shadow: 0px 1px 2px rgba(60, 64, 67, 0.3), 0px 1px 3px 1px rgba(60, 64, 67, 0.15);\n",
       "      fill: #174EA6;\n",
       "    }\n",
       "\n",
       "    [theme=dark] .colab-df-convert {\n",
       "      background-color: #3B4455;\n",
       "      fill: #D2E3FC;\n",
       "    }\n",
       "\n",
       "    [theme=dark] .colab-df-convert:hover {\n",
       "      background-color: #434B5C;\n",
       "      box-shadow: 0px 1px 3px 1px rgba(0, 0, 0, 0.15);\n",
       "      filter: drop-shadow(0px 1px 2px rgba(0, 0, 0, 0.3));\n",
       "      fill: #FFFFFF;\n",
       "    }\n",
       "  </style>\n",
       "\n",
       "      <script>\n",
       "        const buttonEl =\n",
       "          document.querySelector('#df-e8deae24-bdfa-4e17-b603-1d47386e66b1 button.colab-df-convert');\n",
       "        buttonEl.style.display =\n",
       "          google.colab.kernel.accessAllowed ? 'block' : 'none';\n",
       "\n",
       "        async function convertToInteractive(key) {\n",
       "          const element = document.querySelector('#df-e8deae24-bdfa-4e17-b603-1d47386e66b1');\n",
       "          const dataTable =\n",
       "            await google.colab.kernel.invokeFunction('convertToInteractive',\n",
       "                                                     [key], {});\n",
       "          if (!dataTable) return;\n",
       "\n",
       "          const docLinkHtml = 'Like what you see? Visit the ' +\n",
       "            '<a target=\"_blank\" href=https://colab.research.google.com/notebooks/data_table.ipynb>data table notebook</a>'\n",
       "            + ' to learn more about interactive tables.';\n",
       "          element.innerHTML = '';\n",
       "          dataTable['output_type'] = 'display_data';\n",
       "          await google.colab.output.renderOutput(dataTable, element);\n",
       "          const docLink = document.createElement('div');\n",
       "          docLink.innerHTML = docLinkHtml;\n",
       "          element.appendChild(docLink);\n",
       "        }\n",
       "      </script>\n",
       "    </div>\n",
       "  </div>\n",
       "  "
      ],
      "text/plain": [
       "       math score  reading score  writing score\n",
       "count  1000.00000    1000.000000    1000.000000\n",
       "mean     66.08900      69.169000      68.054000\n",
       "std      15.16308      14.600192      15.195657\n",
       "min       0.00000      17.000000      10.000000\n",
       "25%      57.00000      59.000000      57.750000\n",
       "50%      66.00000      70.000000      69.000000\n",
       "75%      77.00000      79.000000      79.000000\n",
       "max     100.00000     100.000000     100.000000"
      ]
     },
     "execution_count": 34,
     "metadata": {},
     "output_type": "execute_result"
    }
   ],
   "source": [
    "df_score.describe()"
   ]
  },
  {
   "cell_type": "markdown",
   "metadata": {
    "id": "BP9-ye8mR1LG"
   },
   "source": [
    "## Correlation "
   ]
  },
  {
   "cell_type": "markdown",
   "metadata": {
    "id": "AOiDKUzIVF09"
   },
   "source": [
    "corr 메소드를 이용하여 상관계수 구하기"
   ]
  },
  {
   "cell_type": "code",
   "execution_count": null,
   "metadata": {
    "colab": {
     "base_uri": "https://localhost:8080/",
     "height": 143
    },
    "executionInfo": {
     "elapsed": 57,
     "status": "ok",
     "timestamp": 1679452982905,
     "user": {
      "displayName": "김예원",
      "userId": "04351856847635833350"
     },
     "user_tz": -540
    },
    "id": "GCbZzA5_SNMn",
    "outputId": "e256475d-3f44-4e6d-8e57-ad1cd7c5db32"
   },
   "outputs": [
    {
     "data": {
      "text/html": [
       "\n",
       "  <div id=\"df-fa37075b-b72b-4bd3-abdd-013ebb89a665\">\n",
       "    <div class=\"colab-df-container\">\n",
       "      <div>\n",
       "<style scoped>\n",
       "    .dataframe tbody tr th:only-of-type {\n",
       "        vertical-align: middle;\n",
       "    }\n",
       "\n",
       "    .dataframe tbody tr th {\n",
       "        vertical-align: top;\n",
       "    }\n",
       "\n",
       "    .dataframe thead th {\n",
       "        text-align: right;\n",
       "    }\n",
       "</style>\n",
       "<table border=\"1\" class=\"dataframe\">\n",
       "  <thead>\n",
       "    <tr style=\"text-align: right;\">\n",
       "      <th></th>\n",
       "      <th>math score</th>\n",
       "      <th>reading score</th>\n",
       "      <th>writing score</th>\n",
       "    </tr>\n",
       "  </thead>\n",
       "  <tbody>\n",
       "    <tr>\n",
       "      <th>math score</th>\n",
       "      <td>1.000000</td>\n",
       "      <td>0.817580</td>\n",
       "      <td>0.802642</td>\n",
       "    </tr>\n",
       "    <tr>\n",
       "      <th>reading score</th>\n",
       "      <td>0.817580</td>\n",
       "      <td>1.000000</td>\n",
       "      <td>0.954598</td>\n",
       "    </tr>\n",
       "    <tr>\n",
       "      <th>writing score</th>\n",
       "      <td>0.802642</td>\n",
       "      <td>0.954598</td>\n",
       "      <td>1.000000</td>\n",
       "    </tr>\n",
       "  </tbody>\n",
       "</table>\n",
       "</div>\n",
       "      <button class=\"colab-df-convert\" onclick=\"convertToInteractive('df-fa37075b-b72b-4bd3-abdd-013ebb89a665')\"\n",
       "              title=\"Convert this dataframe to an interactive table.\"\n",
       "              style=\"display:none;\">\n",
       "        \n",
       "  <svg xmlns=\"http://www.w3.org/2000/svg\" height=\"24px\"viewBox=\"0 0 24 24\"\n",
       "       width=\"24px\">\n",
       "    <path d=\"M0 0h24v24H0V0z\" fill=\"none\"/>\n",
       "    <path d=\"M18.56 5.44l.94 2.06.94-2.06 2.06-.94-2.06-.94-.94-2.06-.94 2.06-2.06.94zm-11 1L8.5 8.5l.94-2.06 2.06-.94-2.06-.94L8.5 2.5l-.94 2.06-2.06.94zm10 10l.94 2.06.94-2.06 2.06-.94-2.06-.94-.94-2.06-.94 2.06-2.06.94z\"/><path d=\"M17.41 7.96l-1.37-1.37c-.4-.4-.92-.59-1.43-.59-.52 0-1.04.2-1.43.59L10.3 9.45l-7.72 7.72c-.78.78-.78 2.05 0 2.83L4 21.41c.39.39.9.59 1.41.59.51 0 1.02-.2 1.41-.59l7.78-7.78 2.81-2.81c.8-.78.8-2.07 0-2.86zM5.41 20L4 18.59l7.72-7.72 1.47 1.35L5.41 20z\"/>\n",
       "  </svg>\n",
       "      </button>\n",
       "      \n",
       "  <style>\n",
       "    .colab-df-container {\n",
       "      display:flex;\n",
       "      flex-wrap:wrap;\n",
       "      gap: 12px;\n",
       "    }\n",
       "\n",
       "    .colab-df-convert {\n",
       "      background-color: #E8F0FE;\n",
       "      border: none;\n",
       "      border-radius: 50%;\n",
       "      cursor: pointer;\n",
       "      display: none;\n",
       "      fill: #1967D2;\n",
       "      height: 32px;\n",
       "      padding: 0 0 0 0;\n",
       "      width: 32px;\n",
       "    }\n",
       "\n",
       "    .colab-df-convert:hover {\n",
       "      background-color: #E2EBFA;\n",
       "      box-shadow: 0px 1px 2px rgba(60, 64, 67, 0.3), 0px 1px 3px 1px rgba(60, 64, 67, 0.15);\n",
       "      fill: #174EA6;\n",
       "    }\n",
       "\n",
       "    [theme=dark] .colab-df-convert {\n",
       "      background-color: #3B4455;\n",
       "      fill: #D2E3FC;\n",
       "    }\n",
       "\n",
       "    [theme=dark] .colab-df-convert:hover {\n",
       "      background-color: #434B5C;\n",
       "      box-shadow: 0px 1px 3px 1px rgba(0, 0, 0, 0.15);\n",
       "      filter: drop-shadow(0px 1px 2px rgba(0, 0, 0, 0.3));\n",
       "      fill: #FFFFFF;\n",
       "    }\n",
       "  </style>\n",
       "\n",
       "      <script>\n",
       "        const buttonEl =\n",
       "          document.querySelector('#df-fa37075b-b72b-4bd3-abdd-013ebb89a665 button.colab-df-convert');\n",
       "        buttonEl.style.display =\n",
       "          google.colab.kernel.accessAllowed ? 'block' : 'none';\n",
       "\n",
       "        async function convertToInteractive(key) {\n",
       "          const element = document.querySelector('#df-fa37075b-b72b-4bd3-abdd-013ebb89a665');\n",
       "          const dataTable =\n",
       "            await google.colab.kernel.invokeFunction('convertToInteractive',\n",
       "                                                     [key], {});\n",
       "          if (!dataTable) return;\n",
       "\n",
       "          const docLinkHtml = 'Like what you see? Visit the ' +\n",
       "            '<a target=\"_blank\" href=https://colab.research.google.com/notebooks/data_table.ipynb>data table notebook</a>'\n",
       "            + ' to learn more about interactive tables.';\n",
       "          element.innerHTML = '';\n",
       "          dataTable['output_type'] = 'display_data';\n",
       "          await google.colab.output.renderOutput(dataTable, element);\n",
       "          const docLink = document.createElement('div');\n",
       "          docLink.innerHTML = docLinkHtml;\n",
       "          element.appendChild(docLink);\n",
       "        }\n",
       "      </script>\n",
       "    </div>\n",
       "  </div>\n",
       "  "
      ],
      "text/plain": [
       "               math score  reading score  writing score\n",
       "math score       1.000000       0.817580       0.802642\n",
       "reading score    0.817580       1.000000       0.954598\n",
       "writing score    0.802642       0.954598       1.000000"
      ]
     },
     "execution_count": 35,
     "metadata": {},
     "output_type": "execute_result"
    }
   ],
   "source": [
    "df_score.corr()"
   ]
  },
  {
   "cell_type": "markdown",
   "metadata": {
    "id": "ODuO0RfpVgB3"
   },
   "source": [
    "Heatmap을 이용하여 상관계수 시각화하기"
   ]
  },
  {
   "cell_type": "code",
   "execution_count": null,
   "metadata": {
    "colab": {
     "base_uri": "https://localhost:8080/",
     "height": 287
    },
    "executionInfo": {
     "elapsed": 58,
     "status": "ok",
     "timestamp": 1679452982908,
     "user": {
      "displayName": "김예원",
      "userId": "04351856847635833350"
     },
     "user_tz": -540
    },
    "id": "5uOWmOe7VFWB",
    "outputId": "88e0516d-7390-4e7e-cc0b-a41b04896098"
   },
   "outputs": [
    {
     "data": {
      "text/plain": [
       "<Axes: >"
      ]
     },
     "execution_count": 36,
     "metadata": {},
     "output_type": "execute_result"
    },
    {
     "data": {
      "image/png": "[encoded data removed]",
      "text/plain": [
       "<Figure size 432x288 with 2 Axes>"
      ]
     },
     "metadata": {
      "needs_background": "light"
     },
     "output_type": "display_data"
    }
   ],
   "source": [
    "import seaborn as sns\n",
    "sns.heatmap(df_score.corr(), annot = True)\n",
    "# annot = True 옵션은 상관계수를 보여줌"
   ]
  },
  {
   "cell_type": "markdown",
   "metadata": {
    "id": "Rdkn68lMXpeE"
   },
   "source": [
    "Scatter plot을 이용하여 상관계수 시각화하기"
   ]
  },
  {
   "cell_type": "code",
   "execution_count": null,
   "metadata": {
    "colab": {
     "base_uri": "https://localhost:8080/",
     "height": 393
    },
    "executionInfo": {
     "elapsed": 54,
     "status": "ok",
     "timestamp": 1679452982913,
     "user": {
      "displayName": "김예원",
      "userId": "04351856847635833350"
     },
     "user_tz": -540
    },
    "id": "kcTN3J2dVpdM",
    "outputId": "20f62285-5fcd-4a52-eb5e-af1c3cdf80d5"
   },
   "outputs": [
    {
     "data": {
      "image/png": "[encoded data removed]",
      "text/plain": [
       "<Figure size 720x432 with 1 Axes>"
      ]
     },
     "metadata": {
      "needs_background": "light"
     },
     "output_type": "display_data"
    }
   ],
   "source": [
    "import matplotlib.pyplot as plt\n",
    "\n",
    "plt.figure(figsize = (10,6))\n",
    "\n",
    "# 순서대로 x축에 들어갈 컬럼, y축에 들어갈 컬럼, 색깔, 투명도\n",
    "plt.scatter(df_score['reading score'], df_score['writing score'], c = 'purple', alpha = 0.3)\n",
    "\n",
    "plt.xlabel('reading score', size = 15)\n",
    "plt.ylabel('writing score', size = 15)\n",
    "plt.show()"
   ]
  },
  {
   "cell_type": "code",
   "execution_count": null,
   "metadata": {
    "colab": {
     "base_uri": "https://localhost:8080/",
     "height": 393
    },
    "executionInfo": {
     "elapsed": 54,
     "status": "ok",
     "timestamp": 1679452982915,
     "user": {
      "displayName": "김예원",
      "userId": "04351856847635833350"
     },
     "user_tz": -540
    },
    "id": "fnaeu7Yb1OWo",
    "outputId": "d0f0d0f2-c69c-4f9f-9b78-d4f7398a925b"
   },
   "outputs": [
    {
     "data": {
      "image/png": "[encoded data removed]",
      "text/plain": [
       "<Figure size 720x432 with 1 Axes>"
      ]
     },
     "metadata": {
      "needs_background": "light"
     },
     "output_type": "display_data"
    }
   ],
   "source": [
    "import matplotlib.pyplot as plt\n",
    "\n",
    "plt.figure(figsize = (10,6))\n",
    "\n",
    "\n"
   ]
  },
  {
   "cell_type": "code",
   "execution_count": null,
   "metadata": {
    "colab": {
     "base_uri": "https://localhost:8080/",
     "height": 393
    },
    "executionInfo": {
     "elapsed": 52,
     "status": "ok",
     "timestamp": 1679452982916,
     "user": {
      "displayName": "김예원",
      "userId": "04351856847635833350"
     },
     "user_tz": -540
    },
    "id": "_HNnt9kUV47R",
    "outputId": "646d31ff-73f5-41a5-e8c9-220a4f266871"
   },
   "outputs": [
    {
     "data": {
      "image/png": "[encoded data removed]",
      "text/plain": [
       "<Figure size 720x432 with 1 Axes>"
      ]
     },
     "metadata": {
      "needs_background": "light"
     },
     "output_type": "display_data"
    }
   ],
   "source": [
    "import matplotlib.pyplot as plt\n",
    "\n",
    "plt.figure(figsize = (10,6))\n",
    "\n",
    "\n"
   ]
  },
  {
   "cell_type": "markdown",
   "metadata": {
    "id": "JPFDnOew85b7"
   },
   "source": [
    "## Distribution"
   ]
  },
  {
   "cell_type": "markdown",
   "metadata": {
    "id": "_U9MhDeO9I43"
   },
   "source": [
    "정규분포 가정\n",
    "\n",
    "실제 데이터를 분석할 때 정규분포를 가정하기 전에 반드시 실제 분포와 정규 분포를 비교해야 함\n",
    "\n",
    "- fig : 그래프가 그려지는 프레임\n",
    "- ax : 그래프가 그려지는 캔버스\n",
    "- nrows : 행\n",
    "- ncols : 열\n",
    "- linspace : 간격 배분\n",
    "- kdeplot : 밀도그래프"
   ]
  },
  {
   "cell_type": "code",
   "execution_count": null,
   "metadata": {
    "colab": {
     "base_uri": "https://localhost:8080/",
     "height": 430
    },
    "executionInfo": {
     "elapsed": 1435,
     "status": "ok",
     "timestamp": 1679452984302,
     "user": {
      "displayName": "김예원",
      "userId": "04351856847635833350"
     },
     "user_tz": -540
    },
    "id": "06SpXP6489o2",
    "outputId": "4ddcde44-daed-428b-ad5d-8814c6c007a6"
   },
   "outputs": [
    {
     "name": "stderr",
     "output_type": "stream",
     "text": [
      "<ipython-input-40-acc7997998e4>:14: FutureWarning: \n",
      "\n",
      "`shade` is now deprecated in favor of `fill`; setting `fill=True`.\n",
      "This will become an error in seaborn v0.14.0; please update your code.\n",
      "\n",
      "  sns.kdeplot(df_score['math score'], shade=True, label='real distribution', ax=ax[1])\n"
     ]
    },
    {
     "data": {
      "image/png": "[encoded data removed]",
      "text/plain": [
       "<Figure size 1296x360 with 2 Axes>"
      ]
     },
     "metadata": {
      "needs_background": "light"
     },
     "output_type": "display_data"
    }
   ],
   "source": [
    "import seaborn as sns\n",
    "import scipy.stats as stats\n",
    "import matplotlib.pyplot as plt\n",
    "\n",
    "fig, ax = plt.subplots(nrows=1, ncols=2, figsize=(18, 5))\n",
    "\n",
    "np.random.seed(1234)\n",
    "\n",
    "ax[0].hist(df_score['math score'], bins=20, color='orange', edgecolor='k', alpha=0.65)\n",
    "ax[0].set_ylim(0, 150)\n",
    "ax[0].grid()\n",
    "\n",
    "x1 = np.linspace(df_score['math score'].mean() - 3*df_score['math score'].std(), df_score['math score'].mean() + 3*df_score['math score'].std(), 100)\n",
    "sns.kdeplot(df_score['math score'], shade=True, label='real distribution', ax=ax[1])\n",
    "ax[1].plot(x1, stats.norm.pdf(x1, df_score['math score'].mean(), df_score['math score'].std()), color='red', label=\"normal distribution\")\n",
    "\n",
    "ax[1].grid()\n",
    "ax[1].legend()\n",
    "ax[1].set_xlabel(\"\")\n",
    "plt.show()"
   ]
  },
  {
   "cell_type": "markdown",
   "metadata": {
    "id": "un_Zp8YOC7yx"
   },
   "source": [
    "StandardScaler를 이용하여 표준화하기"
   ]
  },
  {
   "cell_type": "code",
   "execution_count": null,
   "metadata": {
    "id": "Qh7MlIsr941f"
   },
   "outputs": [],
   "source": [
    "from sklearn import preprocessing\n",
    "import pandas as pd\n",
    "import numpy as np\n",
    "\n",
    "# 표준화한 값이 소수점 4번째자리까지만 출력\n",
    "pd.set_option('display.float_format', lambda x: '%.4f' % x)\n",
    "\n",
    "temp = df_score[['math score', 'reading score', 'writing score']]\n",
    "scaler = preprocessing.StandardScaler()\n",
    "standardized_data = scaler.fit_transform(temp)\n",
    "    \n",
    "standardized_df = pd.DataFrame(standardized_data, columns = ['math score', 'reading score', 'writing score'])"
   ]
  },
  {
   "cell_type": "code",
   "execution_count": null,
   "metadata": {
    "colab": {
     "base_uri": "https://localhost:8080/",
     "height": 300
    },
    "executionInfo": {
     "elapsed": 72,
     "status": "ok",
     "timestamp": 1679452984305,
     "user": {
      "displayName": "김예원",
      "userId": "04351856847635833350"
     },
     "user_tz": -540
    },
    "id": "9yEskXc6Dl8Z",
    "outputId": "4424314b-496e-4cc6-d909-35bfd7af0930"
   },
   "outputs": [
    {
     "data": {
      "text/html": [
       "\n",
       "  <div id=\"df-f859f05d-c34a-466d-a99b-71641b92f405\">\n",
       "    <div class=\"colab-df-container\">\n",
       "      <div>\n",
       "<style scoped>\n",
       "    .dataframe tbody tr th:only-of-type {\n",
       "        vertical-align: middle;\n",
       "    }\n",
       "\n",
       "    .dataframe tbody tr th {\n",
       "        vertical-align: top;\n",
       "    }\n",
       "\n",
       "    .dataframe thead th {\n",
       "        text-align: right;\n",
       "    }\n",
       "</style>\n",
       "<table border=\"1\" class=\"dataframe\">\n",
       "  <thead>\n",
       "    <tr style=\"text-align: right;\">\n",
       "      <th></th>\n",
       "      <th>math score</th>\n",
       "      <th>reading score</th>\n",
       "      <th>writing score</th>\n",
       "    </tr>\n",
       "  </thead>\n",
       "  <tbody>\n",
       "    <tr>\n",
       "      <th>count</th>\n",
       "      <td>1000.0000</td>\n",
       "      <td>1000.0000</td>\n",
       "      <td>1000.0000</td>\n",
       "    </tr>\n",
       "    <tr>\n",
       "      <th>mean</th>\n",
       "      <td>0.0000</td>\n",
       "      <td>0.0000</td>\n",
       "      <td>-0.0000</td>\n",
       "    </tr>\n",
       "    <tr>\n",
       "      <th>std</th>\n",
       "      <td>1.0005</td>\n",
       "      <td>1.0005</td>\n",
       "      <td>1.0005</td>\n",
       "    </tr>\n",
       "    <tr>\n",
       "      <th>min</th>\n",
       "      <td>-4.3607</td>\n",
       "      <td>-3.5750</td>\n",
       "      <td>-3.8223</td>\n",
       "    </tr>\n",
       "    <tr>\n",
       "      <th>25%</th>\n",
       "      <td>-0.5997</td>\n",
       "      <td>-0.6968</td>\n",
       "      <td>-0.6784</td>\n",
       "    </tr>\n",
       "    <tr>\n",
       "      <th>50%</th>\n",
       "      <td>-0.0059</td>\n",
       "      <td>0.0569</td>\n",
       "      <td>0.0623</td>\n",
       "    </tr>\n",
       "    <tr>\n",
       "      <th>75%</th>\n",
       "      <td>0.7199</td>\n",
       "      <td>0.6737</td>\n",
       "      <td>0.7207</td>\n",
       "    </tr>\n",
       "    <tr>\n",
       "      <th>max</th>\n",
       "      <td>2.2375</td>\n",
       "      <td>2.1127</td>\n",
       "      <td>2.1034</td>\n",
       "    </tr>\n",
       "  </tbody>\n",
       "</table>\n",
       "</div>\n",
       "      <button class=\"colab-df-convert\" onclick=\"convertToInteractive('df-f859f05d-c34a-466d-a99b-71641b92f405')\"\n",
       "              title=\"Convert this dataframe to an interactive table.\"\n",
       "              style=\"display:none;\">\n",
       "        \n",
       "  <svg xmlns=\"http://www.w3.org/2000/svg\" height=\"24px\"viewBox=\"0 0 24 24\"\n",
       "       width=\"24px\">\n",
       "    <path d=\"M0 0h24v24H0V0z\" fill=\"none\"/>\n",
       "    <path d=\"M18.56 5.44l.94 2.06.94-2.06 2.06-.94-2.06-.94-.94-2.06-.94 2.06-2.06.94zm-11 1L8.5 8.5l.94-2.06 2.06-.94-2.06-.94L8.5 2.5l-.94 2.06-2.06.94zm10 10l.94 2.06.94-2.06 2.06-.94-2.06-.94-.94-2.06-.94 2.06-2.06.94z\"/><path d=\"M17.41 7.96l-1.37-1.37c-.4-.4-.92-.59-1.43-.59-.52 0-1.04.2-1.43.59L10.3 9.45l-7.72 7.72c-.78.78-.78 2.05 0 2.83L4 21.41c.39.39.9.59 1.41.59.51 0 1.02-.2 1.41-.59l7.78-7.78 2.81-2.81c.8-.78.8-2.07 0-2.86zM5.41 20L4 18.59l7.72-7.72 1.47 1.35L5.41 20z\"/>\n",
       "  </svg>\n",
       "      </button>\n",
       "      \n",
       "  <style>\n",
       "    .colab-df-container {\n",
       "      display:flex;\n",
       "      flex-wrap:wrap;\n",
       "      gap: 12px;\n",
       "    }\n",
       "\n",
       "    .colab-df-convert {\n",
       "      background-color: #E8F0FE;\n",
       "      border: none;\n",
       "      border-radius: 50%;\n",
       "      cursor: pointer;\n",
       "      display: none;\n",
       "      fill: #1967D2;\n",
       "      height: 32px;\n",
       "      padding: 0 0 0 0;\n",
       "      width: 32px;\n",
       "    }\n",
       "\n",
       "    .colab-df-convert:hover {\n",
       "      background-color: #E2EBFA;\n",
       "      box-shadow: 0px 1px 2px rgba(60, 64, 67, 0.3), 0px 1px 3px 1px rgba(60, 64, 67, 0.15);\n",
       "      fill: #174EA6;\n",
       "    }\n",
       "\n",
       "    [theme=dark] .colab-df-convert {\n",
       "      background-color: #3B4455;\n",
       "      fill: #D2E3FC;\n",
       "    }\n",
       "\n",
       "    [theme=dark] .colab-df-convert:hover {\n",
       "      background-color: #434B5C;\n",
       "      box-shadow: 0px 1px 3px 1px rgba(0, 0, 0, 0.15);\n",
       "      filter: drop-shadow(0px 1px 2px rgba(0, 0, 0, 0.3));\n",
       "      fill: #FFFFFF;\n",
       "    }\n",
       "  </style>\n",
       "\n",
       "      <script>\n",
       "        const buttonEl =\n",
       "          document.querySelector('#df-f859f05d-c34a-466d-a99b-71641b92f405 button.colab-df-convert');\n",
       "        buttonEl.style.display =\n",
       "          google.colab.kernel.accessAllowed ? 'block' : 'none';\n",
       "\n",
       "        async function convertToInteractive(key) {\n",
       "          const element = document.querySelector('#df-f859f05d-c34a-466d-a99b-71641b92f405');\n",
       "          const dataTable =\n",
       "            await google.colab.kernel.invokeFunction('convertToInteractive',\n",
       "                                                     [key], {});\n",
       "          if (!dataTable) return;\n",
       "\n",
       "          const docLinkHtml = 'Like what you see? Visit the ' +\n",
       "            '<a target=\"_blank\" href=https://colab.research.google.com/notebooks/data_table.ipynb>data table notebook</a>'\n",
       "            + ' to learn more about interactive tables.';\n",
       "          element.innerHTML = '';\n",
       "          dataTable['output_type'] = 'display_data';\n",
       "          await google.colab.output.renderOutput(dataTable, element);\n",
       "          const docLink = document.createElement('div');\n",
       "          docLink.innerHTML = docLinkHtml;\n",
       "          element.appendChild(docLink);\n",
       "        }\n",
       "      </script>\n",
       "    </div>\n",
       "  </div>\n",
       "  "
      ],
      "text/plain": [
       "       math score  reading score  writing score\n",
       "count   1000.0000      1000.0000      1000.0000\n",
       "mean       0.0000         0.0000        -0.0000\n",
       "std        1.0005         1.0005         1.0005\n",
       "min       -4.3607        -3.5750        -3.8223\n",
       "25%       -0.5997        -0.6968        -0.6784\n",
       "50%       -0.0059         0.0569         0.0623\n",
       "75%        0.7199         0.6737         0.7207\n",
       "max        2.2375         2.1127         2.1034"
      ]
     },
     "execution_count": 42,
     "metadata": {},
     "output_type": "execute_result"
    }
   ],
   "source": [
    "standardized_df.describe()"
   ]
  },
  {
   "cell_type": "markdown",
   "metadata": {
    "id": "ga0aVeA5Gekl"
   },
   "source": [
    "## ANOVA"
   ]
  },
  {
   "cell_type": "markdown",
   "metadata": {
    "id": "NOHci-snJmff"
   },
   "source": [
    "### shapiro를 이용한 정규성 검정\n",
    "\n",
    "P-value >= 0.05 : 정규성 만족\n"
   ]
  },
  {
   "cell_type": "code",
   "execution_count": null,
   "metadata": {
    "colab": {
     "base_uri": "https://localhost:8080/"
    },
    "executionInfo": {
     "elapsed": 71,
     "status": "ok",
     "timestamp": 1679452984306,
     "user": {
      "displayName": "김예원",
      "userId": "04351856847635833350"
     },
     "user_tz": -540
    },
    "id": "9jn18o3FLVIE",
    "outputId": "1db2db32-62bf-4446-d6d0-5d92dc1ea3f4"
   },
   "outputs": [
    {
     "name": "stdout",
     "output_type": "stream",
     "text": [
      "ShapiroResult(statistic=0.9906343817710876, pvalue=0.6043269634246826)\n",
      "ShapiroResult(statistic=0.9894108772277832, pvalue=0.09584055095911026)\n",
      "ShapiroResult(statistic=0.9868258833885193, pvalue=0.06518198549747467)\n"
     ]
    }
   ],
   "source": [
    "print(stats.shapiro(df_score['math score'][df_score['parental level of education'] == 'bachelor\\'s degree']))\n",
    "print(stats.shapiro(df_score['math score'][df_score['parental level of education'] == 'some college']))\n",
    "print(stats.shapiro(df_score['math score'][df_score['parental level of education'] == 'high school']))"
   ]
  },
  {
   "cell_type": "markdown",
   "metadata": {
    "id": "3GuTvChzR_HT"
   },
   "source": [
    "### Levene를 이용한 등분산성 검정\n",
    "\n",
    "P-value >= 0.05 : 등분산성 만족"
   ]
  },
  {
   "cell_type": "code",
   "execution_count": null,
   "metadata": {
    "colab": {
     "base_uri": "https://localhost:8080/"
    },
    "executionInfo": {
     "elapsed": 64,
     "status": "ok",
     "timestamp": 1679452984307,
     "user": {
      "displayName": "김예원",
      "userId": "04351856847635833350"
     },
     "user_tz": -540
    },
    "id": "SIUTSofhLvSX",
    "outputId": "0d62caf5-2000-4dab-955b-2083476a9029"
   },
   "outputs": [
    {
     "name": "stdout",
     "output_type": "stream",
     "text": [
      "LeveneResult(statistic=0.2338027415391228, pvalue=0.7915984637435349)\n"
     ]
    }
   ],
   "source": [
    "print(stats.levene(df_score['math score'][df_score['parental level of education'] == 'bachelor\\'s degree'],\n",
    "                   df_score['math score'][df_score['parental level of education'] == 'some college'], \n",
    "                   df_score['math score'][df_score['parental level of education'] == 'high school']))"
   ]
  },
  {
   "cell_type": "markdown",
   "metadata": {
    "id": "cGnaxd3USH2T"
   },
   "source": [
    "### Bartlett을 이용한 등분산성 검정\n",
    "\n",
    "P-value >= 0.05 : 등분산성 만족"
   ]
  },
  {
   "cell_type": "code",
   "execution_count": null,
   "metadata": {
    "colab": {
     "base_uri": "https://localhost:8080/"
    },
    "executionInfo": {
     "elapsed": 59,
     "status": "ok",
     "timestamp": 1679452984308,
     "user": {
      "displayName": "김예원",
      "userId": "04351856847635833350"
     },
     "user_tz": -540
    },
    "id": "sETZ2JzCMEyP",
    "outputId": "a63d82f3-59b8-4629-bd41-e4131b9c13e2"
   },
   "outputs": [
    {
     "name": "stdout",
     "output_type": "stream",
     "text": [
      "BartlettResult(statistic=0.2882636267537085, pvalue=0.8657736199931247)\n"
     ]
    }
   ],
   "source": [
    "print(stats.bartlett(df_score['math score'][df_score['parental level of education'] == 'bachelor\\'s degree'],\n",
    "                     df_score['math score'][df_score['parental level of education'] == 'some college'],\n",
    "                     df_score['math score'][df_score['parental level of education'] == 'high school']))"
   ]
  },
  {
   "cell_type": "code",
   "execution_count": null,
   "metadata": {
    "id": "8ZY_RvmQFBUY"
   },
   "outputs": [],
   "source": [
    "group_1 = df_score[df_score['parental level of education']=='bachelor\\'s degree']['math score']\n",
    "group_2 = df_score[df_score['parental level of education']=='some college']['math score']\n",
    "group_3 = df_score[df_score['parental level of education']=='high school']['math score']"
   ]
  },
  {
   "cell_type": "markdown",
   "metadata": {
    "id": "D9fZTwHnSLiN"
   },
   "source": [
    "### One-way ANOVA"
   ]
  },
  {
   "cell_type": "code",
   "execution_count": null,
   "metadata": {
    "colab": {
     "base_uri": "https://localhost:8080/"
    },
    "executionInfo": {
     "elapsed": 55,
     "status": "ok",
     "timestamp": 1679452984311,
     "user": {
      "displayName": "김예원",
      "userId": "04351856847635833350"
     },
     "user_tz": -540
    },
    "id": "KVABzlpIMJkO",
    "outputId": "0c11b692-8aaa-471c-94bb-8c95cc6e3a9c"
   },
   "outputs": [
    {
     "name": "stdout",
     "output_type": "stream",
     "text": [
      "ANOVA 결과 : F=10.76443, p=0.00003\n",
      "\n",
      "P-value가 충분히 작기 때문에 집단의 평균값이 통계적으로 유의하게 차이납니다.\n"
     ]
    }
   ],
   "source": [
    "F_statistic, p_val = stats.f_oneway(group_1, group_2, group_3)\n",
    "\n",
    "print(f'ANOVA 결과 : F={F_statistic:.5f}, p={p_val:.5f}\\n')\n",
    "\n",
    "if p_val <= 0.05:\n",
    "    print('P-value가 충분히 작기 때문에 집단의 평균값이 통계적으로 유의하게 차이납니다.')\n",
    "else:\n",
    "    print('P-value가 충분히 작지 않기 때문에 집단의 평균값이 통계적으로 유의하게 차이가 나지 않습니다.')"
   ]
  },
  {
   "cell_type": "markdown",
   "metadata": {
    "id": "_gi1OQpqUk1A"
   },
   "source": [
    "### Bonferroni correction으로 사후분석"
   ]
  },
  {
   "cell_type": "code",
   "execution_count": null,
   "metadata": {
    "colab": {
     "base_uri": "https://localhost:8080/",
     "height": 395
    },
    "executionInfo": {
     "elapsed": 49,
     "status": "ok",
     "timestamp": 1679452984313,
     "user": {
      "displayName": "김예원",
      "userId": "04351856847635833350"
     },
     "user_tz": -540
    },
    "id": "CuFLlh62SY5t",
    "outputId": "490ad7a2-67a5-49b3-d51a-8dcc6df4f037"
   },
   "outputs": [
    {
     "data": {
      "text/html": [
       "<table class=\"simpletable\">\n",
       "<caption>Test Multiple Comparison ttest_ind \n",
       "FWER=0.05 method=bonf\n",
       "alphacSidak=0.00, alphacBonf=0.003</caption>\n",
       "<tr>\n",
       "        <th>group1</th>            <th>group2</th>        <th>stat</th>    <th>pval</th>  <th>pval_corr</th> <th>reject</th>\n",
       "</tr>\n",
       "<tr>\n",
       "  <td>associate's degree</td> <td>bachelor's degree</td> <td>-0.8787</td> <td>0.3802</td>    <td>1.0</td>     <td>False</td>\n",
       "</tr>\n",
       "<tr>\n",
       "  <td>associate's degree</td>    <td>high school</td>    <td>3.9481</td>  <td>0.0001</td>  <td>0.0014</td>    <td>True</td> \n",
       "</tr>\n",
       "<tr>\n",
       "  <td>associate's degree</td>  <td>master's degree</td>  <td>-0.8411</td>  <td>0.401</td>    <td>1.0</td>     <td>False</td>\n",
       "</tr>\n",
       "<tr>\n",
       "  <td>associate's degree</td>   <td>some college</td>    <td>0.5427</td>  <td>0.5876</td>    <td>1.0</td>     <td>False</td>\n",
       "</tr>\n",
       "<tr>\n",
       "  <td>associate's degree</td> <td>some high school</td>  <td>2.8201</td>   <td>0.005</td>  <td>0.0756</td>    <td>False</td>\n",
       "</tr>\n",
       "<tr>\n",
       "   <td>bachelor's degree</td>    <td>high school</td>    <td>4.2361</td>    <td>0.0</td>   <td>0.0004</td>    <td>True</td> \n",
       "</tr>\n",
       "<tr>\n",
       "   <td>bachelor's degree</td>  <td>master's degree</td>  <td>-0.1487</td>  <td>0.882</td>    <td>1.0</td>     <td>False</td>\n",
       "</tr>\n",
       "<tr>\n",
       "   <td>bachelor's degree</td>   <td>some college</td>    <td>1.3702</td>  <td>0.1715</td>    <td>1.0</td>     <td>False</td>\n",
       "</tr>\n",
       "<tr>\n",
       "   <td>bachelor's degree</td> <td>some high school</td>  <td>3.1967</td>  <td>0.0015</td>  <td>0.0231</td>    <td>True</td> \n",
       "</tr>\n",
       "<tr>\n",
       "      <td>high school</td>     <td>master's degree</td>  <td>-3.4894</td> <td>0.0006</td>  <td>0.0086</td>    <td>True</td> \n",
       "</tr>\n",
       "<tr>\n",
       "      <td>high school</td>      <td>some college</td>    <td>-3.5461</td> <td>0.0004</td>  <td>0.0065</td>    <td>True</td> \n",
       "</tr>\n",
       "<tr>\n",
       "      <td>high school</td>    <td>some high school</td>  <td>-0.8641</td> <td>0.3881</td>    <td>1.0</td>     <td>False</td>\n",
       "</tr>\n",
       "<tr>\n",
       "    <td>master's degree</td>    <td>some college</td>    <td>1.2356</td>  <td>0.2176</td>    <td>1.0</td>     <td>False</td>\n",
       "</tr>\n",
       "<tr>\n",
       "    <td>master's degree</td>  <td>some high school</td>  <td>2.6443</td>  <td>0.0087</td>   <td>0.131</td>    <td>False</td>\n",
       "</tr>\n",
       "<tr>\n",
       "     <td>some college</td>    <td>some high school</td>  <td>2.4117</td>  <td>0.0163</td>  <td>0.2449</td>    <td>False</td>\n",
       "</tr>\n",
       "</table>"
      ],
      "text/plain": [
       "<class 'statsmodels.iolib.table.SimpleTable'>"
      ]
     },
     "execution_count": 48,
     "metadata": {},
     "output_type": "execute_result"
    }
   ],
   "source": [
    "from statsmodels.sandbox.stats.multicomp import MultiComparison\n",
    "\n",
    "comp = MultiComparison(df_score['math score'], df_score['parental level of education'])\n",
    "result = comp.allpairtest(stats.ttest_ind, method = 'bonf')\n",
    "result[0]"
   ]
  },
  {
   "cell_type": "markdown",
   "metadata": {
    "id": "KP-A8RFBVE04"
   },
   "source": [
    "### Tuckey's HSD로 사후분석"
   ]
  },
  {
   "cell_type": "code",
   "execution_count": null,
   "metadata": {
    "colab": {
     "base_uri": "https://localhost:8080/",
     "height": 378
    },
    "executionInfo": {
     "elapsed": 48,
     "status": "ok",
     "timestamp": 1679452984314,
     "user": {
      "displayName": "김예원",
      "userId": "04351856847635833350"
     },
     "user_tz": -540
    },
    "id": "PSi_vOkeTPJd",
    "outputId": "15b93813-67b6-474f-9c9e-276578d73c2f"
   },
   "outputs": [
    {
     "data": {
      "text/html": [
       "<table class=\"simpletable\">\n",
       "<caption>Multiple Comparison of Means - Tukey HSD, FWER=0.05</caption>\n",
       "<tr>\n",
       "        <th>group1</th>            <th>group2</th>       <th>meandiff</th>  <th>p-adj</th>   <th>lower</th>   <th>upper</th>  <th>reject</th>\n",
       "</tr>\n",
       "<tr>\n",
       "  <td>associate's degree</td> <td>bachelor's degree</td>  <td>1.5069</td>  <td>0.9503</td>  <td>-3.3587</td> <td>6.3726</td>   <td>False</td>\n",
       "</tr>\n",
       "<tr>\n",
       "  <td>associate's degree</td>    <td>high school</td>     <td>-5.7451</td> <td>0.0013</td>  <td>-9.9311</td> <td>-1.5591</td>  <td>True</td> \n",
       "</tr>\n",
       "<tr>\n",
       "  <td>associate's degree</td>  <td>master's degree</td>   <td>1.8629</td>  <td>0.9578</td>  <td>-4.3927</td> <td>8.1185</td>   <td>False</td>\n",
       "</tr>\n",
       "<tr>\n",
       "  <td>associate's degree</td>   <td>some college</td>     <td>-0.7546</td> <td>0.9948</td>  <td>-4.7903</td> <td>3.2812</td>   <td>False</td>\n",
       "</tr>\n",
       "<tr>\n",
       "  <td>associate's degree</td> <td>some high school</td>   <td>-4.3857</td> <td>0.0418</td>  <td>-8.676</td>  <td>-0.0954</td>  <td>True</td> \n",
       "</tr>\n",
       "<tr>\n",
       "   <td>bachelor's degree</td>    <td>high school</td>     <td>-7.2521</td> <td>0.0005</td> <td>-12.2284</td> <td>-2.2757</td>  <td>True</td> \n",
       "</tr>\n",
       "<tr>\n",
       "   <td>bachelor's degree</td>  <td>master's degree</td>   <td>0.3559</td>    <td>1.0</td>   <td>-6.4539</td> <td>7.1658</td>   <td>False</td>\n",
       "</tr>\n",
       "<tr>\n",
       "   <td>bachelor's degree</td>   <td>some college</td>     <td>-2.2615</td> <td>0.7676</td>  <td>-7.1122</td> <td>2.5892</td>   <td>False</td>\n",
       "</tr>\n",
       "<tr>\n",
       "   <td>bachelor's degree</td> <td>some high school</td>   <td>-5.8926</td> <td>0.0119</td>  <td>-10.957</td> <td>-0.8282</td>  <td>True</td> \n",
       "</tr>\n",
       "<tr>\n",
       "      <td>high school</td>     <td>master's degree</td>    <td>7.608</td>  <td>0.0084</td>  <td>1.2659</td>  <td>13.9501</td>  <td>True</td> \n",
       "</tr>\n",
       "<tr>\n",
       "      <td>high school</td>      <td>some college</td>     <td>4.9906</td>  <td>0.0086</td>   <td>0.822</td>  <td>9.1592</td>   <td>True</td> \n",
       "</tr>\n",
       "<tr>\n",
       "      <td>high school</td>    <td>some high school</td>   <td>1.3595</td>  <td>0.9515</td>  <td>-3.056</td>  <td>5.7749</td>   <td>False</td>\n",
       "</tr>\n",
       "<tr>\n",
       "    <td>master's degree</td>    <td>some college</td>     <td>-2.6174</td> <td>0.8384</td>  <td>-8.8614</td> <td>3.6265</td>   <td>False</td>\n",
       "</tr>\n",
       "<tr>\n",
       "    <td>master's degree</td>  <td>some high school</td>   <td>-6.2486</td> <td>0.0611</td>  <td>-12.66</td>  <td>0.1628</td>   <td>False</td>\n",
       "</tr>\n",
       "<tr>\n",
       "     <td>some college</td>    <td>some high school</td>   <td>-3.6311</td> <td>0.1482</td>  <td>-7.9044</td> <td>0.6422</td>   <td>False</td>\n",
       "</tr>\n",
       "</table>"
      ],
      "text/plain": [
       "<class 'statsmodels.iolib.table.SimpleTable'>"
      ]
     },
     "execution_count": 49,
     "metadata": {},
     "output_type": "execute_result"
    }
   ],
   "source": [
    "from statsmodels.stats.multicomp import pairwise_tukeyhsd\n",
    "\n",
    "hsd = pairwise_tukeyhsd(df_score['math score'], df_score['parental level of education'], alpha = 0.05)\n",
    "hsd.summary()"
   ]
  }
 ],
 "metadata": {
  "colab": {
   "authorship_tag": "ABX9TyPDzlcGC9eGghulP0uX9vIK",
   "mount_file_id": "1SmjEEYCEMd32_Y5IM2NKqd0FFeoRXi_R",
   "provenance": []
  },
  "kernelspec": {
   "display_name": "Python 3 (ipykernel)",
   "language": "python",
   "name": "python3"
  },
  "language_info": {
   "codemirror_mode": {
    "name": "ipython",
    "version": 3
   },
   "file_extension": ".py",
   "mimetype": "text/x-python",
   "name": "python",
   "nbconvert_exporter": "python",
   "pygments_lexer": "ipython3",
   "version": "3.11.3"
  }
 },
 "nbformat": 4,
 "nbformat_minor": 1
}
