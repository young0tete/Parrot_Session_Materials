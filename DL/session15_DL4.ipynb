{
  "nbformat": 4,
  "nbformat_minor": 0,
  "metadata": {
    "colab": {
      "provenance": [],
      "gpuType": "T4"
    },
    "kernelspec": {
      "name": "python3",
      "display_name": "Python 3"
    },
    "language_info": {
      "name": "python"
    },
    "accelerator": "GPU",
    "gpuClass": "standard"
  },
  "cells": [
    {
      "cell_type": "code",
      "execution_count": 1,
      "metadata": {
        "id": "Nq9CfpsrOw-p"
      },
      "outputs": [],
      "source": [
        "import torch\n",
        "import torchvision\n",
        "import torchvision.transforms as transforms"
      ]
    },
    {
      "cell_type": "code",
      "source": [
        "transform = transforms.Compose(\n",
        "    [transforms.ToTensor(),\n",
        "     transforms.Normalize((0.5, 0.5, 0.5), (0.5, 0.5, 0.5))])"
      ],
      "metadata": {
        "id": "Tpp62FwuO_Ky"
      },
      "execution_count": 2,
      "outputs": []
    },
    {
      "cell_type": "code",
      "source": [
        "trainset = torchvision.datasets.CIFAR10(root='./data', train=True,\n",
        "                                        download=True, transform=transform)\n",
        "train_loader = torch.utils.data.DataLoader(trainset, batch_size=4,\n",
        "                                          shuffle=True, num_workers=2)"
      ],
      "metadata": {
        "colab": {
          "base_uri": "https://localhost:8080/"
        },
        "id": "ufL9LsH5PONx",
        "outputId": "8768f0e4-c2f7-4814-bc78-00521bd27b97"
      },
      "execution_count": 3,
      "outputs": [
        {
          "output_type": "stream",
          "name": "stdout",
          "text": [
            "Downloading https://www.cs.toronto.edu/~kriz/cifar-10-python.tar.gz to ./data/cifar-10-python.tar.gz\n"
          ]
        },
        {
          "output_type": "stream",
          "name": "stderr",
          "text": [
            "100%|██████████| 170498071/170498071 [00:05<00:00, 29324628.46it/s]\n"
          ]
        },
        {
          "output_type": "stream",
          "name": "stdout",
          "text": [
            "Extracting ./data/cifar-10-python.tar.gz to ./data\n"
          ]
        }
      ]
    },
    {
      "cell_type": "code",
      "source": [
        "valset = torchvision.datasets.CIFAR10(root='./data', train=False,\n",
        "                                       download=True, transform=transform)\n",
        "val_loader = torch.utils.data.DataLoader(valset, batch_size=4,\n",
        "                                         shuffle=False, num_workers=2)"
      ],
      "metadata": {
        "colab": {
          "base_uri": "https://localhost:8080/"
        },
        "id": "hPtiUcS0POxu",
        "outputId": "1f695957-bedd-4013-8209-15e5df5b797c"
      },
      "execution_count": 4,
      "outputs": [
        {
          "output_type": "stream",
          "name": "stdout",
          "text": [
            "Files already downloaded and verified\n"
          ]
        }
      ]
    },
    {
      "cell_type": "code",
      "source": [
        "import matplotlib.pyplot as plt\n",
        "import numpy as np"
      ],
      "metadata": {
        "id": "VS0sAEjUPQMi"
      },
      "execution_count": 5,
      "outputs": []
    },
    {
      "cell_type": "code",
      "source": [
        "def imshow(img):\n",
        "    img = img / 2 + 0.5     # unnormalize\n",
        "    npimg = img.numpy()\n",
        "    plt.imshow(np.transpose(npimg, (1, 2, 0)))\n",
        "    plt.show()"
      ],
      "metadata": {
        "id": "Dpaw8eawPfca"
      },
      "execution_count": 6,
      "outputs": []
    },
    {
      "cell_type": "code",
      "source": [
        "dataiter = iter(train_loader)\n",
        "images, labels = next(dataiter)\n",
        "\n",
        "imshow(torchvision.utils.make_grid(images))\n",
        "print(' '.join('%5s' % labels[j] for j in range(4)))\n",
        "#classes = 'plane', 'car', 'bird', 'cat', 'deer', 'dog', 'frog', 'horse', 'ship', 'truck'"
      ],
      "metadata": {
        "colab": {
          "base_uri": "https://localhost:8080/",
          "height": 211
        },
        "id": "ssbjCdNiPqr6",
        "outputId": "ba29c527-868a-4c4d-8bc2-a5b9e961a292"
      },
      "execution_count": 8,
      "outputs": [
        {
          "output_type": "display_data",
          "data": {
            "text/plain": [
              "<Figure size 640x480 with 1 Axes>"
            ],
            "image/png": "[encoded data removed]"
          },
          "metadata": {}
        },
        {
          "output_type": "stream",
          "name": "stdout",
          "text": [
            "tensor(8) tensor(2) tensor(1) tensor(9)\n"
          ]
        }
      ]
    },
    {
      "cell_type": "code",
      "source": [
        "import torch.nn as nn\n",
        "import torch.nn.functional as F"
      ],
      "metadata": {
        "id": "0tMHmrrhPyJU"
      },
      "execution_count": 9,
      "outputs": []
    },
    {
      "cell_type": "code",
      "source": [
        "class Mymodel(nn.Module):\n",
        "    def __init__(self):\n",
        "        super().__init__()\n",
        "        self.fc1 = nn.Linear(3072, 2048)\n",
        "        self.fc2 = nn.Linear(2048, 1024)\n",
        "        self.fc3 = nn.Linear(1024, 512)\n",
        "        self.fc4 = nn.Linear(512, 256)\n",
        "        self.fc5 = nn.Linear(256, 10)\n",
        "\n",
        "    def forward(self, x):\n",
        "        x = F.relu(self.fc1(x))\n",
        "        x = F.relu(self.fc2(x))\n",
        "        x = F.relu(self.fc3(x))\n",
        "        x = F.relu(self.fc4(x))\n",
        "        x = self.fc5(x)\n",
        "        return x\n"
      ],
      "metadata": {
        "id": "ePAtPJglQmDP"
      },
      "execution_count": 10,
      "outputs": []
    },
    {
      "cell_type": "code",
      "source": [
        "class SequentiaMymodel(nn.Module):\n",
        "    def __init__(self):\n",
        "        super().__init__()\n",
        "        self.linear_model = nn.Sequential(\n",
        "            nn.Linear(3072, 2048),\n",
        "            nn.ReLU(),\n",
        "            nn.Linear(2048, 1024),\n",
        "            nn.ReLU(),\n",
        "            nn.Linear(1024, 512),\n",
        "            nn.ReLU(),\n",
        "            nn.Linear(512, 256),\n",
        "            nn.ReLU(),\n",
        "            nn.Linear(256, 10)\n",
        "        )\n",
        "\n",
        "    def forward(self, x):\n",
        "        x = self.linear_model(x)\n",
        "        return x\n"
      ],
      "metadata": {
        "id": "yN1A0z5JRUoA"
      },
      "execution_count": 11,
      "outputs": []
    },
    {
      "cell_type": "code",
      "source": [
        "model = Mymodel()\n",
        "\n",
        "device = torch.device(\"cuda:0\" if torch.cuda.is_available() else \"cpu\")\n",
        "model.to(device)"
      ],
      "metadata": {
        "colab": {
          "base_uri": "https://localhost:8080/"
        },
        "id": "F36kurcQRveM",
        "outputId": "27cb379f-72e9-4ab6-e2bc-7c2ff8c30061"
      },
      "execution_count": 12,
      "outputs": [
        {
          "output_type": "execute_result",
          "data": {
            "text/plain": [
              "Mymodel(\n",
              "  (fc1): Linear(in_features=3072, out_features=2048, bias=True)\n",
              "  (fc2): Linear(in_features=2048, out_features=1024, bias=True)\n",
              "  (fc3): Linear(in_features=1024, out_features=512, bias=True)\n",
              "  (fc4): Linear(in_features=512, out_features=256, bias=True)\n",
              "  (fc5): Linear(in_features=256, out_features=10, bias=True)\n",
              ")"
            ]
          },
          "metadata": {},
          "execution_count": 12
        }
      ]
    },
    {
      "cell_type": "code",
      "source": [
        "import torch.optim as optim"
      ],
      "metadata": {
        "id": "lWu_fPh0SalQ"
      },
      "execution_count": 13,
      "outputs": []
    },
    {
      "cell_type": "code",
      "source": [
        "criterion = nn.CrossEntropyLoss()\n",
        "optimizer = optim.Adam(params = model.parameters())"
      ],
      "metadata": {
        "id": "Dzh1ECr1R6MV"
      },
      "execution_count": 14,
      "outputs": []
    },
    {
      "cell_type": "code",
      "source": [
        "EPOCH = 5"
      ],
      "metadata": {
        "id": "ZKgwoGzKSinc"
      },
      "execution_count": 15,
      "outputs": []
    },
    {
      "cell_type": "code",
      "source": [
        "train_loss_history = []\n",
        "val_loss_history = []\n",
        "for epoch in range(EPOCH):\n",
        "    train_loss = 0\n",
        "    val_loss = 0\n",
        "    total = 0\n",
        "    correct = 0\n",
        "    for i, data in enumerate(train_loader):\n",
        "        x, y = data\n",
        "        x = x.reshape(-1, 32*32*3) # flatten\n",
        "        x = x.to(device)\n",
        "        y = y.to(device)\n",
        "\n",
        "        optimizer.zero_grad() #gradient 초기화\n",
        "\n",
        "        y_pred = model(x)\n",
        "\n",
        "        loss = criterion(y_pred, y)\n",
        "\n",
        "        loss.backward() #backpropagation\n",
        "        optimizer.step() #update\n",
        "        \n",
        "        train_loss += loss.item()\n",
        "    train_loss/=len(train_loader)\n",
        "    train_loss_history.append(train_loss)\n",
        "\n",
        "    with torch.no_grad(): # val set 학습을 꺼둠\n",
        "        for i, data in enumerate(val_loader):\n",
        "            x, y = data\n",
        "            x = x.reshape(-1, 32*32*3) # flatten\n",
        "            x = x.to(device)\n",
        "            y = y.to(device)\n",
        "\n",
        "            output = model(x)\n",
        "            loss = criterion(output, y)\n",
        "\n",
        "            val_loss += loss.item()\n",
        "\n",
        "\n",
        "            _, pred = torch.max(output.data, 1)\n",
        "            total += y.size(0)\n",
        "            correct += (pred == y).sum().item()\n",
        "    val_loss /= len(val_loader)\n",
        "    val_loss_history.append(val_loss)\n",
        "    val_acc = 100 * correct / total\n",
        "    \n",
        "    print(f\"epoch {epoch} train loss {train_loss:.3f} val loss {val_loss:.3f}\")\n",
        "    print(f\"val acc {val_acc:.3f}\")\n",
        "    "
      ],
      "metadata": {
        "colab": {
          "base_uri": "https://localhost:8080/"
        },
        "id": "1SlpK39QS-N_",
        "outputId": "b8a27858-4a56-4791-c4ca-9b1860f30a50"
      },
      "execution_count": 17,
      "outputs": [
        {
          "output_type": "stream",
          "name": "stdout",
          "text": [
            "epoch 0 train loss 1.628 val loss 1.626\n",
            "val acc 43.390\n",
            "epoch 1 train loss 1.561 val loss 1.573\n",
            "val acc 45.860\n",
            "epoch 2 train loss 1.520 val loss 1.524\n",
            "val acc 46.970\n",
            "epoch 3 train loss 1.462 val loss 1.505\n",
            "val acc 46.550\n",
            "epoch 4 train loss 1.413 val loss 1.538\n",
            "val acc 46.750\n"
          ]
        }
      ]
    },
    {
      "cell_type": "code",
      "source": [
        "plt.plot(np.arange(epoch+1), train_loss_history, label='train_loss')\n",
        "plt.plot(np.arange(epoch+1), val_loss_history, label='val_loss')\n",
        "plt.legend()\n",
        "plt.show()"
      ],
      "metadata": {
        "colab": {
          "base_uri": "https://localhost:8080/",
          "height": 430
        },
        "id": "sGVAcea_YZg4",
        "outputId": "af8976f6-a104-4211-fb0f-16257c548d97"
      },
      "execution_count": 18,
      "outputs": [
        {
          "output_type": "display_data",
          "data": {
            "text/plain": [
              "<Figure size 640x480 with 1 Axes>"
            ],
            "image/png": "[encoded data removed]"
          },
          "metadata": {}
        }
      ]
    }
  ]
}