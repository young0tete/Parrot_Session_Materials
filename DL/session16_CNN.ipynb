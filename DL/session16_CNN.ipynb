{
  "nbformat": 4,
  "nbformat_minor": 0,
  "metadata": {
    "colab": {
      "provenance": [],
      "gpuType": "T4"
    },
    "kernelspec": {
      "name": "python3",
      "display_name": "Python 3"
    },
    "language_info": {
      "name": "python"
    },
    "accelerator": "GPU"
  },
  "cells": [
    {
      "cell_type": "code",
      "source": [
        "!nvidia-smi"
      ],
      "metadata": {
        "id": "FCijt85SHxOW",
        "colab": {
          "base_uri": "https://localhost:8080/"
        },
        "outputId": "5007ece1-f572-4e1f-a5e0-be5c342b1a03"
      },
      "execution_count": 1,
      "outputs": [
        {
          "output_type": "stream",
          "name": "stdout",
          "text": [
            "Tue May 30 15:47:23 2023       \n",
            "+-----------------------------------------------------------------------------+\n",
            "| NVIDIA-SMI 525.85.12    Driver Version: 525.85.12    CUDA Version: 12.0     |\n",
            "|-------------------------------+----------------------+----------------------+\n",
            "| GPU  Name        Persistence-M| Bus-Id        Disp.A | Volatile Uncorr. ECC |\n",
            "| Fan  Temp  Perf  Pwr:Usage/Cap|         Memory-Usage | GPU-Util  Compute M. |\n",
            "|                               |                      |               MIG M. |\n",
            "|===============================+======================+======================|\n",
            "|   0  Tesla T4            Off  | 00000000:00:04.0 Off |                    0 |\n",
            "| N/A   41C    P8    10W /  70W |      0MiB / 15360MiB |      0%      Default |\n",
            "|                               |                      |                  N/A |\n",
            "+-------------------------------+----------------------+----------------------+\n",
            "                                                                               \n",
            "+-----------------------------------------------------------------------------+\n",
            "| Processes:                                                                  |\n",
            "|  GPU   GI   CI        PID   Type   Process name                  GPU Memory |\n",
            "|        ID   ID                                                   Usage      |\n",
            "|=============================================================================|\n",
            "|  No running processes found                                                 |\n",
            "+-----------------------------------------------------------------------------+\n"
          ]
        }
      ]
    },
    {
      "cell_type": "code",
      "execution_count": 13,
      "metadata": {
        "id": "ayP0P7qzKv_b"
      },
      "outputs": [],
      "source": [
        "import torch #torch 자체\n",
        "import torch.nn as nn  #torch에서 network 성분 가져올때\n",
        "import torch.nn.functional as F #activation function등을 저장하고 있음 \n",
        "\n",
        "from torchsummary import summary\n",
        "import torch.optim as optim #나중에 다루자\n",
        "from torch.utils.data import DataLoader,random_split \n",
        "from torchvision import datasets, transforms  # dataset은 데이터셋 저장, transforms는 data augmentation기법에 사용\n",
        "from torchvision import utils\n",
        "\n",
        "import numpy as np\n",
        "import matplotlib.pyplot as plt"
      ]
    },
    {
      "cell_type": "code",
      "source": [
        "import torch.backends.cudnn as cudnn\n",
        "import random\n",
        "#파이토치의 랜덤시드 고정\n",
        "torch.manual_seed(0)\n",
        "torch.cuda.manual_seed(0)\n",
        "torch.cuda.manual_seed_all(0) # gpu 1개 이상일 때 \n",
        "\n",
        "# 넘파이 랜덤시드 고정\n",
        "np.random.seed(0)\n",
        "\n",
        "#CuDNN 랜덤시드 고정\n",
        "cudnn.benchmark = False\n",
        "cudnn.deterministic = True \n",
        "\n",
        "# 파이썬 랜덤시드 고정\n",
        "random.seed(0)"
      ],
      "metadata": {
        "id": "AlX-sBu1f4-M"
      },
      "execution_count": 4,
      "outputs": []
    },
    {
      "cell_type": "markdown",
      "source": [
        " ### Step 1) 데이터 불러오기 및 전처리 "
      ],
      "metadata": {
        "id": "Mu_OpVqzd-6d"
      }
    },
    {
      "cell_type": "code",
      "source": [
        "transform = transforms.Compose( #전처리에 사용됩니다 \n",
        "    [transforms.ToTensor(), #tensor 라는 것으로 바꿔주는데 pytorch 내부에서는 tensor만 가지고 연산합니다. 반드시 반드시 넣어줘야해요\n",
        "     transforms.Normalize((0.5, 0.5, 0.5), (0.5, 0.5, 0.5))] #normalize는 mean, std를 받아서 그것에 맞춰서 normalize해줍니다. \n",
        "     )"
      ],
      "metadata": {
        "id": "Q5No-y1ZLHb9"
      },
      "execution_count": 5,
      "outputs": []
    },
    {
      "cell_type": "code",
      "source": [
        "train_dataset = datasets.CIFAR10(root=\"../data\", train=True, download=True, transform=transform)\n",
        "test_dataset = datasets.CIFAR10(root=\"../data\", train=False, download=True, transform=transform)\n",
        "split = 0.2\n",
        "val=int(len(train_dataset)*split)\n",
        "train = int(len(train_dataset)*(1-split))\n",
        "train, valid = random_split(train_dataset,[train,val])\n",
        "print(len(train),len(valid))"
      ],
      "metadata": {
        "id": "JW53F1l8Lmu7",
        "outputId": "cda1d174-80ae-4cc0-ce4e-a94435925dba",
        "colab": {
          "base_uri": "https://localhost:8080/"
        }
      },
      "execution_count": 6,
      "outputs": [
        {
          "output_type": "stream",
          "name": "stdout",
          "text": [
            "Downloading https://www.cs.toronto.edu/~kriz/cifar-10-python.tar.gz to ../data/cifar-10-python.tar.gz\n"
          ]
        },
        {
          "output_type": "stream",
          "name": "stderr",
          "text": [
            "100%|██████████| 170498071/170498071 [00:05<00:00, 29648348.33it/s]\n"
          ]
        },
        {
          "output_type": "stream",
          "name": "stdout",
          "text": [
            "Extracting ../data/cifar-10-python.tar.gz to ../data\n",
            "Files already downloaded and verified\n",
            "40000 10000\n"
          ]
        }
      ]
    },
    {
      "cell_type": "code",
      "source": [
        "BATCH_SIZE = 64\n",
        "EPOCH = 10\n",
        "learning_rate = 0.001"
      ],
      "metadata": {
        "id": "GCBF0BqUF_wM"
      },
      "execution_count": 7,
      "outputs": []
    },
    {
      "cell_type": "code",
      "source": [
        "\n",
        "train_loader = DataLoader(train,batch_size=BATCH_SIZE,num_workers=2)\n",
        "valid_loader = DataLoader(valid,batch_size=BATCH_SIZE,num_workers=2) \n",
        "test_loader = DataLoader(test_dataset, batch_size=BATCH_SIZE)\n",
        "\n",
        "image, label = next(iter(train_loader))"
      ],
      "metadata": {
        "id": "sGFDLQXOMBZr"
      },
      "execution_count": 8,
      "outputs": []
    },
    {
      "cell_type": "markdown",
      "source": [
        "## 네트워크 생성\n",
        "### fc와 CNN을 비교해볼게요"
      ],
      "metadata": {
        "id": "Ix-rdu7zWHq5"
      }
    },
    {
      "cell_type": "code",
      "source": [
        "#nn의 module을 상속받아서 그 위에 layer를 쌓아올림\n",
        "#linear안에는 input, output sizef를 입력할 수 있습니다.\n",
        "class FC_Model(nn.Module):  #네트워크 구성 성분 입력\n",
        "    def __init__(self):\n",
        "        super().__init__()\n",
        "        self.flatten = nn.Flatten()\n",
        "        self.fc1 = nn.Linear(3072,2048)\n",
        "        self.fc2 = nn.Linear(2048,1024)\n",
        "        self.fc3 = nn.Linear(1024,512)\n",
        "        self.fc4 = nn.Linear(512,256)\n",
        "        self.fc5 = nn.Linear(256,10)\n",
        "\n",
        "    def forward(self,x):\n",
        "      x = self.flatten(x) #3*32*3 => 3072\n",
        "      x = F.relu(self.fc1(x))\n",
        "      x = F.relu(self.fc2(x))\n",
        "      x = F.relu(self.fc3(x))\n",
        "      x = F.relu(self.fc4(x))\n",
        "      x = self.fc5(x)\n",
        "      return x\n"
      ],
      "metadata": {
        "id": "YsQhrzqkMjZf"
      },
      "execution_count": 18,
      "outputs": []
    },
    {
      "cell_type": "markdown",
      "source": [
        "CNN을 직접 구성할 일이 많지는 않겠지만 구성해야한다면 현재 레이어의 out_channel과 다음 채널의in_channel을 맞춰줘야한다는 점을 기억해주세요"
      ],
      "metadata": {
        "id": "Mv7y2EDzWO3S"
      }
    },
    {
      "cell_type": "code",
      "source": [
        "class CNN_Model(nn.Module):\n",
        "    def __init__(self):\n",
        "        super().__init__()\n",
        "        self.conv1 = nn.Conv2d(in_channels=3,out_channels=16,kernel_size=5,padding='same')\n",
        "        self.conv2 = nn.Conv2d(in_channels=16,out_channels=32,kernel_size=5,padding='same')\n",
        "        self.pool1 = nn.MaxPool2d(kernel_size=2)\n",
        "        self.conv3 = nn.Conv2d(in_channels=32,out_channels=64,kernel_size=3,padding='same')\n",
        "        self.conv4 = nn.Conv2d(in_channels=64,out_channels=128,kernel_size=3,padding='same')\n",
        "        self.pool2 = nn.MaxPool2d(kernel_size=2)\n",
        "        self.conv5 = nn.Conv2d(in_channels=128,out_channels=128,kernel_size=3,padding='same')# 8*8*128\n",
        "        self.pool3 = nn.MaxPool2d(kernel_size=2) #4*4*128\n",
        "        self.flatten = nn.Flatten()\n",
        "        self.fc1 = nn.Linear(2048,256)\n",
        "        self.fc3 = nn.Linear(256,10)\n",
        "\n",
        "    def forward(self,x):\n",
        "      x = F.relu(self.conv1(x))\n",
        "      x = F.relu(self.conv2(x))\n",
        "      x = self.pool1(x)\n",
        "      x = F.relu(self.conv3(x))\n",
        "      x = F.relu(self.conv4(x))\n",
        "      x = self.pool2(x)\n",
        "      x = F.relu(self.conv5(x))\n",
        "      #x = F.relu(self.conv6(x))\n",
        "      x = self.pool3(x)\n",
        "      x = self.flatten(x)\n",
        "      x = F.relu(self.fc1(x))\n",
        "      x = self.fc3(x)\n",
        "      return x\n",
        " "
      ],
      "metadata": {
        "id": "cGzoDtLTgSDh"
      },
      "execution_count": 17,
      "outputs": []
    },
    {
      "cell_type": "code",
      "source": [
        "device = torch.device(\"cuda:0\" if torch.cuda.is_available() else \"cpu\")"
      ],
      "metadata": {
        "id": "wD-rYx-sguH9"
      },
      "execution_count": 14,
      "outputs": []
    },
    {
      "cell_type": "code",
      "source": [
        "fc_model = FC_Model()\n",
        "fc_model.to(device) #device로 보내줘야지 gpu를 사용합니다\n"
      ],
      "metadata": {
        "colab": {
          "base_uri": "https://localhost:8080/"
        },
        "id": "Mt2UVJBONCen",
        "outputId": "98eb8499-cfac-43d9-814d-ad0c3c8bc0ac"
      },
      "execution_count": 19,
      "outputs": [
        {
          "output_type": "execute_result",
          "data": {
            "text/plain": [
              "FC_Model(\n",
              "  (flatten): Flatten(start_dim=1, end_dim=-1)\n",
              "  (fc1): Linear(in_features=3072, out_features=2048, bias=True)\n",
              "  (fc2): Linear(in_features=2048, out_features=1024, bias=True)\n",
              "  (fc3): Linear(in_features=1024, out_features=512, bias=True)\n",
              "  (fc4): Linear(in_features=512, out_features=256, bias=True)\n",
              "  (fc5): Linear(in_features=256, out_features=10, bias=True)\n",
              ")"
            ]
          },
          "metadata": {},
          "execution_count": 19
        }
      ]
    },
    {
      "cell_type": "code",
      "source": [
        "summary(fc_model, input_size=(3,32,32))"
      ],
      "metadata": {
        "id": "2jr2tqkDRILj",
        "colab": {
          "base_uri": "https://localhost:8080/"
        },
        "outputId": "964865ef-231c-4c0d-bd35-492debc4a4fa"
      },
      "execution_count": 20,
      "outputs": [
        {
          "output_type": "stream",
          "name": "stdout",
          "text": [
            "----------------------------------------------------------------\n",
            "        Layer (type)               Output Shape         Param #\n",
            "================================================================\n",
            "           Flatten-1                 [-1, 3072]               0\n",
            "            Linear-2                 [-1, 2048]       6,293,504\n",
            "            Linear-3                 [-1, 1024]       2,098,176\n",
            "            Linear-4                  [-1, 512]         524,800\n",
            "            Linear-5                  [-1, 256]         131,328\n",
            "            Linear-6                   [-1, 10]           2,570\n",
            "================================================================\n",
            "Total params: 9,050,378\n",
            "Trainable params: 9,050,378\n",
            "Non-trainable params: 0\n",
            "----------------------------------------------------------------\n",
            "Input size (MB): 0.01\n",
            "Forward/backward pass size (MB): 0.05\n",
            "Params size (MB): 34.52\n",
            "Estimated Total Size (MB): 34.59\n",
            "----------------------------------------------------------------\n"
          ]
        }
      ]
    },
    {
      "cell_type": "code",
      "source": [
        "cnn_model = CNN_Model()\n",
        "cnn_model.to(device) #device로 보내줘야지 gpu를 사용합니다"
      ],
      "metadata": {
        "colab": {
          "base_uri": "https://localhost:8080/"
        },
        "id": "yka378Lrg2UN",
        "outputId": "933e1fc1-8bde-4ebd-c520-7d4a3a24caf3"
      },
      "execution_count": 21,
      "outputs": [
        {
          "output_type": "execute_result",
          "data": {
            "text/plain": [
              "CNN_Model(\n",
              "  (conv1): Conv2d(3, 16, kernel_size=(5, 5), stride=(1, 1), padding=same)\n",
              "  (conv2): Conv2d(16, 32, kernel_size=(5, 5), stride=(1, 1), padding=same)\n",
              "  (pool1): MaxPool2d(kernel_size=2, stride=2, padding=0, dilation=1, ceil_mode=False)\n",
              "  (conv3): Conv2d(32, 64, kernel_size=(3, 3), stride=(1, 1), padding=same)\n",
              "  (conv4): Conv2d(64, 128, kernel_size=(3, 3), stride=(1, 1), padding=same)\n",
              "  (pool2): MaxPool2d(kernel_size=2, stride=2, padding=0, dilation=1, ceil_mode=False)\n",
              "  (conv5): Conv2d(128, 128, kernel_size=(3, 3), stride=(1, 1), padding=same)\n",
              "  (pool3): MaxPool2d(kernel_size=2, stride=2, padding=0, dilation=1, ceil_mode=False)\n",
              "  (flatten): Flatten(start_dim=1, end_dim=-1)\n",
              "  (fc1): Linear(in_features=2048, out_features=256, bias=True)\n",
              "  (fc3): Linear(in_features=256, out_features=10, bias=True)\n",
              ")"
            ]
          },
          "metadata": {},
          "execution_count": 21
        }
      ]
    },
    {
      "cell_type": "code",
      "source": [
        "summary(cnn_model, input_size=(3,32,32))"
      ],
      "metadata": {
        "colab": {
          "base_uri": "https://localhost:8080/"
        },
        "id": "-FPDULvDhBwE",
        "outputId": "659aaa71-1a20-4825-db63-cac595ed3c03"
      },
      "execution_count": 22,
      "outputs": [
        {
          "output_type": "stream",
          "name": "stdout",
          "text": [
            "----------------------------------------------------------------\n",
            "        Layer (type)               Output Shape         Param #\n",
            "================================================================\n",
            "            Conv2d-1           [-1, 16, 32, 32]           1,216\n",
            "            Conv2d-2           [-1, 32, 32, 32]          12,832\n",
            "         MaxPool2d-3           [-1, 32, 16, 16]               0\n",
            "            Conv2d-4           [-1, 64, 16, 16]          18,496\n",
            "            Conv2d-5          [-1, 128, 16, 16]          73,856\n",
            "         MaxPool2d-6            [-1, 128, 8, 8]               0\n",
            "            Conv2d-7            [-1, 128, 8, 8]         147,584\n",
            "         MaxPool2d-8            [-1, 128, 4, 4]               0\n",
            "           Flatten-9                 [-1, 2048]               0\n",
            "           Linear-10                  [-1, 256]         524,544\n",
            "           Linear-11                   [-1, 10]           2,570\n",
            "================================================================\n",
            "Total params: 781,098\n",
            "Trainable params: 781,098\n",
            "Non-trainable params: 0\n",
            "----------------------------------------------------------------\n",
            "Input size (MB): 0.01\n",
            "Forward/backward pass size (MB): 0.97\n",
            "Params size (MB): 2.98\n",
            "Estimated Total Size (MB): 3.96\n",
            "----------------------------------------------------------------\n"
          ]
        }
      ]
    },
    {
      "cell_type": "markdown",
      "source": [
        "### Step 3) 손실 함수 (Loss) 및 업데이트 알고리즘 (Optimizer) 설정\n"
      ],
      "metadata": {
        "id": "0T6gq7k2est4"
      }
    },
    {
      "cell_type": "code",
      "source": [
        "criterion = nn.CrossEntropyLoss()\n",
        "fc_optimizer = optim.Adam(params=fc_model.parameters(), lr=learning_rate)\n",
        "cnn_optimizer = optim.Adam(params=cnn_model.parameters(), lr=learning_rate)"
      ],
      "metadata": {
        "id": "iv76bgqiW1GA"
      },
      "execution_count": 23,
      "outputs": []
    },
    {
      "cell_type": "code",
      "source": [
        "def trainer(model,EPOCH,criterion,optimizer): \n",
        "  train_loss_per_epoch = []\n",
        "  val_loss_per_epoch = []\n",
        "  val_acc_per_epoch = []\n",
        "  for epoch in range(EPOCH):  \n",
        "      train_loss = 0\n",
        "\n",
        "      for i, data in enumerate(train_loader):\n",
        "          # Batch에 해당하는 Data 추출\n",
        "          x, y_true = data #x는 input data에 해당 y_true는 label에\n",
        "          x = x.to(device) \n",
        "          y_true = y_true.to(device) \n",
        "\n",
        "          optimizer.zero_grad() #gradient 초기화\n",
        "          # 입력에 대한 결과 예측\n",
        "          y_pred = model(x)\n",
        "\n",
        "          # 예측값과 정답을 비교하여 손실함수의 값 계산\n",
        "          loss = criterion(y_pred, y_true) \n",
        "          # 손실함수의 값이 작아지는 방향으로 네트워크 업데이트\n",
        "          loss.backward() #back propagation\n",
        "          optimizer.step() #update\n",
        "          train_loss += loss.item() \n",
        "      train_loss /= len(train_loader)\n",
        "      train_loss_per_epoch.append(train_loss) #로깅용 running_loss epoch 당 loss 가지고 있음\n",
        "     \n",
        "      correct = 0\n",
        "      total = 0\n",
        "      val_loss = 0\n",
        "      with torch.no_grad(): #gradient tracking을 꺼버림\n",
        "          for i, data in enumerate(valid_loader):\n",
        "          #for i, (images,labels) in enumerate(valid_loader):\n",
        "              images,labels=data\n",
        "              images = images.to(device)\n",
        "              labels = labels.to(device)\n",
        "              outputs = model(images)\n",
        "              loss = criterion(outputs,labels)\n",
        "              val_loss += loss.item()\n",
        "              _, predicted = torch.max(outputs.data, 1)\n",
        "              total += labels.size(0)\n",
        "              correct += (predicted == labels).sum().item()\n",
        "              val_acc = 100 * correct / total\n",
        "\n",
        "      val_loss = val_loss / len(valid_loader)\n",
        "      val_loss_per_epoch.append(val_loss)\n",
        "      val_acc_per_epoch.append(val_acc)\n",
        "      print('Epoch {}, Train Loss: {}, Val Loss: {}, Val Acc: {}'.format(epoch, train_loss, val_loss, val_acc ))\n",
        "  return train_loss_per_epoch,val_loss_per_epoch, val_acc_per_epoch\n"
      ],
      "metadata": {
        "id": "6a-fQdNVYg00"
      },
      "execution_count": 24,
      "outputs": []
    },
    {
      "cell_type": "code",
      "source": [
        "fc_train_loss,fc_val_loss,fc_acc=trainer(fc_model,EPOCH,criterion,fc_optimizer) "
      ],
      "metadata": {
        "colab": {
          "base_uri": "https://localhost:8080/"
        },
        "id": "PzGl5M9aharw",
        "outputId": "d71d9be4-a759-4da0-bbb1-92ce783f2f15"
      },
      "execution_count": 25,
      "outputs": [
        {
          "output_type": "stream",
          "name": "stdout",
          "text": [
            "Epoch 0, Train Loss: 1.7378188682556153, Val Loss: 1.6146512775664117, Val Acc: 43.24\n",
            "Epoch 1, Train Loss: 1.5142559055328368, Val Loss: 1.5370530391195019, Val Acc: 46.86\n",
            "Epoch 2, Train Loss: 1.3813760405540467, Val Loss: 1.511747843900304, Val Acc: 48.35\n",
            "Epoch 3, Train Loss: 1.2692728721618651, Val Loss: 1.5509260095608461, Val Acc: 48.87\n",
            "Epoch 4, Train Loss: 1.1664115595817566, Val Loss: 1.5887089815868694, Val Acc: 49.19\n",
            "Epoch 5, Train Loss: 1.0763320740699769, Val Loss: 1.6975635183844597, Val Acc: 48.98\n",
            "Epoch 6, Train Loss: 0.9951661655426025, Val Loss: 1.7839197011510277, Val Acc: 49.06\n",
            "Epoch 7, Train Loss: 0.924976078414917, Val Loss: 1.8195081911269266, Val Acc: 49.31\n",
            "Epoch 8, Train Loss: 0.8481369026184082, Val Loss: 1.8608394754920037, Val Acc: 50.69\n",
            "Epoch 9, Train Loss: 0.7900261262893676, Val Loss: 1.9466004789255227, Val Acc: 50.11\n"
          ]
        }
      ]
    },
    {
      "cell_type": "code",
      "source": [
        "cnn_train_loss,cnn_val_loss,cnn_acc=trainer(cnn_model,EPOCH,criterion,cnn_optimizer) "
      ],
      "metadata": {
        "colab": {
          "base_uri": "https://localhost:8080/"
        },
        "id": "hMgcSp8UhxcP",
        "outputId": "0fc612bd-b851-4457-db5d-4e71a13ce08e"
      },
      "execution_count": 26,
      "outputs": [
        {
          "output_type": "stream",
          "name": "stdout",
          "text": [
            "Epoch 0, Train Loss: 1.5974242734909057, Val Loss: 1.2961501414608803, Val Acc: 53.05\n",
            "Epoch 1, Train Loss: 1.1188373949050903, Val Loss: 0.9984147765074566, Val Acc: 64.16\n",
            "Epoch 2, Train Loss: 0.8727431383132934, Val Loss: 0.9193018955789554, Val Acc: 68.44\n",
            "Epoch 3, Train Loss: 0.7142203017234803, Val Loss: 0.8745310401460927, Val Acc: 70.82\n",
            "Epoch 4, Train Loss: 0.6006489156484603, Val Loss: 0.9104962037627105, Val Acc: 70.58\n",
            "Epoch 5, Train Loss: 0.5138635891675949, Val Loss: 0.8974382528074228, Val Acc: 71.46\n",
            "Epoch 6, Train Loss: 0.4446763278007507, Val Loss: 0.9312199608535524, Val Acc: 71.86\n",
            "Epoch 7, Train Loss: 0.37864368382692337, Val Loss: 1.0964257743707888, Val Acc: 70.84\n",
            "Epoch 8, Train Loss: 0.3342874550104141, Val Loss: 1.141081060193906, Val Acc: 70.58\n",
            "Epoch 9, Train Loss: 0.27634807834625247, Val Loss: 1.2470720007920721, Val Acc: 70.17\n"
          ]
        }
      ]
    },
    {
      "cell_type": "markdown",
      "source": [
        "### Step 5) 성능평가 (Evaluation)"
      ],
      "metadata": {
        "id": "RSJ9gfHje97w"
      }
    },
    {
      "cell_type": "code",
      "source": [
        "def evaluation(model):\n",
        "  model.eval()\n",
        "  correct = 0\n",
        "  total = 0\n",
        "  with torch.no_grad():\n",
        "        for data in test_loader:\n",
        "            images, labels = data\n",
        "            images = images.to(device)\n",
        "            labels = labels.to(device)\n",
        "\n",
        "            outputs = model(images)\n",
        "            _, predicted = torch.max(outputs.data, 1)\n",
        "            total += labels.size(0)\n",
        "            correct += (predicted == labels).sum().item()\n",
        "\n",
        "        test_acc = 100 * correct / total\n",
        "            \n",
        "  return test_acc"
      ],
      "metadata": {
        "id": "g7CVYxkalXZk"
      },
      "execution_count": 27,
      "outputs": []
    },
    {
      "cell_type": "code",
      "source": [
        "print(evaluation(fc_model))"
      ],
      "metadata": {
        "colab": {
          "base_uri": "https://localhost:8080/"
        },
        "id": "HzeqvxDYy6lJ",
        "outputId": "fd6ac72c-f450-4452-cd36-7a83b29fe259"
      },
      "execution_count": 28,
      "outputs": [
        {
          "output_type": "stream",
          "name": "stdout",
          "text": [
            "50.87\n"
          ]
        }
      ]
    },
    {
      "cell_type": "code",
      "source": [
        "print(evaluation(cnn_model))"
      ],
      "metadata": {
        "colab": {
          "base_uri": "https://localhost:8080/"
        },
        "id": "8S8WbmPZnaBV",
        "outputId": "1e0f8ba9-f9b9-44fd-ae5e-96f2aca12534"
      },
      "execution_count": 29,
      "outputs": [
        {
          "output_type": "stream",
          "name": "stdout",
          "text": [
            "70.5\n"
          ]
        }
      ]
    },
    {
      "cell_type": "code",
      "source": [
        "def loss_visualization(EPOCH,train_loss_per_epoch,val_loss_per_epoch):\n",
        "  plt.title(\"val/train loss for epoch\")\n",
        "  plt.plot(np.arange(EPOCH),train_loss_per_epoch,label='train_loss')\n",
        "  plt.plot(np.arange(EPOCH),val_loss_per_epoch,label='val_loss')\n",
        "  plt.ylim([0, 2.5])\n",
        "  plt.legend()\n",
        "  plt.show()"
      ],
      "metadata": {
        "id": "tm4XjSg0Lfne"
      },
      "execution_count": 30,
      "outputs": []
    },
    {
      "cell_type": "code",
      "source": [
        "loss_visualization(EPOCH,fc_train_loss,fc_val_loss)"
      ],
      "metadata": {
        "colab": {
          "base_uri": "https://localhost:8080/",
          "height": 452
        },
        "id": "_1Xw4cUQni-o",
        "outputId": "92b47da1-a5d7-4fa3-ee85-f4b93dd59c91"
      },
      "execution_count": 31,
      "outputs": [
        {
          "output_type": "display_data",
          "data": {
            "text/plain": [
              "<Figure size 640x480 with 1 Axes>"
            ],
            "image/png": "[encoded data removed]"
          },
          "metadata": {}
        }
      ]
    },
    {
      "cell_type": "code",
      "source": [
        "loss_visualization(EPOCH,cnn_train_loss,cnn_val_loss)"
      ],
      "metadata": {
        "colab": {
          "base_uri": "https://localhost:8080/",
          "height": 452
        },
        "id": "IOcHlwcGnpL6",
        "outputId": "c30c4005-46a2-40b6-9972-0d46a240c8bd"
      },
      "execution_count": 32,
      "outputs": [
        {
          "output_type": "display_data",
          "data": {
            "text/plain": [
              "<Figure size 640x480 with 1 Axes>"
            ],
            "image/png": "[encoded data removed]"
          },
          "metadata": {}
        }
      ]
    },
    {
      "cell_type": "code",
      "source": [],
      "metadata": {
        "id": "631J-AnAYNeT"
      },
      "execution_count": null,
      "outputs": []
    }
  ]
}